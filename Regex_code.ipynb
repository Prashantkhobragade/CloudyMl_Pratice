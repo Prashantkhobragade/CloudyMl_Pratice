{
  "nbformat": 4,
  "nbformat_minor": 0,
  "metadata": {
    "colab": {
      "name": "Regex_code.ipynb",
      "provenance": [],
      "collapsed_sections": []
    },
    "kernelspec": {
      "name": "python3",
      "display_name": "Python 3"
    },
    "language_info": {
      "name": "python"
    }
  },
  "cells": [
    {
      "cell_type": "markdown",
      "source": [
        "**Regular Expression**\n",
        "\n",
        "\n",
        "Regular Expression – better known as Regex – is pattern matching. As regular expressions are regular, it means they are used to match well-defined patterns. Regular expression or pattern matching tools identify words and phrases with common patterns. A typical use case for Regex is find and replace, however as it is not able to understand syntax, grammar, or context, Regex solutions tend to operate on a very small well-defined problem set. Basically, Regex solutions are using pattern matching to merely identify similarities and differences in patterns of words and phrases. They are not able to identify words and phrases taking into consideration syntax, grammar and ultimately context. You will be facing some challenging questions on Regex in this assignment. \n",
        "\n",
        "Below following steps would help you to complete this assignment: \n",
        "1. Read the question \n",
        "2. Go to the link given under the question \n",
        "3. You will land on Hakerrank page, if not then create your Hakerrank account. \n",
        "4. Once you land on hankerank page mentioned under question, go through the given problem carefully. \n",
        "5. Solve it in the editor given in the page. Select python3 as your language in the editor and click 'Run Code' Button \n",
        "6. Once you have passed all the sample test cases, write your solution in this assignment against each question. \n",
        "\n",
        "If you need any assistence on Regex, then please refer below links: \n",
        "\n",
        "YouTube reference:https://www.youtube.com/watch?v=zN8rwVXwRUE\n",
        "\n",
        "Regex doc:https://docs.python.org/3/howto/regex.html "
      ],
      "metadata": {
        "id": "zitmYkeQ3tWz"
      }
    },
    {
      "cell_type": "markdown",
      "source": [
        "**Q1. Matching string problem**\n",
        "\n",
        "https://www.hackerrank.com/challenges/matching-specific-string/problem \n",
        "\n",
        "(https://www.hackerrank.com/challenges/matching-specific-string/problem)"
      ],
      "metadata": {
        "id": "WlSN_wkd5jAM"
      }
    },
    {
      "cell_type": "code",
      "source": [
        "import re"
      ],
      "metadata": {
        "id": "-XrbmDIv6HK7"
      },
      "execution_count": 9,
      "outputs": []
    },
    {
      "cell_type": "code",
      "source": [
        "Regex_Pattern = r'hackerrank'\t# Do not delete 'r'.\n",
        "\n",
        "Test_String = input()\n",
        "\n",
        "match = re.findall(Regex_Pattern, Test_String)\n",
        "\n",
        "print(\"Number of matches :\", len(match))"
      ],
      "metadata": {
        "colab": {
          "base_uri": "https://localhost:8080/"
        },
        "id": "H_qO27KB5rgd",
        "outputId": "a734e910-42fb-447f-f9e8-7bd1f65a7aa6"
      },
      "execution_count": 4,
      "outputs": [
        {
          "output_type": "stream",
          "name": "stdout",
          "text": [
            "The hackerrank team is on a mission to flatten the world by restructuring the DNA of every company on the planet. We rank programmers based on their coding skills, helping companies source great programmers and reduce the time to hire. As a result, we are revolutionizing the way companies discover and evaluate talented engineers. The hackerrank platform is the destination for the best engineers to hone their skills and companies to find top engineers.\n",
            "Number of matches : 2\n"
          ]
        }
      ]
    },
    {
      "cell_type": "markdown",
      "source": [
        "**Q2 Matching anything**\n",
        "\n",
        "link - https://www.hackerrank.com/challenges/matching-anything-but-new-line/problem"
      ],
      "metadata": {
        "id": "BJY3_k-h6yQR"
      }
    },
    {
      "cell_type": "code",
      "source": [
        "regex_pattern = r'[a-zA-Z0-9]+.[a-zA-Z0-9]+.[a-zA-Z0-9]+'\n",
        "\n",
        "test_string = input()\n",
        "\n",
        "match = re.match(regex_pattern, test_string) is not None\n",
        "\n",
        "print(str(match).lower())"
      ],
      "metadata": {
        "colab": {
          "base_uri": "https://localhost:8080/"
        },
        "id": "ACwtAW0U5886",
        "outputId": "a24b5dd6-a013-451c-b745-9586714cf4e5"
      },
      "execution_count": 7,
      "outputs": [
        {
          "output_type": "stream",
          "name": "stdout",
          "text": [
            "1123.456.abc.def\n",
            "true\n"
          ]
        }
      ]
    },
    {
      "cell_type": "markdown",
      "source": [
        "**Q3 Matching non digit character**\n",
        "\n",
        "link - https://www.hackerrank.com/challenges/matching-digits-non-digit-character/problem\n"
      ],
      "metadata": {
        "id": "bnLpqHUgBOjb"
      }
    },
    {
      "cell_type": "code",
      "source": [
        "Regex_Pattern = r\"\\d{2}\\D\\d{2}\\D\\d{4}\"\t# Do not delete 'r'.\n",
        "\n",
        "import re\n",
        "\n",
        "print(str(bool(re.search(Regex_Pattern, input()))).lower())"
      ],
      "metadata": {
        "colab": {
          "base_uri": "https://localhost:8080/"
        },
        "id": "ENVybw2QAwLc",
        "outputId": "c851d817-3d01-43cc-8878-4aea7e6db501"
      },
      "execution_count": 8,
      "outputs": [
        {
          "output_type": "stream",
          "name": "stdout",
          "text": [
            "06-11-2015\n",
            "true\n"
          ]
        }
      ]
    },
    {
      "cell_type": "markdown",
      "source": [
        "**Q4 matching whitespace - non whitespace**\n",
        "\n",
        "link - https://www.hackerrank.com/challenges/matching-whitespace-non-whitespace-character/problem?h_r=next-challenge&h_v=zen"
      ],
      "metadata": {
        "id": "JxeiNVtYCmfG"
      }
    },
    {
      "cell_type": "code",
      "source": [
        "Regex_Pattern = r\"\\S{2}\\s\\S{2}\\s\\S{2}\"\t# Do not delete 'r'.\n",
        "\n",
        "import re\n",
        "\n",
        "print(str(bool(re.search(Regex_Pattern, input()))).lower())"
      ],
      "metadata": {
        "colab": {
          "base_uri": "https://localhost:8080/"
        },
        "id": "zGzBi2ddCgpK",
        "outputId": "c5c5eba8-e69f-49b2-e76e-7247975ba8be"
      },
      "execution_count": 9,
      "outputs": [
        {
          "output_type": "stream",
          "name": "stdout",
          "text": [
            "12 11 15\n",
            "true\n"
          ]
        }
      ]
    },
    {
      "cell_type": "markdown",
      "source": [
        "**Q5 matching start end problem**\n",
        "\n",
        "link - https://www.hackerrank.com/challenges/matching-start-end/problem?h_r=next-challenge&h_v=zen&h_r=next-challenge&h_v=zen&h_r=next-challenge&h_v=zen\n",
        "\n"
      ],
      "metadata": {
        "id": "utAgGBvQDobf"
      }
    },
    {
      "cell_type": "code",
      "source": [
        "Regex_Pattern = r\"^\\d\\w{4}$\"\t# Do not delete 'r'.\n",
        "\n",
        "import re\n",
        "\n",
        "print(str(bool(re.search(Regex_Pattern, input()))).lower())"
      ],
      "metadata": {
        "colab": {
          "base_uri": "https://localhost:8080/"
        },
        "id": "qWZ97Qh2DgWB",
        "outputId": "6eb1a0d8-7a5f-472c-ec9b-1cbb76a9227a"
      },
      "execution_count": 12,
      "outputs": [
        {
          "output_type": "stream",
          "name": "stdout",
          "text": [
            "0qwer\n",
            "true\n"
          ]
        }
      ]
    },
    {
      "cell_type": "markdown",
      "source": [
        "**Q6 negative lookbehind**\n",
        "\n",
        "link - https://www.hackerrank.com/challenges/negative-lookbehind/problem\n",
        "\n"
      ],
      "metadata": {
        "id": "8q0sgfZ2F8Vb"
      }
    },
    {
      "cell_type": "code",
      "source": [
        "Regex_Pattern = r\"(?<![aeiouAEIOU]).\"\t# Do not delete 'r'.\n",
        "\n",
        "import re\n",
        "\n",
        "Test_String = input()\n",
        "\n",
        "match = re.findall(Regex_Pattern, Test_String)\n",
        "\n",
        "print(\"Number of matches :\", len(match))\n"
      ],
      "metadata": {
        "colab": {
          "base_uri": "https://localhost:8080/"
        },
        "id": "wQ05GTtwFbzf",
        "outputId": "13b15f5b-40ec-41bc-d583-da6613e4dd01"
      },
      "execution_count": 13,
      "outputs": [
        {
          "output_type": "stream",
          "name": "stdout",
          "text": [
            "lols\n",
            "Number of matches : 3\n"
          ]
        }
      ]
    },
    {
      "cell_type": "markdown",
      "source": [
        "**Q7 Html attribute problem**\n",
        "\n",
        "link - https://www.hackerrank.com/challenges/html-attributes/problem\n",
        "\n"
      ],
      "metadata": {
        "id": "XdKE1nw1Hbyz"
      }
    },
    {
      "cell_type": "code",
      "source": [
        ""
      ],
      "metadata": {
        "id": "78Puff9AHP-V"
      },
      "execution_count": null,
      "outputs": []
    },
    {
      "cell_type": "markdown",
      "source": [
        "**Q8 detect html tags**\n",
        "\n",
        "link - https://www.hackerrank.com/challenges/detect-html-tags/problem\n",
        "\n"
      ],
      "metadata": {
        "id": "RAyaJqtCJnsx"
      }
    },
    {
      "cell_type": "code",
      "source": [
        ""
      ],
      "metadata": {
        "id": "mFeNBhAVJwZv"
      },
      "execution_count": null,
      "outputs": []
    },
    {
      "cell_type": "markdown",
      "source": [
        "**Q9 final substring problem**\n",
        "\n",
        "link - https://www.hackerrank.com/challenges/find-substring/problem\n",
        "\n"
      ],
      "metadata": {
        "id": "pI5vHx0pJxcb"
      }
    },
    {
      "cell_type": "code",
      "source": [
        "\n",
        "n = int(input())\n",
        "text = \"\\n\".join(input() for _ in range(n))\n",
        "\n",
        "t = int(input())\n",
        "\n",
        "for _ in range(t):\n",
        "    print(len(re.findall(r'\\B(%s)\\B' % input().strip(), text)))"
      ],
      "metadata": {
        "colab": {
          "base_uri": "https://localhost:8080/"
        },
        "id": "cCxsxyY1J4cd",
        "outputId": "d077729b-bd10-49a4-d0b4-c88d2e254805"
      },
      "execution_count": 14,
      "outputs": [
        {
          "output_type": "stream",
          "name": "stdout",
          "text": [
            "1\n",
            "existing pessimist optimist this is\n",
            "1\n",
            "is\n",
            "3\n"
          ]
        }
      ]
    },
    {
      "cell_type": "markdown",
      "source": [
        "**Q 10 Alien username**\n",
        "\n",
        "link - https://www.hackerrank.com/challenges/alien-username/problem\n",
        "\n",
        "\n"
      ],
      "metadata": {
        "id": "poecwz9eJ6Cn"
      }
    },
    {
      "cell_type": "code",
      "source": [
        "n = int(input())\n",
        "for _ in range(n):\n",
        "  if re.match(\"^[_.]{1}[0-9]{1,}[a-zA-Z]{0,}[_]{0,1}$\", input()):\n",
        "    print('VALID')\n",
        "  else:\n",
        "   print('INVALID')"
      ],
      "metadata": {
        "colab": {
          "base_uri": "https://localhost:8080/"
        },
        "id": "nxBQgVXVKG3W",
        "outputId": "9c1d3c36-1079-4031-c1fd-74cdddce1028"
      },
      "execution_count": 5,
      "outputs": [
        {
          "output_type": "stream",
          "name": "stdout",
          "text": [
            "3\n",
            "_0898989811abced_\n",
            "VALID\n",
            "_abce\n",
            "INVALID\n",
            "_09090909abcD0\n",
            "INVALID\n"
          ]
        }
      ]
    },
    {
      "cell_type": "markdown",
      "source": [
        "**Q11 ip address validation**\n",
        "\n",
        "link - https://www.hackerrank.com/challenges/ip-address-validation/problem\n",
        "\n"
      ],
      "metadata": {
        "id": "ytFYlSTTKIFh"
      }
    },
    {
      "cell_type": "code",
      "source": [
        "n = int(input())\n",
        "s4 = ('^'+\"{v}\\.\"*3+\"{v}$\").format(v=\"(25[0-5]|2[0-4]\\d|[01]?\\d?\\d)\")\n",
        "s6 = ('^'+\"{v}:\"*7+\"{v}$\").format(v=\"[\\da-f]{1,4}\")\n",
        "ip4 = re.compile(s4)\n",
        "ip6 = re.compile(s6)\n",
        "\n",
        "while n:\n",
        "    s = input()\n",
        "    if ip4.match(s):\n",
        "        print(\"IPv4\")\n",
        "    elif ip6.match(s):\n",
        "        print(\"IPv6\")\n",
        "    else:\n",
        "        print(\"Neither\")\n",
        "    n-=1"
      ],
      "metadata": {
        "colab": {
          "base_uri": "https://localhost:8080/"
        },
        "id": "exk0Yg7PKSlK",
        "outputId": "b410d77d-06cd-4836-a92a-6a3d6f59f5f0"
      },
      "execution_count": 7,
      "outputs": [
        {
          "output_type": "stream",
          "name": "stdout",
          "text": [
            "2\n",
            "1050:1000:1000:a000:5:600:300c:326b\n",
            "IPv6\n",
            "22.231.113.164\n",
            "IPv4\n"
          ]
        }
      ]
    },
    {
      "cell_type": "markdown",
      "source": [
        "**Q 12 find a word problem**\n",
        "\n",
        "link - https://www.hackerrank.com/challenges/find-a-word/problem\n",
        "\n",
        "\n"
      ],
      "metadata": {
        "id": "JqBo6XVFKYXF"
      }
    },
    {
      "cell_type": "code",
      "source": [
        "sat = ''\n",
        "\n",
        "for _ in range(int(input())):\n",
        "  sat += input() + '\\n'\n",
        "\n",
        "for _ in range(int(input())):\n",
        "  wrd = input()\n",
        "  print(len(re.findall(rf'\\b{wrd}\\b', sat)))"
      ],
      "metadata": {
        "colab": {
          "base_uri": "https://localhost:8080/"
        },
        "id": "hxRSVrXKKdVg",
        "outputId": "8249e785-ab27-4d8f-9e76-51b6ae5e9903"
      },
      "execution_count": 8,
      "outputs": [
        {
          "output_type": "stream",
          "name": "stdout",
          "text": [
            "1\n",
            "foo bar (foo) bar foo-bar foo_bar foo'bar bar-foo bar, foo.\n",
            "1\n",
            "foo\n",
            "6\n"
          ]
        }
      ]
    },
    {
      "cell_type": "markdown",
      "source": [
        "**Q13 detect the email address**\n",
        "\n",
        "link - https://www.hackerrank.com/challenges/detect-the-email-addresses/problem\n",
        "\n"
      ],
      "metadata": {
        "id": "3dL-XYSo3Evw"
      }
    },
    {
      "cell_type": "code",
      "source": [
        "text_search = '''\n",
        "HackerRank is more than just a company\n",
        "    We are a tight group of hackers, bootstrappers, entrepreneurial thinkers and innovators. We are building an engaged community of problem solvers. Imagine the intelligence and value that a room would hold if it contained hackers/problem solvers from around the world? We're building this online.\n",
        "Hypothesis: Every hacker loves a particular type of challenge presented in a certain set of difficulty. If we build a large collection of real world challenges in different domains with an engaging interface, it is going to be incredible! Join us to create history.\n",
        "Available Positions\n",
        "Product Hacker product@hackerrank.com\n",
        "Challenge Curator\n",
        "Product Evangelist\n",
        "Product Designer\n",
        "Content Creator\n",
        "ACM World Finals Hacker\n",
        "Backend C++ Hacker\n",
        "Mail us at hackers@hackerrank.com to chat more. Or you can write to us at interviewstreet@hackerrank.com!\n",
        "HACKERRANK PERKS\n",
        "Working for a startup is hard work, but there are plenty of benefits of working for a small, fun, growing team.\n",
        "[Image] Perk: Get tools for the jobAll the Right ToolsWe know that everyone's perfect workspace is unique to them. We will get you set up with whatever equipment you need to start hacking - a new 15” Macbook Pro or iMac, or a computer of your choice plus a display if you need it. Additionally, if you require any software or other tools, we've got it covered.[Image] Perk: Flexible HoursFlexible HoursBecause we work so hard, we encourage our employees to keep flexible hours and don't require them to track their time. A morning scrum and open communication ensures that the job gets done on time, and we rely on the honor system so that you can work on your own pace.[Image] Perk: HealthcareWellness SupportTo work hard, you have to be healthy. We will cover your health, dental, and visual insurance with no wait period. That means instant benefits from the day you're hired.[Image] Perk: Choice of LocationLocation, Location, LocationWe are the first Indian company to be backed by Y-Combinator, and as a result we have a thriving office in Bangalore and a growing office in Mountain View, CA. Depending on your residency or visa status, we will get you situated in one of our two offices, both of which are located in the heart of their country's tech industry.[Image] Perk: Choice of LocationCreative SupportIf you have a cool side project that you want to launch, we will pay for EC2/heroku servers to get it off the ground. Side projects fuel creativity and learning, which are crucial to the HackerRank culture.\n",
        "CULTURE\n",
        "The culture of a startup is reflective of the founders’ DNA. Larry Page & Sergey Brin were PhD’s from Stanford and that’s why Google is filled with high scoring graders from top schools and is very hard to get in if you’re not a CS major. Similarly, the hacker culture at Facebook is inspired by Zuckerberg, a hacker, the design culture by Steve Jobs and so on.\n",
        "The adjective to describe the environment/founders here is relentless hardworkers. It might be a general trait of a startup but I’m pretty sure it’s a notch higher here and defines the culture. This is what has taken us this far. It’s not working in weekends or allnighters that count, but the effort that goes into building something intellectually engaging for hackers and making it fun is high.\n",
        "You’ll have to embrace randomness and chaos. There’s some level of discipline (eg: daily scrums) but only so much. We push boundaries everyday, stretch our limits but no one complains because there’s a feeling of doing something great at the end of the day, every single day.'''"
      ],
      "metadata": {
        "id": "7sFBjlTl24DD"
      },
      "execution_count": 10,
      "outputs": []
    },
    {
      "cell_type": "code",
      "source": [
        "pattern = re.compile(r'[\\w.]+@[\\w.]+\\w+')\n",
        "matches = pattern.findall(text_search)\n",
        "\n",
        "for match in matches:\n",
        "  print(match)"
      ],
      "metadata": {
        "colab": {
          "base_uri": "https://localhost:8080/"
        },
        "id": "knuvDWsFBsoT",
        "outputId": "bd4241b2-df6a-4b91-bedc-989896a4f515"
      },
      "execution_count": 11,
      "outputs": [
        {
          "output_type": "stream",
          "name": "stdout",
          "text": [
            "product@hackerrank.com\n",
            "hackers@hackerrank.com\n",
            "interviewstreet@hackerrank.com\n"
          ]
        }
      ]
    },
    {
      "cell_type": "markdown",
      "source": [
        "**Q14 detect the domain problem**\n",
        "\n",
        "link - https://www.hackerrank.com/challenges/detect-the-domain-name/problem\n",
        "\n"
      ],
      "metadata": {
        "id": "JhbaiJgQ3TIr"
      }
    },
    {
      "cell_type": "code",
      "source": [
        "\n",
        "HTML_markup = '''<div class=\"reflist\" style=\"list-style-type: decimal;\">\n",
        "<ol class=\"references\">\n",
        "<li id=\"cite_note-1\"><span class=\"mw-cite-backlink\"><b>^ [\"Train (noun)\"](http://www.askoxford.com/concise_oed/train?view=uk). <i>(definition – Compact OED)</i>. Oxford University Press<span class=\"reference-accessdate\">. Retrieved 2008-03-18</span>.</span><span title=\"ctx_ver=Z39.88-2004&rfr_id=info%3Asid%2Fen.wikipedia.org%3ATrain&rft.atitle=Train+%28noun%29&rft.genre=article&rft_id=http%3A%2F%2Fwww.askoxford.com%2Fconcise_oed%2Ftrain%3Fview%3Duk&rft.jtitle=%28definition+%E2%80%93+Compact+OED%29&rft.pub=Oxford+University+Press&rft_val_fmt=info%3Aofi%2Ffmt%3Akev%3Amtx%3Ajournal\" class=\"Z3988\"><span style=\"display:none;\"> </span></span></span></li>\n",
        "<li id=\"cite_note-2\"><span class=\"mw-cite-backlink\"><b>^</b></span> <span class=\"reference-text\"><span class=\"citation book\">Atchison, Topeka and Santa Fe Railway (1948). <i>Rules: Operating Department</i>. p. 7.</span><span title=\"ctx_ver=Z39.88-2004&rfr_id=info%3Asid%2Fen.wikipedia.org%3ATrain&rft.au=Atchison%2C+Topeka+and+Santa+Fe+Railway&rft.aulast=Atchison%2C+Topeka+and+Santa+Fe+Railway&rft.btitle=Rules%3A+Operating+Department&rft.date=1948&rft.genre=book&rft.pages=7&rft_val_fmt=info%3Aofi%2Ffmt%3Akev%3Amtx%3Abook\" class=\"Z3988\"><span style=\"display:none;\"> </span></span></span></li>\n",
        "<li id=\"cite_note-3\"><span class=\"mw-cite-backlink\"><b>^ [Hydrogen trains](http://www.hydrogencarsnow.com/blog2/index.php/hydrogen-vehicles/i-hear-the-hydrogen-train-a-comin-its-rolling-round-the-bend/)</span></li>\n",
        "<li id=\"cite_note-4\"><span class=\"mw-cite-backlink\"><b>^ [Vehicle Projects Inc. Fuel cell locomotive](http://www.bnsf.com/media/news/articles/2008/01/2008-01-09a.html)</span></li>\n",
        "<li id=\"cite_note-5\"><span class=\"mw-cite-backlink\"><b>^</b></span> <span class=\"reference-text\"><span class=\"citation book\">Central Japan Railway (2006). <i>Central Japan Railway Data Book 2006</i>. p. 16.</span><span title=\"ctx_ver=Z39.88-2004&rfr_id=info%3Asid%2Fen.wikipedia.org%3ATrain&rft.au=Central+Japan+Railway&rft.aulast=Central+Japan+Railway&rft.btitle=Central+Japan+Railway+Data+Book+2006&rft.date=2006&rft.genre=book&rft.pages=16&rft_val_fmt=info%3Aofi%2Ffmt%3Akev%3Amtx%3Abook\" class=\"Z3988\"><span style=\"display:none;\"> </span></span></span></li>\n",
        "<li id=\"cite_note-6\"><span class=\"mw-cite-backlink\"><b>^ [\"Overview Of the existing Mumbai Suburban Railway\"](http://web.archive.org/web/20080620033027/http://www.mrvc.indianrail.gov.in/overview.htm). _Official webpage of Mumbai Railway Vikas Corporation_. Archived from [the original](http://www.mrvc.indianrail.gov.in/overview.htm) on 2008-06-20<span class=\"reference-accessdate\">. Retrieved 2008-12-11</span>.</span><span title=\"ctx_ver=Z39.88-2004&rfr_id=info%3Asid%2Fen.wikipedia.org%3ATrain&rft.atitle=Overview+Of+the+existing+Mumbai+Suburban+Railway&rft.genre=article&rft_id=http%3A%2F%2Fwww.mrvc.indianrail.gov.in%2Foverview.htm&rft.jtitle=Official+webpage+of+Mumbai+Railway+Vikas+Corporation&rft_val_fmt=info%3Aofi%2Ffmt%3Akev%3Amtx%3Ajournal\" class=\"Z3988\"><span style=\"display:none;\"> </span></span></span></li>\n",
        "</ol>\n",
        "</div>'''"
      ],
      "metadata": {
        "id": "dFraMvvQ3aht"
      },
      "execution_count": 12,
      "outputs": []
    },
    {
      "cell_type": "code",
      "source": [
        "pattern = re.compile(r'(?:http://|https://)(?:www.|ww2.)?((?:[0-9a-zA-Z_\\.-]+)\\.[a-zA-Z]+)')\n",
        "matches = pattern.findall(HTML_markup)\n",
        "\n",
        "for match in matches:\n",
        "  print(match)"
      ],
      "metadata": {
        "colab": {
          "base_uri": "https://localhost:8080/"
        },
        "id": "XKSGJNRsFwBC",
        "outputId": "58a17592-788d-4614-f588-07d59c1c4d10"
      },
      "execution_count": 13,
      "outputs": [
        {
          "output_type": "stream",
          "name": "stdout",
          "text": [
            "askoxford.com\n",
            "hydrogencarsnow.com\n",
            "bnsf.com\n",
            "web.archive.org\n",
            "mrvc.indianrail.gov.in\n",
            "mrvc.indianrail.gov.in\n"
          ]
        }
      ]
    },
    {
      "cell_type": "markdown",
      "source": [
        "**Q15 ide challenge**\n",
        "\n",
        "link - https://www.hackerrank.com/challenges/ide-identifying-comments/problem\n",
        "\n",
        "\n"
      ],
      "metadata": {
        "id": "Thsx4K9n3bWE"
      }
    },
    {
      "cell_type": "code",
      "source": [
        "import sys"
      ],
      "metadata": {
        "id": "ittpNzgAHmr6"
      },
      "execution_count": 14,
      "outputs": []
    },
    {
      "cell_type": "code",
      "source": [
        "t = \"\\n\".join([i.strip() for i in sys.stdin])\n",
        "print(\"\\n\".join(re.findall(r\"//.*|/\\*[\\S\\s]*?\\*/\", t)))"
      ],
      "metadata": {
        "colab": {
          "base_uri": "https://localhost:8080/"
        },
        "id": "ghA9Oc4V3jLQ",
        "outputId": "7bed8562-dc3e-4710-e56e-ad5c91731cd6"
      },
      "execution_count": 15,
      "outputs": [
        {
          "output_type": "stream",
          "name": "stdout",
          "text": [
            "\n"
          ]
        }
      ]
    },
    {
      "cell_type": "markdown",
      "source": [
        "**Q16 programming language detection problem**\n",
        "\n",
        "link - https://www.hackerrank.com/challenges/programming-language-detection/problem\n",
        "\n"
      ],
      "metadata": {
        "id": "18COqbkQ3kMK"
      }
    },
    {
      "cell_type": "code",
      "source": [
        "src = ''.join(sys.stdin.readlines())\n",
        "\n",
        "if 'java' in src:\n",
        "    print(\"Java\")\n",
        "elif '#include' in src:\n",
        "    print(\"C\")\n",
        "else:\n",
        "    print('Python')"
      ],
      "metadata": {
        "colab": {
          "base_uri": "https://localhost:8080/"
        },
        "id": "ua8nH4_G3so6",
        "outputId": "ec7a806b-bafb-48ee-9084-65b604d2b024"
      },
      "execution_count": 16,
      "outputs": [
        {
          "output_type": "stream",
          "name": "stdout",
          "text": [
            "Python\n"
          ]
        }
      ]
    },
    {
      "cell_type": "markdown",
      "source": [
        "\n",
        "\n",
        "---\n",
        "\n",
        "\n",
        "\n",
        "---\n",
        "\n",
        "\n",
        "**\"Holly jolly\":) Congratulations! you have completed the REGEX assignment.**\n",
        "\n",
        "\n",
        "---\n",
        "\n"
      ],
      "metadata": {
        "id": "SF6GJCssIYC6"
      }
    }
  ]
}