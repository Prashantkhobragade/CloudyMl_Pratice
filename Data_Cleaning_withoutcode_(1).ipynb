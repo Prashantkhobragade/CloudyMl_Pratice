{
  "nbformat": 4,
  "nbformat_minor": 0,
  "metadata": {
    "colab": {
      "provenance": [],
      "collapsed_sections": [
        "4SgrLjyDkqhy"
      ]
    },
    "kernelspec": {
      "display_name": "Python 3",
      "language": "python",
      "name": "python3"
    },
    "language_info": {
      "codemirror_mode": {
        "name": "ipython",
        "version": 3
      },
      "file_extension": ".py",
      "mimetype": "text/x-python",
      "name": "python",
      "nbconvert_exporter": "python",
      "pygments_lexer": "ipython3",
      "version": "3.8.5"
    }
  },
  "cells": [
    {
      "cell_type": "markdown",
      "source": [
        "# <center><u>**`Data Cleaning`**</u></center>"
      ],
      "metadata": {
        "id": "rc6I3sagkqhR"
      }
    },
    {
      "cell_type": "markdown",
      "source": [
        " Data cleaning is a part of the process on a data science project.\n",
        " \n",
        "Data cleaning is the `process of fixing or removing incorrect, corrupted, incorrectly formatted, duplicate, or incomplete data `within a dataset.\n",
        "<br>\n",
        "When you clean your data, all outdated or incorrect information is gone – leaving you with the highest quality information for your analysis and model building."
      ],
      "metadata": {
        "id": "h9sXOHkckqhY"
      }
    },
    {
      "cell_type": "markdown",
      "source": [
        "<p style='text-align: right;'> 4 points</p>\n"
      ],
      "metadata": {
        "id": "p0qd3D0Lkqhc"
      }
    },
    {
      "cell_type": "code",
      "execution_count": null,
      "source": [
        "# ignore this code for now\n",
        "from IPython.display import YouTubeVideo\n",
        "\n",
        "YouTubeVideo('https://www.youtube.com/watch?v=XvNCSpIE9PE&list=PLsR_0x6BuM-F4Z72h5D1bjWEASL0_JlrF&index=4',width=600,height=300)"
      ],
      "outputs": [
        {
          "output_type": "execute_result",
          "data": {
            "text/plain": [
              "<IPython.lib.display.YouTubeVideo at 0x7fca4c8a5ad0>"
            ],
            "text/html": [
              "\n",
              "        <iframe\n",
              "            width=\"600\"\n",
              "            height=\"300\"\n",
              "            src=\"https://www.youtube.com/embed/https://www.youtube.com/watch?v=XvNCSpIE9PE&list=PLsR_0x6BuM-F4Z72h5D1bjWEASL0_JlrF&index=4\"\n",
              "            frameborder=\"0\"\n",
              "            allowfullscreen\n",
              "        ></iframe>\n",
              "        "
            ]
          },
          "metadata": {},
          "execution_count": 3
        }
      ],
      "metadata": {
        "colab": {
          "base_uri": "https://localhost:8080/",
          "height": 322
        },
        "id": "nVcPL89UuaKo",
        "outputId": "8030effa-e3b2-4116-d36d-231d4e2ec341"
      }
    },
    {
      "cell_type": "code",
      "execution_count": null,
      "source": [
        "# import pandas and numpy with alias pd and np respectively\n",
        "import pandas as pd\n",
        "import numpy as np"
      ],
      "outputs": [],
      "metadata": {
        "id": "wF_oQrRAkqhe"
      }
    },
    {
      "cell_type": "markdown",
      "source": [
        "Create a dataframe, d1 = pd.DataFrame( {‘Temperature’ : [1, np.nan, 3, 2, 3] ,’Humidity’ : [22, np.nan, 2 , np.nan, 20 ] })"
      ],
      "metadata": {
        "id": "7k4VuSAekqhe"
      }
    },
    {
      "cell_type": "code",
      "execution_count": null,
      "source": [
        "#create d1\n",
        "d1 = pd.DataFrame({'Temperature':[1,np.nan,3,2,3], 'Humidity':[22,np.nan,2,np.nan,20]})"
      ],
      "outputs": [],
      "metadata": {
        "id": "8fjpdGnskqhe"
      }
    },
    {
      "cell_type": "markdown",
      "source": [
        "print the dataframe d1"
      ],
      "metadata": {
        "id": "_6S2Agszkqhf"
      }
    },
    {
      "cell_type": "code",
      "execution_count": null,
      "source": [
        "#print d1\n",
        "d1"
      ],
      "outputs": [
        {
          "output_type": "execute_result",
          "data": {
            "text/plain": [
              "   Temperature  Humidity\n",
              "0          1.0      22.0\n",
              "1          NaN       NaN\n",
              "2          3.0       2.0\n",
              "3          2.0       NaN\n",
              "4          3.0      20.0"
            ],
            "text/html": [
              "\n",
              "  <div id=\"df-693b0ddf-4b9a-4e58-aefa-ed03b030d6ec\">\n",
              "    <div class=\"colab-df-container\">\n",
              "      <div>\n",
              "<style scoped>\n",
              "    .dataframe tbody tr th:only-of-type {\n",
              "        vertical-align: middle;\n",
              "    }\n",
              "\n",
              "    .dataframe tbody tr th {\n",
              "        vertical-align: top;\n",
              "    }\n",
              "\n",
              "    .dataframe thead th {\n",
              "        text-align: right;\n",
              "    }\n",
              "</style>\n",
              "<table border=\"1\" class=\"dataframe\">\n",
              "  <thead>\n",
              "    <tr style=\"text-align: right;\">\n",
              "      <th></th>\n",
              "      <th>Temperature</th>\n",
              "      <th>Humidity</th>\n",
              "    </tr>\n",
              "  </thead>\n",
              "  <tbody>\n",
              "    <tr>\n",
              "      <th>0</th>\n",
              "      <td>1.0</td>\n",
              "      <td>22.0</td>\n",
              "    </tr>\n",
              "    <tr>\n",
              "      <th>1</th>\n",
              "      <td>NaN</td>\n",
              "      <td>NaN</td>\n",
              "    </tr>\n",
              "    <tr>\n",
              "      <th>2</th>\n",
              "      <td>3.0</td>\n",
              "      <td>2.0</td>\n",
              "    </tr>\n",
              "    <tr>\n",
              "      <th>3</th>\n",
              "      <td>2.0</td>\n",
              "      <td>NaN</td>\n",
              "    </tr>\n",
              "    <tr>\n",
              "      <th>4</th>\n",
              "      <td>3.0</td>\n",
              "      <td>20.0</td>\n",
              "    </tr>\n",
              "  </tbody>\n",
              "</table>\n",
              "</div>\n",
              "      <button class=\"colab-df-convert\" onclick=\"convertToInteractive('df-693b0ddf-4b9a-4e58-aefa-ed03b030d6ec')\"\n",
              "              title=\"Convert this dataframe to an interactive table.\"\n",
              "              style=\"display:none;\">\n",
              "        \n",
              "  <svg xmlns=\"http://www.w3.org/2000/svg\" height=\"24px\"viewBox=\"0 0 24 24\"\n",
              "       width=\"24px\">\n",
              "    <path d=\"M0 0h24v24H0V0z\" fill=\"none\"/>\n",
              "    <path d=\"M18.56 5.44l.94 2.06.94-2.06 2.06-.94-2.06-.94-.94-2.06-.94 2.06-2.06.94zm-11 1L8.5 8.5l.94-2.06 2.06-.94-2.06-.94L8.5 2.5l-.94 2.06-2.06.94zm10 10l.94 2.06.94-2.06 2.06-.94-2.06-.94-.94-2.06-.94 2.06-2.06.94z\"/><path d=\"M17.41 7.96l-1.37-1.37c-.4-.4-.92-.59-1.43-.59-.52 0-1.04.2-1.43.59L10.3 9.45l-7.72 7.72c-.78.78-.78 2.05 0 2.83L4 21.41c.39.39.9.59 1.41.59.51 0 1.02-.2 1.41-.59l7.78-7.78 2.81-2.81c.8-.78.8-2.07 0-2.86zM5.41 20L4 18.59l7.72-7.72 1.47 1.35L5.41 20z\"/>\n",
              "  </svg>\n",
              "      </button>\n",
              "      \n",
              "  <style>\n",
              "    .colab-df-container {\n",
              "      display:flex;\n",
              "      flex-wrap:wrap;\n",
              "      gap: 12px;\n",
              "    }\n",
              "\n",
              "    .colab-df-convert {\n",
              "      background-color: #E8F0FE;\n",
              "      border: none;\n",
              "      border-radius: 50%;\n",
              "      cursor: pointer;\n",
              "      display: none;\n",
              "      fill: #1967D2;\n",
              "      height: 32px;\n",
              "      padding: 0 0 0 0;\n",
              "      width: 32px;\n",
              "    }\n",
              "\n",
              "    .colab-df-convert:hover {\n",
              "      background-color: #E2EBFA;\n",
              "      box-shadow: 0px 1px 2px rgba(60, 64, 67, 0.3), 0px 1px 3px 1px rgba(60, 64, 67, 0.15);\n",
              "      fill: #174EA6;\n",
              "    }\n",
              "\n",
              "    [theme=dark] .colab-df-convert {\n",
              "      background-color: #3B4455;\n",
              "      fill: #D2E3FC;\n",
              "    }\n",
              "\n",
              "    [theme=dark] .colab-df-convert:hover {\n",
              "      background-color: #434B5C;\n",
              "      box-shadow: 0px 1px 3px 1px rgba(0, 0, 0, 0.15);\n",
              "      filter: drop-shadow(0px 1px 2px rgba(0, 0, 0, 0.3));\n",
              "      fill: #FFFFFF;\n",
              "    }\n",
              "  </style>\n",
              "\n",
              "      <script>\n",
              "        const buttonEl =\n",
              "          document.querySelector('#df-693b0ddf-4b9a-4e58-aefa-ed03b030d6ec button.colab-df-convert');\n",
              "        buttonEl.style.display =\n",
              "          google.colab.kernel.accessAllowed ? 'block' : 'none';\n",
              "\n",
              "        async function convertToInteractive(key) {\n",
              "          const element = document.querySelector('#df-693b0ddf-4b9a-4e58-aefa-ed03b030d6ec');\n",
              "          const dataTable =\n",
              "            await google.colab.kernel.invokeFunction('convertToInteractive',\n",
              "                                                     [key], {});\n",
              "          if (!dataTable) return;\n",
              "\n",
              "          const docLinkHtml = 'Like what you see? Visit the ' +\n",
              "            '<a target=\"_blank\" href=https://colab.research.google.com/notebooks/data_table.ipynb>data table notebook</a>'\n",
              "            + ' to learn more about interactive tables.';\n",
              "          element.innerHTML = '';\n",
              "          dataTable['output_type'] = 'display_data';\n",
              "          await google.colab.output.renderOutput(dataTable, element);\n",
              "          const docLink = document.createElement('div');\n",
              "          docLink.innerHTML = docLinkHtml;\n",
              "          element.appendChild(docLink);\n",
              "        }\n",
              "      </script>\n",
              "    </div>\n",
              "  </div>\n",
              "  "
            ]
          },
          "metadata": {},
          "execution_count": 6
        }
      ],
      "metadata": {
        "colab": {
          "base_uri": "https://localhost:8080/",
          "height": 206
        },
        "id": "fauZD3xnkqhf",
        "outputId": "42642101-2587-484a-a2f4-60693bafb27a"
      }
    },
    {
      "cell_type": "code",
      "execution_count": null,
      "source": [
        "YouTubeVideo('https://www.youtube.com/watch?v=7Q_KoX3vAZ8&list=PLsR_0x6BuM-F4Z72h5D1bjWEASL0_JlrF&index=3',width=600,height=300)"
      ],
      "outputs": [
        {
          "output_type": "execute_result",
          "data": {
            "text/plain": [
              "<IPython.lib.display.YouTubeVideo at 0x7fca4c4243d0>"
            ],
            "text/html": [
              "\n",
              "        <iframe\n",
              "            width=\"600\"\n",
              "            height=\"300\"\n",
              "            src=\"https://www.youtube.com/embed/https://www.youtube.com/watch?v=7Q_KoX3vAZ8&list=PLsR_0x6BuM-F4Z72h5D1bjWEASL0_JlrF&index=3\"\n",
              "            frameborder=\"0\"\n",
              "            allowfullscreen\n",
              "        ></iframe>\n",
              "        "
            ]
          },
          "metadata": {},
          "execution_count": 7
        }
      ],
      "metadata": {
        "colab": {
          "base_uri": "https://localhost:8080/",
          "height": 322
        },
        "id": "41bVcDYbuaKx",
        "outputId": "2e70b312-61a5-4914-b94f-c12d803807ae"
      }
    },
    {
      "cell_type": "markdown",
      "source": [
        "Find whether the given dataframe contain any missing values? "
      ],
      "metadata": {
        "id": "PIvW5svikqhg"
      }
    },
    {
      "cell_type": "code",
      "execution_count": null,
      "source": [
        "#check for null\n",
        "d1.isnull()"
      ],
      "outputs": [
        {
          "output_type": "execute_result",
          "data": {
            "text/plain": [
              "   Temperature  Humidity\n",
              "0        False     False\n",
              "1         True      True\n",
              "2        False     False\n",
              "3        False      True\n",
              "4        False     False"
            ],
            "text/html": [
              "\n",
              "  <div id=\"df-c36737c5-e97d-4c26-b011-9eee43dc8984\">\n",
              "    <div class=\"colab-df-container\">\n",
              "      <div>\n",
              "<style scoped>\n",
              "    .dataframe tbody tr th:only-of-type {\n",
              "        vertical-align: middle;\n",
              "    }\n",
              "\n",
              "    .dataframe tbody tr th {\n",
              "        vertical-align: top;\n",
              "    }\n",
              "\n",
              "    .dataframe thead th {\n",
              "        text-align: right;\n",
              "    }\n",
              "</style>\n",
              "<table border=\"1\" class=\"dataframe\">\n",
              "  <thead>\n",
              "    <tr style=\"text-align: right;\">\n",
              "      <th></th>\n",
              "      <th>Temperature</th>\n",
              "      <th>Humidity</th>\n",
              "    </tr>\n",
              "  </thead>\n",
              "  <tbody>\n",
              "    <tr>\n",
              "      <th>0</th>\n",
              "      <td>False</td>\n",
              "      <td>False</td>\n",
              "    </tr>\n",
              "    <tr>\n",
              "      <th>1</th>\n",
              "      <td>True</td>\n",
              "      <td>True</td>\n",
              "    </tr>\n",
              "    <tr>\n",
              "      <th>2</th>\n",
              "      <td>False</td>\n",
              "      <td>False</td>\n",
              "    </tr>\n",
              "    <tr>\n",
              "      <th>3</th>\n",
              "      <td>False</td>\n",
              "      <td>True</td>\n",
              "    </tr>\n",
              "    <tr>\n",
              "      <th>4</th>\n",
              "      <td>False</td>\n",
              "      <td>False</td>\n",
              "    </tr>\n",
              "  </tbody>\n",
              "</table>\n",
              "</div>\n",
              "      <button class=\"colab-df-convert\" onclick=\"convertToInteractive('df-c36737c5-e97d-4c26-b011-9eee43dc8984')\"\n",
              "              title=\"Convert this dataframe to an interactive table.\"\n",
              "              style=\"display:none;\">\n",
              "        \n",
              "  <svg xmlns=\"http://www.w3.org/2000/svg\" height=\"24px\"viewBox=\"0 0 24 24\"\n",
              "       width=\"24px\">\n",
              "    <path d=\"M0 0h24v24H0V0z\" fill=\"none\"/>\n",
              "    <path d=\"M18.56 5.44l.94 2.06.94-2.06 2.06-.94-2.06-.94-.94-2.06-.94 2.06-2.06.94zm-11 1L8.5 8.5l.94-2.06 2.06-.94-2.06-.94L8.5 2.5l-.94 2.06-2.06.94zm10 10l.94 2.06.94-2.06 2.06-.94-2.06-.94-.94-2.06-.94 2.06-2.06.94z\"/><path d=\"M17.41 7.96l-1.37-1.37c-.4-.4-.92-.59-1.43-.59-.52 0-1.04.2-1.43.59L10.3 9.45l-7.72 7.72c-.78.78-.78 2.05 0 2.83L4 21.41c.39.39.9.59 1.41.59.51 0 1.02-.2 1.41-.59l7.78-7.78 2.81-2.81c.8-.78.8-2.07 0-2.86zM5.41 20L4 18.59l7.72-7.72 1.47 1.35L5.41 20z\"/>\n",
              "  </svg>\n",
              "      </button>\n",
              "      \n",
              "  <style>\n",
              "    .colab-df-container {\n",
              "      display:flex;\n",
              "      flex-wrap:wrap;\n",
              "      gap: 12px;\n",
              "    }\n",
              "\n",
              "    .colab-df-convert {\n",
              "      background-color: #E8F0FE;\n",
              "      border: none;\n",
              "      border-radius: 50%;\n",
              "      cursor: pointer;\n",
              "      display: none;\n",
              "      fill: #1967D2;\n",
              "      height: 32px;\n",
              "      padding: 0 0 0 0;\n",
              "      width: 32px;\n",
              "    }\n",
              "\n",
              "    .colab-df-convert:hover {\n",
              "      background-color: #E2EBFA;\n",
              "      box-shadow: 0px 1px 2px rgba(60, 64, 67, 0.3), 0px 1px 3px 1px rgba(60, 64, 67, 0.15);\n",
              "      fill: #174EA6;\n",
              "    }\n",
              "\n",
              "    [theme=dark] .colab-df-convert {\n",
              "      background-color: #3B4455;\n",
              "      fill: #D2E3FC;\n",
              "    }\n",
              "\n",
              "    [theme=dark] .colab-df-convert:hover {\n",
              "      background-color: #434B5C;\n",
              "      box-shadow: 0px 1px 3px 1px rgba(0, 0, 0, 0.15);\n",
              "      filter: drop-shadow(0px 1px 2px rgba(0, 0, 0, 0.3));\n",
              "      fill: #FFFFFF;\n",
              "    }\n",
              "  </style>\n",
              "\n",
              "      <script>\n",
              "        const buttonEl =\n",
              "          document.querySelector('#df-c36737c5-e97d-4c26-b011-9eee43dc8984 button.colab-df-convert');\n",
              "        buttonEl.style.display =\n",
              "          google.colab.kernel.accessAllowed ? 'block' : 'none';\n",
              "\n",
              "        async function convertToInteractive(key) {\n",
              "          const element = document.querySelector('#df-c36737c5-e97d-4c26-b011-9eee43dc8984');\n",
              "          const dataTable =\n",
              "            await google.colab.kernel.invokeFunction('convertToInteractive',\n",
              "                                                     [key], {});\n",
              "          if (!dataTable) return;\n",
              "\n",
              "          const docLinkHtml = 'Like what you see? Visit the ' +\n",
              "            '<a target=\"_blank\" href=https://colab.research.google.com/notebooks/data_table.ipynb>data table notebook</a>'\n",
              "            + ' to learn more about interactive tables.';\n",
              "          element.innerHTML = '';\n",
              "          dataTable['output_type'] = 'display_data';\n",
              "          await google.colab.output.renderOutput(dataTable, element);\n",
              "          const docLink = document.createElement('div');\n",
              "          docLink.innerHTML = docLinkHtml;\n",
              "          element.appendChild(docLink);\n",
              "        }\n",
              "      </script>\n",
              "    </div>\n",
              "  </div>\n",
              "  "
            ]
          },
          "metadata": {},
          "execution_count": 8
        }
      ],
      "metadata": {
        "colab": {
          "base_uri": "https://localhost:8080/",
          "height": 206
        },
        "id": "lJ3MiNk-kqhg",
        "outputId": "d9995caa-051d-4e06-f3b6-e530780721d7"
      }
    },
    {
      "cell_type": "markdown",
      "source": [
        "How many missing values does each column have?"
      ],
      "metadata": {
        "id": "1mR6mwjZkqhg"
      }
    },
    {
      "cell_type": "code",
      "execution_count": null,
      "source": [
        "#total null\n",
        "d1.isnull().sum()"
      ],
      "outputs": [
        {
          "output_type": "execute_result",
          "data": {
            "text/plain": [
              "Temperature    1\n",
              "Humidity       2\n",
              "dtype: int64"
            ]
          },
          "metadata": {},
          "execution_count": 9
        }
      ],
      "metadata": {
        "colab": {
          "base_uri": "https://localhost:8080/"
        },
        "id": "GuttaqhSkqhg",
        "outputId": "f89017aa-c551-4417-9d9b-73c01df9b84c"
      }
    },
    {
      "cell_type": "code",
      "execution_count": null,
      "source": [
        "YouTubeVideo('https://www.youtube.com/watch?v=C0hO3FiYxlk&list=PLsR_0x6BuM-F4Z72h5D1bjWEASL0_JlrF&index=2',width=600,height=300)"
      ],
      "outputs": [
        {
          "output_type": "execute_result",
          "data": {
            "text/plain": [
              "<IPython.lib.display.YouTubeVideo at 0x7fca4c42dd90>"
            ],
            "text/html": [
              "\n",
              "        <iframe\n",
              "            width=\"600\"\n",
              "            height=\"300\"\n",
              "            src=\"https://www.youtube.com/embed/https://www.youtube.com/watch?v=C0hO3FiYxlk&list=PLsR_0x6BuM-F4Z72h5D1bjWEASL0_JlrF&index=2\"\n",
              "            frameborder=\"0\"\n",
              "            allowfullscreen\n",
              "        ></iframe>\n",
              "        "
            ]
          },
          "metadata": {},
          "execution_count": 10
        }
      ],
      "metadata": {
        "colab": {
          "base_uri": "https://localhost:8080/",
          "height": 322
        },
        "id": "42yhyn30uaKv",
        "outputId": "2a449f81-48d6-48f3-e699-9f0d1e9d7b5b"
      }
    },
    {
      "cell_type": "markdown",
      "source": [
        "## **`Dealing with missing values`**\n",
        "<br>Now, we know we have missing values, the next thing that we need to work on, is how to deal with these missing values"
      ],
      "metadata": {
        "id": "RdJX6nKdkqhh"
      }
    },
    {
      "cell_type": "code",
      "execution_count": null,
      "source": [
        "YouTubeVideo('https://www.youtube.com/watch?v=p-w5QbfWpHU&list=PLsR_0x6BuM-F4Z72h5D1bjWEASL0_JlrF&index=1',width=600,height=300)"
      ],
      "outputs": [
        {
          "output_type": "execute_result",
          "data": {
            "text/plain": [
              "<IPython.lib.display.YouTubeVideo at 0x7fca4c4379d0>"
            ],
            "text/html": [
              "\n",
              "        <iframe\n",
              "            width=\"600\"\n",
              "            height=\"300\"\n",
              "            src=\"https://www.youtube.com/embed/https://www.youtube.com/watch?v=p-w5QbfWpHU&list=PLsR_0x6BuM-F4Z72h5D1bjWEASL0_JlrF&index=1\"\n",
              "            frameborder=\"0\"\n",
              "            allowfullscreen\n",
              "        ></iframe>\n",
              "        "
            ]
          },
          "metadata": {},
          "execution_count": 11
        }
      ],
      "metadata": {
        "colab": {
          "base_uri": "https://localhost:8080/",
          "height": 322
        },
        "id": "BnD0mFA1uaKy",
        "outputId": "b05e4302-1bb0-4933-c851-076939be6c20"
      }
    },
    {
      "cell_type": "markdown",
      "source": [
        "## **`Method 1: Delete the rows which contain missing values.`**\n",
        " This method include dropping all the rows that have missing value in any column. "
      ],
      "metadata": {
        "id": "5iYTalWckqhh"
      }
    },
    {
      "cell_type": "markdown",
      "source": [
        " <p style='text-align: right;'> 20 points</p>"
      ],
      "metadata": {
        "id": "D5OwrlkXkqhh"
      }
    },
    {
      "cell_type": "markdown",
      "source": [
        "Use a suitable method to drop all the rows having missing values and save the change in d2 variable"
      ],
      "metadata": {
        "id": "sB425bYFkqhh"
      }
    },
    {
      "cell_type": "code",
      "execution_count": null,
      "source": [
        "#drop nan\n",
        "d2 = d1.dropna()"
      ],
      "outputs": [],
      "metadata": {
        "id": "ms-0jJZpkqhh"
      }
    },
    {
      "cell_type": "markdown",
      "source": [
        "Print d2"
      ],
      "metadata": {
        "id": "uvJFaJ8bkqhi"
      }
    },
    {
      "cell_type": "code",
      "execution_count": null,
      "source": [
        "#print nan\n",
        "d2"
      ],
      "outputs": [
        {
          "output_type": "execute_result",
          "data": {
            "text/plain": [
              "   Temperature  Humidity\n",
              "0          1.0      22.0\n",
              "2          3.0       2.0\n",
              "4          3.0      20.0"
            ],
            "text/html": [
              "\n",
              "  <div id=\"df-8f7a0117-a4e1-4a7e-b7bf-5971a9263c81\">\n",
              "    <div class=\"colab-df-container\">\n",
              "      <div>\n",
              "<style scoped>\n",
              "    .dataframe tbody tr th:only-of-type {\n",
              "        vertical-align: middle;\n",
              "    }\n",
              "\n",
              "    .dataframe tbody tr th {\n",
              "        vertical-align: top;\n",
              "    }\n",
              "\n",
              "    .dataframe thead th {\n",
              "        text-align: right;\n",
              "    }\n",
              "</style>\n",
              "<table border=\"1\" class=\"dataframe\">\n",
              "  <thead>\n",
              "    <tr style=\"text-align: right;\">\n",
              "      <th></th>\n",
              "      <th>Temperature</th>\n",
              "      <th>Humidity</th>\n",
              "    </tr>\n",
              "  </thead>\n",
              "  <tbody>\n",
              "    <tr>\n",
              "      <th>0</th>\n",
              "      <td>1.0</td>\n",
              "      <td>22.0</td>\n",
              "    </tr>\n",
              "    <tr>\n",
              "      <th>2</th>\n",
              "      <td>3.0</td>\n",
              "      <td>2.0</td>\n",
              "    </tr>\n",
              "    <tr>\n",
              "      <th>4</th>\n",
              "      <td>3.0</td>\n",
              "      <td>20.0</td>\n",
              "    </tr>\n",
              "  </tbody>\n",
              "</table>\n",
              "</div>\n",
              "      <button class=\"colab-df-convert\" onclick=\"convertToInteractive('df-8f7a0117-a4e1-4a7e-b7bf-5971a9263c81')\"\n",
              "              title=\"Convert this dataframe to an interactive table.\"\n",
              "              style=\"display:none;\">\n",
              "        \n",
              "  <svg xmlns=\"http://www.w3.org/2000/svg\" height=\"24px\"viewBox=\"0 0 24 24\"\n",
              "       width=\"24px\">\n",
              "    <path d=\"M0 0h24v24H0V0z\" fill=\"none\"/>\n",
              "    <path d=\"M18.56 5.44l.94 2.06.94-2.06 2.06-.94-2.06-.94-.94-2.06-.94 2.06-2.06.94zm-11 1L8.5 8.5l.94-2.06 2.06-.94-2.06-.94L8.5 2.5l-.94 2.06-2.06.94zm10 10l.94 2.06.94-2.06 2.06-.94-2.06-.94-.94-2.06-.94 2.06-2.06.94z\"/><path d=\"M17.41 7.96l-1.37-1.37c-.4-.4-.92-.59-1.43-.59-.52 0-1.04.2-1.43.59L10.3 9.45l-7.72 7.72c-.78.78-.78 2.05 0 2.83L4 21.41c.39.39.9.59 1.41.59.51 0 1.02-.2 1.41-.59l7.78-7.78 2.81-2.81c.8-.78.8-2.07 0-2.86zM5.41 20L4 18.59l7.72-7.72 1.47 1.35L5.41 20z\"/>\n",
              "  </svg>\n",
              "      </button>\n",
              "      \n",
              "  <style>\n",
              "    .colab-df-container {\n",
              "      display:flex;\n",
              "      flex-wrap:wrap;\n",
              "      gap: 12px;\n",
              "    }\n",
              "\n",
              "    .colab-df-convert {\n",
              "      background-color: #E8F0FE;\n",
              "      border: none;\n",
              "      border-radius: 50%;\n",
              "      cursor: pointer;\n",
              "      display: none;\n",
              "      fill: #1967D2;\n",
              "      height: 32px;\n",
              "      padding: 0 0 0 0;\n",
              "      width: 32px;\n",
              "    }\n",
              "\n",
              "    .colab-df-convert:hover {\n",
              "      background-color: #E2EBFA;\n",
              "      box-shadow: 0px 1px 2px rgba(60, 64, 67, 0.3), 0px 1px 3px 1px rgba(60, 64, 67, 0.15);\n",
              "      fill: #174EA6;\n",
              "    }\n",
              "\n",
              "    [theme=dark] .colab-df-convert {\n",
              "      background-color: #3B4455;\n",
              "      fill: #D2E3FC;\n",
              "    }\n",
              "\n",
              "    [theme=dark] .colab-df-convert:hover {\n",
              "      background-color: #434B5C;\n",
              "      box-shadow: 0px 1px 3px 1px rgba(0, 0, 0, 0.15);\n",
              "      filter: drop-shadow(0px 1px 2px rgba(0, 0, 0, 0.3));\n",
              "      fill: #FFFFFF;\n",
              "    }\n",
              "  </style>\n",
              "\n",
              "      <script>\n",
              "        const buttonEl =\n",
              "          document.querySelector('#df-8f7a0117-a4e1-4a7e-b7bf-5971a9263c81 button.colab-df-convert');\n",
              "        buttonEl.style.display =\n",
              "          google.colab.kernel.accessAllowed ? 'block' : 'none';\n",
              "\n",
              "        async function convertToInteractive(key) {\n",
              "          const element = document.querySelector('#df-8f7a0117-a4e1-4a7e-b7bf-5971a9263c81');\n",
              "          const dataTable =\n",
              "            await google.colab.kernel.invokeFunction('convertToInteractive',\n",
              "                                                     [key], {});\n",
              "          if (!dataTable) return;\n",
              "\n",
              "          const docLinkHtml = 'Like what you see? Visit the ' +\n",
              "            '<a target=\"_blank\" href=https://colab.research.google.com/notebooks/data_table.ipynb>data table notebook</a>'\n",
              "            + ' to learn more about interactive tables.';\n",
              "          element.innerHTML = '';\n",
              "          dataTable['output_type'] = 'display_data';\n",
              "          await google.colab.output.renderOutput(dataTable, element);\n",
              "          const docLink = document.createElement('div');\n",
              "          docLink.innerHTML = docLinkHtml;\n",
              "          element.appendChild(docLink);\n",
              "        }\n",
              "      </script>\n",
              "    </div>\n",
              "  </div>\n",
              "  "
            ]
          },
          "metadata": {},
          "execution_count": 13
        }
      ],
      "metadata": {
        "colab": {
          "base_uri": "https://localhost:8080/",
          "height": 143
        },
        "id": "YoXoAdXGkqhi",
        "outputId": "68d0fa50-f7ad-4e6d-e36a-efc68f8dbe28"
      }
    },
    {
      "cell_type": "markdown",
      "source": [
        "Hey Remember : droping rows with nan is one of the method to deal with missing values. But you have to decide if you need to go for this method by checking percentage of nan present in the dataframe.\n",
        "\n",
        "If a column is having more than 60% of nan values then its better to remove such variables altogether if business permits "
      ],
      "metadata": {
        "id": "_BYBoQIFkqhi"
      }
    },
    {
      "cell_type": "markdown",
      "source": [
        "- ## **`Method 2: Replacing missing values`**\n",
        "Sometimes rather than dropping NA values, you'd rather replace them with a valid value. This value might be a single number like zero, or it might be some sort of imputation or interpolation"
      ],
      "metadata": {
        "id": "0E0Gyw0mkqhi"
      }
    },
    {
      "cell_type": "markdown",
      "source": [
        "<p style='text-align: right;'> 30 points</p>\n"
      ],
      "metadata": {
        "id": "JsESq_JNkqhi"
      }
    },
    {
      "cell_type": "markdown",
      "source": [
        "Impute the missing values with constant number of your choice"
      ],
      "metadata": {
        "id": "rwg-9c8ukqhj"
      }
    },
    {
      "cell_type": "code",
      "execution_count": null,
      "source": [
        "# The below output has imputed missing  values with 100\n",
        "\n",
        "d3 = d1.fillna(100)\n",
        "d3"
      ],
      "outputs": [
        {
          "output_type": "execute_result",
          "data": {
            "text/plain": [
              "   Temperature  Humidity\n",
              "0          1.0      22.0\n",
              "1        100.0     100.0\n",
              "2          3.0       2.0\n",
              "3          2.0     100.0\n",
              "4          3.0      20.0"
            ],
            "text/html": [
              "\n",
              "  <div id=\"df-85e52105-2738-474e-8628-12038c954f3e\">\n",
              "    <div class=\"colab-df-container\">\n",
              "      <div>\n",
              "<style scoped>\n",
              "    .dataframe tbody tr th:only-of-type {\n",
              "        vertical-align: middle;\n",
              "    }\n",
              "\n",
              "    .dataframe tbody tr th {\n",
              "        vertical-align: top;\n",
              "    }\n",
              "\n",
              "    .dataframe thead th {\n",
              "        text-align: right;\n",
              "    }\n",
              "</style>\n",
              "<table border=\"1\" class=\"dataframe\">\n",
              "  <thead>\n",
              "    <tr style=\"text-align: right;\">\n",
              "      <th></th>\n",
              "      <th>Temperature</th>\n",
              "      <th>Humidity</th>\n",
              "    </tr>\n",
              "  </thead>\n",
              "  <tbody>\n",
              "    <tr>\n",
              "      <th>0</th>\n",
              "      <td>1.0</td>\n",
              "      <td>22.0</td>\n",
              "    </tr>\n",
              "    <tr>\n",
              "      <th>1</th>\n",
              "      <td>100.0</td>\n",
              "      <td>100.0</td>\n",
              "    </tr>\n",
              "    <tr>\n",
              "      <th>2</th>\n",
              "      <td>3.0</td>\n",
              "      <td>2.0</td>\n",
              "    </tr>\n",
              "    <tr>\n",
              "      <th>3</th>\n",
              "      <td>2.0</td>\n",
              "      <td>100.0</td>\n",
              "    </tr>\n",
              "    <tr>\n",
              "      <th>4</th>\n",
              "      <td>3.0</td>\n",
              "      <td>20.0</td>\n",
              "    </tr>\n",
              "  </tbody>\n",
              "</table>\n",
              "</div>\n",
              "      <button class=\"colab-df-convert\" onclick=\"convertToInteractive('df-85e52105-2738-474e-8628-12038c954f3e')\"\n",
              "              title=\"Convert this dataframe to an interactive table.\"\n",
              "              style=\"display:none;\">\n",
              "        \n",
              "  <svg xmlns=\"http://www.w3.org/2000/svg\" height=\"24px\"viewBox=\"0 0 24 24\"\n",
              "       width=\"24px\">\n",
              "    <path d=\"M0 0h24v24H0V0z\" fill=\"none\"/>\n",
              "    <path d=\"M18.56 5.44l.94 2.06.94-2.06 2.06-.94-2.06-.94-.94-2.06-.94 2.06-2.06.94zm-11 1L8.5 8.5l.94-2.06 2.06-.94-2.06-.94L8.5 2.5l-.94 2.06-2.06.94zm10 10l.94 2.06.94-2.06 2.06-.94-2.06-.94-.94-2.06-.94 2.06-2.06.94z\"/><path d=\"M17.41 7.96l-1.37-1.37c-.4-.4-.92-.59-1.43-.59-.52 0-1.04.2-1.43.59L10.3 9.45l-7.72 7.72c-.78.78-.78 2.05 0 2.83L4 21.41c.39.39.9.59 1.41.59.51 0 1.02-.2 1.41-.59l7.78-7.78 2.81-2.81c.8-.78.8-2.07 0-2.86zM5.41 20L4 18.59l7.72-7.72 1.47 1.35L5.41 20z\"/>\n",
              "  </svg>\n",
              "      </button>\n",
              "      \n",
              "  <style>\n",
              "    .colab-df-container {\n",
              "      display:flex;\n",
              "      flex-wrap:wrap;\n",
              "      gap: 12px;\n",
              "    }\n",
              "\n",
              "    .colab-df-convert {\n",
              "      background-color: #E8F0FE;\n",
              "      border: none;\n",
              "      border-radius: 50%;\n",
              "      cursor: pointer;\n",
              "      display: none;\n",
              "      fill: #1967D2;\n",
              "      height: 32px;\n",
              "      padding: 0 0 0 0;\n",
              "      width: 32px;\n",
              "    }\n",
              "\n",
              "    .colab-df-convert:hover {\n",
              "      background-color: #E2EBFA;\n",
              "      box-shadow: 0px 1px 2px rgba(60, 64, 67, 0.3), 0px 1px 3px 1px rgba(60, 64, 67, 0.15);\n",
              "      fill: #174EA6;\n",
              "    }\n",
              "\n",
              "    [theme=dark] .colab-df-convert {\n",
              "      background-color: #3B4455;\n",
              "      fill: #D2E3FC;\n",
              "    }\n",
              "\n",
              "    [theme=dark] .colab-df-convert:hover {\n",
              "      background-color: #434B5C;\n",
              "      box-shadow: 0px 1px 3px 1px rgba(0, 0, 0, 0.15);\n",
              "      filter: drop-shadow(0px 1px 2px rgba(0, 0, 0, 0.3));\n",
              "      fill: #FFFFFF;\n",
              "    }\n",
              "  </style>\n",
              "\n",
              "      <script>\n",
              "        const buttonEl =\n",
              "          document.querySelector('#df-85e52105-2738-474e-8628-12038c954f3e button.colab-df-convert');\n",
              "        buttonEl.style.display =\n",
              "          google.colab.kernel.accessAllowed ? 'block' : 'none';\n",
              "\n",
              "        async function convertToInteractive(key) {\n",
              "          const element = document.querySelector('#df-85e52105-2738-474e-8628-12038c954f3e');\n",
              "          const dataTable =\n",
              "            await google.colab.kernel.invokeFunction('convertToInteractive',\n",
              "                                                     [key], {});\n",
              "          if (!dataTable) return;\n",
              "\n",
              "          const docLinkHtml = 'Like what you see? Visit the ' +\n",
              "            '<a target=\"_blank\" href=https://colab.research.google.com/notebooks/data_table.ipynb>data table notebook</a>'\n",
              "            + ' to learn more about interactive tables.';\n",
              "          element.innerHTML = '';\n",
              "          dataTable['output_type'] = 'display_data';\n",
              "          await google.colab.output.renderOutput(dataTable, element);\n",
              "          const docLink = document.createElement('div');\n",
              "          docLink.innerHTML = docLinkHtml;\n",
              "          element.appendChild(docLink);\n",
              "        }\n",
              "      </script>\n",
              "    </div>\n",
              "  </div>\n",
              "  "
            ]
          },
          "metadata": {},
          "execution_count": 14
        }
      ],
      "metadata": {
        "colab": {
          "base_uri": "https://localhost:8080/",
          "height": 206
        },
        "id": "CCzT8A-4kqhj",
        "outputId": "9dd1269a-df69-409c-c5d9-dcc6541d96b2"
      }
    },
    {
      "cell_type": "markdown",
      "source": [
        "Do you think its a  good way to treat Nan values? What if such constant values are not suitable for our further analysis?\n",
        "Try to give your thoughts on this."
      ],
      "metadata": {
        "id": "Owk-O3CZkqhj"
      }
    },
    {
      "cell_type": "code",
      "execution_count": null,
      "source": [
        "#No, its not a good way to treat a Nan values. Temperature 100 and Humidity 100 does not make any sense."
      ],
      "outputs": [],
      "metadata": {
        "id": "4Vn0HNw4kqhj"
      }
    },
    {
      "cell_type": "markdown",
      "source": [
        "Impute the missing values with mean"
      ],
      "metadata": {
        "id": "rHxP4ad7kqhj"
      }
    },
    {
      "cell_type": "code",
      "execution_count": null,
      "source": [
        "#  imputing mean\n",
        "d4 = d1.fillna(d1.mean())\n",
        "d4"
      ],
      "outputs": [
        {
          "output_type": "execute_result",
          "data": {
            "text/plain": [
              "   Temperature   Humidity\n",
              "0         1.00  22.000000\n",
              "1         2.25  14.666667\n",
              "2         3.00   2.000000\n",
              "3         2.00  14.666667\n",
              "4         3.00  20.000000"
            ],
            "text/html": [
              "\n",
              "  <div id=\"df-e7cc9ed8-cf46-4e4a-a0de-462b955b11ee\">\n",
              "    <div class=\"colab-df-container\">\n",
              "      <div>\n",
              "<style scoped>\n",
              "    .dataframe tbody tr th:only-of-type {\n",
              "        vertical-align: middle;\n",
              "    }\n",
              "\n",
              "    .dataframe tbody tr th {\n",
              "        vertical-align: top;\n",
              "    }\n",
              "\n",
              "    .dataframe thead th {\n",
              "        text-align: right;\n",
              "    }\n",
              "</style>\n",
              "<table border=\"1\" class=\"dataframe\">\n",
              "  <thead>\n",
              "    <tr style=\"text-align: right;\">\n",
              "      <th></th>\n",
              "      <th>Temperature</th>\n",
              "      <th>Humidity</th>\n",
              "    </tr>\n",
              "  </thead>\n",
              "  <tbody>\n",
              "    <tr>\n",
              "      <th>0</th>\n",
              "      <td>1.00</td>\n",
              "      <td>22.000000</td>\n",
              "    </tr>\n",
              "    <tr>\n",
              "      <th>1</th>\n",
              "      <td>2.25</td>\n",
              "      <td>14.666667</td>\n",
              "    </tr>\n",
              "    <tr>\n",
              "      <th>2</th>\n",
              "      <td>3.00</td>\n",
              "      <td>2.000000</td>\n",
              "    </tr>\n",
              "    <tr>\n",
              "      <th>3</th>\n",
              "      <td>2.00</td>\n",
              "      <td>14.666667</td>\n",
              "    </tr>\n",
              "    <tr>\n",
              "      <th>4</th>\n",
              "      <td>3.00</td>\n",
              "      <td>20.000000</td>\n",
              "    </tr>\n",
              "  </tbody>\n",
              "</table>\n",
              "</div>\n",
              "      <button class=\"colab-df-convert\" onclick=\"convertToInteractive('df-e7cc9ed8-cf46-4e4a-a0de-462b955b11ee')\"\n",
              "              title=\"Convert this dataframe to an interactive table.\"\n",
              "              style=\"display:none;\">\n",
              "        \n",
              "  <svg xmlns=\"http://www.w3.org/2000/svg\" height=\"24px\"viewBox=\"0 0 24 24\"\n",
              "       width=\"24px\">\n",
              "    <path d=\"M0 0h24v24H0V0z\" fill=\"none\"/>\n",
              "    <path d=\"M18.56 5.44l.94 2.06.94-2.06 2.06-.94-2.06-.94-.94-2.06-.94 2.06-2.06.94zm-11 1L8.5 8.5l.94-2.06 2.06-.94-2.06-.94L8.5 2.5l-.94 2.06-2.06.94zm10 10l.94 2.06.94-2.06 2.06-.94-2.06-.94-.94-2.06-.94 2.06-2.06.94z\"/><path d=\"M17.41 7.96l-1.37-1.37c-.4-.4-.92-.59-1.43-.59-.52 0-1.04.2-1.43.59L10.3 9.45l-7.72 7.72c-.78.78-.78 2.05 0 2.83L4 21.41c.39.39.9.59 1.41.59.51 0 1.02-.2 1.41-.59l7.78-7.78 2.81-2.81c.8-.78.8-2.07 0-2.86zM5.41 20L4 18.59l7.72-7.72 1.47 1.35L5.41 20z\"/>\n",
              "  </svg>\n",
              "      </button>\n",
              "      \n",
              "  <style>\n",
              "    .colab-df-container {\n",
              "      display:flex;\n",
              "      flex-wrap:wrap;\n",
              "      gap: 12px;\n",
              "    }\n",
              "\n",
              "    .colab-df-convert {\n",
              "      background-color: #E8F0FE;\n",
              "      border: none;\n",
              "      border-radius: 50%;\n",
              "      cursor: pointer;\n",
              "      display: none;\n",
              "      fill: #1967D2;\n",
              "      height: 32px;\n",
              "      padding: 0 0 0 0;\n",
              "      width: 32px;\n",
              "    }\n",
              "\n",
              "    .colab-df-convert:hover {\n",
              "      background-color: #E2EBFA;\n",
              "      box-shadow: 0px 1px 2px rgba(60, 64, 67, 0.3), 0px 1px 3px 1px rgba(60, 64, 67, 0.15);\n",
              "      fill: #174EA6;\n",
              "    }\n",
              "\n",
              "    [theme=dark] .colab-df-convert {\n",
              "      background-color: #3B4455;\n",
              "      fill: #D2E3FC;\n",
              "    }\n",
              "\n",
              "    [theme=dark] .colab-df-convert:hover {\n",
              "      background-color: #434B5C;\n",
              "      box-shadow: 0px 1px 3px 1px rgba(0, 0, 0, 0.15);\n",
              "      filter: drop-shadow(0px 1px 2px rgba(0, 0, 0, 0.3));\n",
              "      fill: #FFFFFF;\n",
              "    }\n",
              "  </style>\n",
              "\n",
              "      <script>\n",
              "        const buttonEl =\n",
              "          document.querySelector('#df-e7cc9ed8-cf46-4e4a-a0de-462b955b11ee button.colab-df-convert');\n",
              "        buttonEl.style.display =\n",
              "          google.colab.kernel.accessAllowed ? 'block' : 'none';\n",
              "\n",
              "        async function convertToInteractive(key) {\n",
              "          const element = document.querySelector('#df-e7cc9ed8-cf46-4e4a-a0de-462b955b11ee');\n",
              "          const dataTable =\n",
              "            await google.colab.kernel.invokeFunction('convertToInteractive',\n",
              "                                                     [key], {});\n",
              "          if (!dataTable) return;\n",
              "\n",
              "          const docLinkHtml = 'Like what you see? Visit the ' +\n",
              "            '<a target=\"_blank\" href=https://colab.research.google.com/notebooks/data_table.ipynb>data table notebook</a>'\n",
              "            + ' to learn more about interactive tables.';\n",
              "          element.innerHTML = '';\n",
              "          dataTable['output_type'] = 'display_data';\n",
              "          await google.colab.output.renderOutput(dataTable, element);\n",
              "          const docLink = document.createElement('div');\n",
              "          docLink.innerHTML = docLinkHtml;\n",
              "          element.appendChild(docLink);\n",
              "        }\n",
              "      </script>\n",
              "    </div>\n",
              "  </div>\n",
              "  "
            ]
          },
          "metadata": {},
          "execution_count": 16
        }
      ],
      "metadata": {
        "colab": {
          "base_uri": "https://localhost:8080/",
          "height": 206
        },
        "id": "FKB7R8Takqhk",
        "outputId": "51290f1a-ab4d-46a6-d618-29725af4c5c3"
      }
    },
    {
      "cell_type": "markdown",
      "source": [
        "Impute the missing values with median"
      ],
      "metadata": {
        "id": "wzwa_GzRkqhk"
      }
    },
    {
      "cell_type": "code",
      "execution_count": null,
      "source": [
        "#median imputing\n",
        "d5 = d1.fillna(d1.median())\n",
        "d5"
      ],
      "outputs": [
        {
          "output_type": "execute_result",
          "data": {
            "text/plain": [
              "   Temperature  Humidity\n",
              "0          1.0      22.0\n",
              "1          2.5      20.0\n",
              "2          3.0       2.0\n",
              "3          2.0      20.0\n",
              "4          3.0      20.0"
            ],
            "text/html": [
              "\n",
              "  <div id=\"df-eacfb058-2380-4764-8ec7-058bcfd61487\">\n",
              "    <div class=\"colab-df-container\">\n",
              "      <div>\n",
              "<style scoped>\n",
              "    .dataframe tbody tr th:only-of-type {\n",
              "        vertical-align: middle;\n",
              "    }\n",
              "\n",
              "    .dataframe tbody tr th {\n",
              "        vertical-align: top;\n",
              "    }\n",
              "\n",
              "    .dataframe thead th {\n",
              "        text-align: right;\n",
              "    }\n",
              "</style>\n",
              "<table border=\"1\" class=\"dataframe\">\n",
              "  <thead>\n",
              "    <tr style=\"text-align: right;\">\n",
              "      <th></th>\n",
              "      <th>Temperature</th>\n",
              "      <th>Humidity</th>\n",
              "    </tr>\n",
              "  </thead>\n",
              "  <tbody>\n",
              "    <tr>\n",
              "      <th>0</th>\n",
              "      <td>1.0</td>\n",
              "      <td>22.0</td>\n",
              "    </tr>\n",
              "    <tr>\n",
              "      <th>1</th>\n",
              "      <td>2.5</td>\n",
              "      <td>20.0</td>\n",
              "    </tr>\n",
              "    <tr>\n",
              "      <th>2</th>\n",
              "      <td>3.0</td>\n",
              "      <td>2.0</td>\n",
              "    </tr>\n",
              "    <tr>\n",
              "      <th>3</th>\n",
              "      <td>2.0</td>\n",
              "      <td>20.0</td>\n",
              "    </tr>\n",
              "    <tr>\n",
              "      <th>4</th>\n",
              "      <td>3.0</td>\n",
              "      <td>20.0</td>\n",
              "    </tr>\n",
              "  </tbody>\n",
              "</table>\n",
              "</div>\n",
              "      <button class=\"colab-df-convert\" onclick=\"convertToInteractive('df-eacfb058-2380-4764-8ec7-058bcfd61487')\"\n",
              "              title=\"Convert this dataframe to an interactive table.\"\n",
              "              style=\"display:none;\">\n",
              "        \n",
              "  <svg xmlns=\"http://www.w3.org/2000/svg\" height=\"24px\"viewBox=\"0 0 24 24\"\n",
              "       width=\"24px\">\n",
              "    <path d=\"M0 0h24v24H0V0z\" fill=\"none\"/>\n",
              "    <path d=\"M18.56 5.44l.94 2.06.94-2.06 2.06-.94-2.06-.94-.94-2.06-.94 2.06-2.06.94zm-11 1L8.5 8.5l.94-2.06 2.06-.94-2.06-.94L8.5 2.5l-.94 2.06-2.06.94zm10 10l.94 2.06.94-2.06 2.06-.94-2.06-.94-.94-2.06-.94 2.06-2.06.94z\"/><path d=\"M17.41 7.96l-1.37-1.37c-.4-.4-.92-.59-1.43-.59-.52 0-1.04.2-1.43.59L10.3 9.45l-7.72 7.72c-.78.78-.78 2.05 0 2.83L4 21.41c.39.39.9.59 1.41.59.51 0 1.02-.2 1.41-.59l7.78-7.78 2.81-2.81c.8-.78.8-2.07 0-2.86zM5.41 20L4 18.59l7.72-7.72 1.47 1.35L5.41 20z\"/>\n",
              "  </svg>\n",
              "      </button>\n",
              "      \n",
              "  <style>\n",
              "    .colab-df-container {\n",
              "      display:flex;\n",
              "      flex-wrap:wrap;\n",
              "      gap: 12px;\n",
              "    }\n",
              "\n",
              "    .colab-df-convert {\n",
              "      background-color: #E8F0FE;\n",
              "      border: none;\n",
              "      border-radius: 50%;\n",
              "      cursor: pointer;\n",
              "      display: none;\n",
              "      fill: #1967D2;\n",
              "      height: 32px;\n",
              "      padding: 0 0 0 0;\n",
              "      width: 32px;\n",
              "    }\n",
              "\n",
              "    .colab-df-convert:hover {\n",
              "      background-color: #E2EBFA;\n",
              "      box-shadow: 0px 1px 2px rgba(60, 64, 67, 0.3), 0px 1px 3px 1px rgba(60, 64, 67, 0.15);\n",
              "      fill: #174EA6;\n",
              "    }\n",
              "\n",
              "    [theme=dark] .colab-df-convert {\n",
              "      background-color: #3B4455;\n",
              "      fill: #D2E3FC;\n",
              "    }\n",
              "\n",
              "    [theme=dark] .colab-df-convert:hover {\n",
              "      background-color: #434B5C;\n",
              "      box-shadow: 0px 1px 3px 1px rgba(0, 0, 0, 0.15);\n",
              "      filter: drop-shadow(0px 1px 2px rgba(0, 0, 0, 0.3));\n",
              "      fill: #FFFFFF;\n",
              "    }\n",
              "  </style>\n",
              "\n",
              "      <script>\n",
              "        const buttonEl =\n",
              "          document.querySelector('#df-eacfb058-2380-4764-8ec7-058bcfd61487 button.colab-df-convert');\n",
              "        buttonEl.style.display =\n",
              "          google.colab.kernel.accessAllowed ? 'block' : 'none';\n",
              "\n",
              "        async function convertToInteractive(key) {\n",
              "          const element = document.querySelector('#df-eacfb058-2380-4764-8ec7-058bcfd61487');\n",
              "          const dataTable =\n",
              "            await google.colab.kernel.invokeFunction('convertToInteractive',\n",
              "                                                     [key], {});\n",
              "          if (!dataTable) return;\n",
              "\n",
              "          const docLinkHtml = 'Like what you see? Visit the ' +\n",
              "            '<a target=\"_blank\" href=https://colab.research.google.com/notebooks/data_table.ipynb>data table notebook</a>'\n",
              "            + ' to learn more about interactive tables.';\n",
              "          element.innerHTML = '';\n",
              "          dataTable['output_type'] = 'display_data';\n",
              "          await google.colab.output.renderOutput(dataTable, element);\n",
              "          const docLink = document.createElement('div');\n",
              "          docLink.innerHTML = docLinkHtml;\n",
              "          element.appendChild(docLink);\n",
              "        }\n",
              "      </script>\n",
              "    </div>\n",
              "  </div>\n",
              "  "
            ]
          },
          "metadata": {},
          "execution_count": 17
        }
      ],
      "metadata": {
        "colab": {
          "base_uri": "https://localhost:8080/",
          "height": 206
        },
        "id": "CrDrortKkqhk",
        "outputId": "8c4d12a1-9310-48b5-dcce-642dead77049"
      }
    },
    {
      "cell_type": "markdown",
      "source": [
        "Replacing with the mean, mode or median approximations are a statistical approach of handling the missing values.\n",
        "\n",
        "Another Fun fact:\n",
        "    \n",
        "    This is an approximation which can add variance to the data set. But the loss of the data can be negated by this method which yields better results compared to removal of rows and columns."
      ],
      "metadata": {
        "id": "PRzK4otMkqhk"
      }
    },
    {
      "cell_type": "markdown",
      "source": [
        "Impute Nan with forward fill"
      ],
      "metadata": {
        "id": "GMtx5Urqkqhk"
      }
    },
    {
      "cell_type": "code",
      "execution_count": null,
      "source": [
        "#forward fill\n",
        "d6 = d1.fillna(d1.ffill())\n",
        "d6"
      ],
      "outputs": [
        {
          "output_type": "execute_result",
          "data": {
            "text/plain": [
              "   Temperature  Humidity\n",
              "0          1.0      22.0\n",
              "1          1.0      22.0\n",
              "2          3.0       2.0\n",
              "3          2.0       2.0\n",
              "4          3.0      20.0"
            ],
            "text/html": [
              "\n",
              "  <div id=\"df-a73b80bb-cc62-4bf0-add7-214483c04ed7\">\n",
              "    <div class=\"colab-df-container\">\n",
              "      <div>\n",
              "<style scoped>\n",
              "    .dataframe tbody tr th:only-of-type {\n",
              "        vertical-align: middle;\n",
              "    }\n",
              "\n",
              "    .dataframe tbody tr th {\n",
              "        vertical-align: top;\n",
              "    }\n",
              "\n",
              "    .dataframe thead th {\n",
              "        text-align: right;\n",
              "    }\n",
              "</style>\n",
              "<table border=\"1\" class=\"dataframe\">\n",
              "  <thead>\n",
              "    <tr style=\"text-align: right;\">\n",
              "      <th></th>\n",
              "      <th>Temperature</th>\n",
              "      <th>Humidity</th>\n",
              "    </tr>\n",
              "  </thead>\n",
              "  <tbody>\n",
              "    <tr>\n",
              "      <th>0</th>\n",
              "      <td>1.0</td>\n",
              "      <td>22.0</td>\n",
              "    </tr>\n",
              "    <tr>\n",
              "      <th>1</th>\n",
              "      <td>1.0</td>\n",
              "      <td>22.0</td>\n",
              "    </tr>\n",
              "    <tr>\n",
              "      <th>2</th>\n",
              "      <td>3.0</td>\n",
              "      <td>2.0</td>\n",
              "    </tr>\n",
              "    <tr>\n",
              "      <th>3</th>\n",
              "      <td>2.0</td>\n",
              "      <td>2.0</td>\n",
              "    </tr>\n",
              "    <tr>\n",
              "      <th>4</th>\n",
              "      <td>3.0</td>\n",
              "      <td>20.0</td>\n",
              "    </tr>\n",
              "  </tbody>\n",
              "</table>\n",
              "</div>\n",
              "      <button class=\"colab-df-convert\" onclick=\"convertToInteractive('df-a73b80bb-cc62-4bf0-add7-214483c04ed7')\"\n",
              "              title=\"Convert this dataframe to an interactive table.\"\n",
              "              style=\"display:none;\">\n",
              "        \n",
              "  <svg xmlns=\"http://www.w3.org/2000/svg\" height=\"24px\"viewBox=\"0 0 24 24\"\n",
              "       width=\"24px\">\n",
              "    <path d=\"M0 0h24v24H0V0z\" fill=\"none\"/>\n",
              "    <path d=\"M18.56 5.44l.94 2.06.94-2.06 2.06-.94-2.06-.94-.94-2.06-.94 2.06-2.06.94zm-11 1L8.5 8.5l.94-2.06 2.06-.94-2.06-.94L8.5 2.5l-.94 2.06-2.06.94zm10 10l.94 2.06.94-2.06 2.06-.94-2.06-.94-.94-2.06-.94 2.06-2.06.94z\"/><path d=\"M17.41 7.96l-1.37-1.37c-.4-.4-.92-.59-1.43-.59-.52 0-1.04.2-1.43.59L10.3 9.45l-7.72 7.72c-.78.78-.78 2.05 0 2.83L4 21.41c.39.39.9.59 1.41.59.51 0 1.02-.2 1.41-.59l7.78-7.78 2.81-2.81c.8-.78.8-2.07 0-2.86zM5.41 20L4 18.59l7.72-7.72 1.47 1.35L5.41 20z\"/>\n",
              "  </svg>\n",
              "      </button>\n",
              "      \n",
              "  <style>\n",
              "    .colab-df-container {\n",
              "      display:flex;\n",
              "      flex-wrap:wrap;\n",
              "      gap: 12px;\n",
              "    }\n",
              "\n",
              "    .colab-df-convert {\n",
              "      background-color: #E8F0FE;\n",
              "      border: none;\n",
              "      border-radius: 50%;\n",
              "      cursor: pointer;\n",
              "      display: none;\n",
              "      fill: #1967D2;\n",
              "      height: 32px;\n",
              "      padding: 0 0 0 0;\n",
              "      width: 32px;\n",
              "    }\n",
              "\n",
              "    .colab-df-convert:hover {\n",
              "      background-color: #E2EBFA;\n",
              "      box-shadow: 0px 1px 2px rgba(60, 64, 67, 0.3), 0px 1px 3px 1px rgba(60, 64, 67, 0.15);\n",
              "      fill: #174EA6;\n",
              "    }\n",
              "\n",
              "    [theme=dark] .colab-df-convert {\n",
              "      background-color: #3B4455;\n",
              "      fill: #D2E3FC;\n",
              "    }\n",
              "\n",
              "    [theme=dark] .colab-df-convert:hover {\n",
              "      background-color: #434B5C;\n",
              "      box-shadow: 0px 1px 3px 1px rgba(0, 0, 0, 0.15);\n",
              "      filter: drop-shadow(0px 1px 2px rgba(0, 0, 0, 0.3));\n",
              "      fill: #FFFFFF;\n",
              "    }\n",
              "  </style>\n",
              "\n",
              "      <script>\n",
              "        const buttonEl =\n",
              "          document.querySelector('#df-a73b80bb-cc62-4bf0-add7-214483c04ed7 button.colab-df-convert');\n",
              "        buttonEl.style.display =\n",
              "          google.colab.kernel.accessAllowed ? 'block' : 'none';\n",
              "\n",
              "        async function convertToInteractive(key) {\n",
              "          const element = document.querySelector('#df-a73b80bb-cc62-4bf0-add7-214483c04ed7');\n",
              "          const dataTable =\n",
              "            await google.colab.kernel.invokeFunction('convertToInteractive',\n",
              "                                                     [key], {});\n",
              "          if (!dataTable) return;\n",
              "\n",
              "          const docLinkHtml = 'Like what you see? Visit the ' +\n",
              "            '<a target=\"_blank\" href=https://colab.research.google.com/notebooks/data_table.ipynb>data table notebook</a>'\n",
              "            + ' to learn more about interactive tables.';\n",
              "          element.innerHTML = '';\n",
              "          dataTable['output_type'] = 'display_data';\n",
              "          await google.colab.output.renderOutput(dataTable, element);\n",
              "          const docLink = document.createElement('div');\n",
              "          docLink.innerHTML = docLinkHtml;\n",
              "          element.appendChild(docLink);\n",
              "        }\n",
              "      </script>\n",
              "    </div>\n",
              "  </div>\n",
              "  "
            ]
          },
          "metadata": {},
          "execution_count": 18
        }
      ],
      "metadata": {
        "colab": {
          "base_uri": "https://localhost:8080/",
          "height": 206
        },
        "id": "te5396qBkqhl",
        "outputId": "841e0ad0-b475-4927-a5f1-d41cbbbe8bae"
      }
    },
    {
      "cell_type": "markdown",
      "source": [
        "Impute Nan with backward fill"
      ],
      "metadata": {
        "id": "eH05-uFJkqhl"
      }
    },
    {
      "cell_type": "code",
      "execution_count": null,
      "source": [
        "#backward fill\n",
        "d7 = d1.fillna(d1.bfill())\n",
        "d7"
      ],
      "outputs": [
        {
          "output_type": "execute_result",
          "data": {
            "text/plain": [
              "   Temperature  Humidity\n",
              "0          1.0      22.0\n",
              "1          3.0       2.0\n",
              "2          3.0       2.0\n",
              "3          2.0      20.0\n",
              "4          3.0      20.0"
            ],
            "text/html": [
              "\n",
              "  <div id=\"df-26f86da4-f74e-45ea-8650-186c8aebdf45\">\n",
              "    <div class=\"colab-df-container\">\n",
              "      <div>\n",
              "<style scoped>\n",
              "    .dataframe tbody tr th:only-of-type {\n",
              "        vertical-align: middle;\n",
              "    }\n",
              "\n",
              "    .dataframe tbody tr th {\n",
              "        vertical-align: top;\n",
              "    }\n",
              "\n",
              "    .dataframe thead th {\n",
              "        text-align: right;\n",
              "    }\n",
              "</style>\n",
              "<table border=\"1\" class=\"dataframe\">\n",
              "  <thead>\n",
              "    <tr style=\"text-align: right;\">\n",
              "      <th></th>\n",
              "      <th>Temperature</th>\n",
              "      <th>Humidity</th>\n",
              "    </tr>\n",
              "  </thead>\n",
              "  <tbody>\n",
              "    <tr>\n",
              "      <th>0</th>\n",
              "      <td>1.0</td>\n",
              "      <td>22.0</td>\n",
              "    </tr>\n",
              "    <tr>\n",
              "      <th>1</th>\n",
              "      <td>3.0</td>\n",
              "      <td>2.0</td>\n",
              "    </tr>\n",
              "    <tr>\n",
              "      <th>2</th>\n",
              "      <td>3.0</td>\n",
              "      <td>2.0</td>\n",
              "    </tr>\n",
              "    <tr>\n",
              "      <th>3</th>\n",
              "      <td>2.0</td>\n",
              "      <td>20.0</td>\n",
              "    </tr>\n",
              "    <tr>\n",
              "      <th>4</th>\n",
              "      <td>3.0</td>\n",
              "      <td>20.0</td>\n",
              "    </tr>\n",
              "  </tbody>\n",
              "</table>\n",
              "</div>\n",
              "      <button class=\"colab-df-convert\" onclick=\"convertToInteractive('df-26f86da4-f74e-45ea-8650-186c8aebdf45')\"\n",
              "              title=\"Convert this dataframe to an interactive table.\"\n",
              "              style=\"display:none;\">\n",
              "        \n",
              "  <svg xmlns=\"http://www.w3.org/2000/svg\" height=\"24px\"viewBox=\"0 0 24 24\"\n",
              "       width=\"24px\">\n",
              "    <path d=\"M0 0h24v24H0V0z\" fill=\"none\"/>\n",
              "    <path d=\"M18.56 5.44l.94 2.06.94-2.06 2.06-.94-2.06-.94-.94-2.06-.94 2.06-2.06.94zm-11 1L8.5 8.5l.94-2.06 2.06-.94-2.06-.94L8.5 2.5l-.94 2.06-2.06.94zm10 10l.94 2.06.94-2.06 2.06-.94-2.06-.94-.94-2.06-.94 2.06-2.06.94z\"/><path d=\"M17.41 7.96l-1.37-1.37c-.4-.4-.92-.59-1.43-.59-.52 0-1.04.2-1.43.59L10.3 9.45l-7.72 7.72c-.78.78-.78 2.05 0 2.83L4 21.41c.39.39.9.59 1.41.59.51 0 1.02-.2 1.41-.59l7.78-7.78 2.81-2.81c.8-.78.8-2.07 0-2.86zM5.41 20L4 18.59l7.72-7.72 1.47 1.35L5.41 20z\"/>\n",
              "  </svg>\n",
              "      </button>\n",
              "      \n",
              "  <style>\n",
              "    .colab-df-container {\n",
              "      display:flex;\n",
              "      flex-wrap:wrap;\n",
              "      gap: 12px;\n",
              "    }\n",
              "\n",
              "    .colab-df-convert {\n",
              "      background-color: #E8F0FE;\n",
              "      border: none;\n",
              "      border-radius: 50%;\n",
              "      cursor: pointer;\n",
              "      display: none;\n",
              "      fill: #1967D2;\n",
              "      height: 32px;\n",
              "      padding: 0 0 0 0;\n",
              "      width: 32px;\n",
              "    }\n",
              "\n",
              "    .colab-df-convert:hover {\n",
              "      background-color: #E2EBFA;\n",
              "      box-shadow: 0px 1px 2px rgba(60, 64, 67, 0.3), 0px 1px 3px 1px rgba(60, 64, 67, 0.15);\n",
              "      fill: #174EA6;\n",
              "    }\n",
              "\n",
              "    [theme=dark] .colab-df-convert {\n",
              "      background-color: #3B4455;\n",
              "      fill: #D2E3FC;\n",
              "    }\n",
              "\n",
              "    [theme=dark] .colab-df-convert:hover {\n",
              "      background-color: #434B5C;\n",
              "      box-shadow: 0px 1px 3px 1px rgba(0, 0, 0, 0.15);\n",
              "      filter: drop-shadow(0px 1px 2px rgba(0, 0, 0, 0.3));\n",
              "      fill: #FFFFFF;\n",
              "    }\n",
              "  </style>\n",
              "\n",
              "      <script>\n",
              "        const buttonEl =\n",
              "          document.querySelector('#df-26f86da4-f74e-45ea-8650-186c8aebdf45 button.colab-df-convert');\n",
              "        buttonEl.style.display =\n",
              "          google.colab.kernel.accessAllowed ? 'block' : 'none';\n",
              "\n",
              "        async function convertToInteractive(key) {\n",
              "          const element = document.querySelector('#df-26f86da4-f74e-45ea-8650-186c8aebdf45');\n",
              "          const dataTable =\n",
              "            await google.colab.kernel.invokeFunction('convertToInteractive',\n",
              "                                                     [key], {});\n",
              "          if (!dataTable) return;\n",
              "\n",
              "          const docLinkHtml = 'Like what you see? Visit the ' +\n",
              "            '<a target=\"_blank\" href=https://colab.research.google.com/notebooks/data_table.ipynb>data table notebook</a>'\n",
              "            + ' to learn more about interactive tables.';\n",
              "          element.innerHTML = '';\n",
              "          dataTable['output_type'] = 'display_data';\n",
              "          await google.colab.output.renderOutput(dataTable, element);\n",
              "          const docLink = document.createElement('div');\n",
              "          docLink.innerHTML = docLinkHtml;\n",
              "          element.appendChild(docLink);\n",
              "        }\n",
              "      </script>\n",
              "    </div>\n",
              "  </div>\n",
              "  "
            ]
          },
          "metadata": {},
          "execution_count": 19
        }
      ],
      "metadata": {
        "colab": {
          "base_uri": "https://localhost:8080/",
          "height": 206
        },
        "id": "8qRteICGkqhl",
        "outputId": "84b1d858-4218-47fd-97fe-2fa01834f07a"
      }
    },
    {
      "cell_type": "markdown",
      "source": [
        "Hey a fun fact here, as sweet as a cookie:\n",
        "\n",
        "- ffill/pad/bfill are good imputation method if our data is of time series. This would keep the trend unaffected for our analysis."
      ],
      "metadata": {
        "id": "b9M8GD2Jkqhl"
      }
    },
    {
      "cell_type": "markdown",
      "source": [
        "Impute nan using interpolation method"
      ],
      "metadata": {
        "id": "x5J30Hulkqhl"
      }
    },
    {
      "cell_type": "code",
      "execution_count": null,
      "source": [
        "#interpolate\n",
        "d8 = d1.interpolate()\n",
        "d8"
      ],
      "outputs": [
        {
          "output_type": "execute_result",
          "data": {
            "text/plain": [
              "   Temperature  Humidity\n",
              "0          1.0      22.0\n",
              "1          2.0      12.0\n",
              "2          3.0       2.0\n",
              "3          2.0      11.0\n",
              "4          3.0      20.0"
            ],
            "text/html": [
              "\n",
              "  <div id=\"df-2a26966d-c71a-4c75-b72e-2c30f58a14dd\">\n",
              "    <div class=\"colab-df-container\">\n",
              "      <div>\n",
              "<style scoped>\n",
              "    .dataframe tbody tr th:only-of-type {\n",
              "        vertical-align: middle;\n",
              "    }\n",
              "\n",
              "    .dataframe tbody tr th {\n",
              "        vertical-align: top;\n",
              "    }\n",
              "\n",
              "    .dataframe thead th {\n",
              "        text-align: right;\n",
              "    }\n",
              "</style>\n",
              "<table border=\"1\" class=\"dataframe\">\n",
              "  <thead>\n",
              "    <tr style=\"text-align: right;\">\n",
              "      <th></th>\n",
              "      <th>Temperature</th>\n",
              "      <th>Humidity</th>\n",
              "    </tr>\n",
              "  </thead>\n",
              "  <tbody>\n",
              "    <tr>\n",
              "      <th>0</th>\n",
              "      <td>1.0</td>\n",
              "      <td>22.0</td>\n",
              "    </tr>\n",
              "    <tr>\n",
              "      <th>1</th>\n",
              "      <td>2.0</td>\n",
              "      <td>12.0</td>\n",
              "    </tr>\n",
              "    <tr>\n",
              "      <th>2</th>\n",
              "      <td>3.0</td>\n",
              "      <td>2.0</td>\n",
              "    </tr>\n",
              "    <tr>\n",
              "      <th>3</th>\n",
              "      <td>2.0</td>\n",
              "      <td>11.0</td>\n",
              "    </tr>\n",
              "    <tr>\n",
              "      <th>4</th>\n",
              "      <td>3.0</td>\n",
              "      <td>20.0</td>\n",
              "    </tr>\n",
              "  </tbody>\n",
              "</table>\n",
              "</div>\n",
              "      <button class=\"colab-df-convert\" onclick=\"convertToInteractive('df-2a26966d-c71a-4c75-b72e-2c30f58a14dd')\"\n",
              "              title=\"Convert this dataframe to an interactive table.\"\n",
              "              style=\"display:none;\">\n",
              "        \n",
              "  <svg xmlns=\"http://www.w3.org/2000/svg\" height=\"24px\"viewBox=\"0 0 24 24\"\n",
              "       width=\"24px\">\n",
              "    <path d=\"M0 0h24v24H0V0z\" fill=\"none\"/>\n",
              "    <path d=\"M18.56 5.44l.94 2.06.94-2.06 2.06-.94-2.06-.94-.94-2.06-.94 2.06-2.06.94zm-11 1L8.5 8.5l.94-2.06 2.06-.94-2.06-.94L8.5 2.5l-.94 2.06-2.06.94zm10 10l.94 2.06.94-2.06 2.06-.94-2.06-.94-.94-2.06-.94 2.06-2.06.94z\"/><path d=\"M17.41 7.96l-1.37-1.37c-.4-.4-.92-.59-1.43-.59-.52 0-1.04.2-1.43.59L10.3 9.45l-7.72 7.72c-.78.78-.78 2.05 0 2.83L4 21.41c.39.39.9.59 1.41.59.51 0 1.02-.2 1.41-.59l7.78-7.78 2.81-2.81c.8-.78.8-2.07 0-2.86zM5.41 20L4 18.59l7.72-7.72 1.47 1.35L5.41 20z\"/>\n",
              "  </svg>\n",
              "      </button>\n",
              "      \n",
              "  <style>\n",
              "    .colab-df-container {\n",
              "      display:flex;\n",
              "      flex-wrap:wrap;\n",
              "      gap: 12px;\n",
              "    }\n",
              "\n",
              "    .colab-df-convert {\n",
              "      background-color: #E8F0FE;\n",
              "      border: none;\n",
              "      border-radius: 50%;\n",
              "      cursor: pointer;\n",
              "      display: none;\n",
              "      fill: #1967D2;\n",
              "      height: 32px;\n",
              "      padding: 0 0 0 0;\n",
              "      width: 32px;\n",
              "    }\n",
              "\n",
              "    .colab-df-convert:hover {\n",
              "      background-color: #E2EBFA;\n",
              "      box-shadow: 0px 1px 2px rgba(60, 64, 67, 0.3), 0px 1px 3px 1px rgba(60, 64, 67, 0.15);\n",
              "      fill: #174EA6;\n",
              "    }\n",
              "\n",
              "    [theme=dark] .colab-df-convert {\n",
              "      background-color: #3B4455;\n",
              "      fill: #D2E3FC;\n",
              "    }\n",
              "\n",
              "    [theme=dark] .colab-df-convert:hover {\n",
              "      background-color: #434B5C;\n",
              "      box-shadow: 0px 1px 3px 1px rgba(0, 0, 0, 0.15);\n",
              "      filter: drop-shadow(0px 1px 2px rgba(0, 0, 0, 0.3));\n",
              "      fill: #FFFFFF;\n",
              "    }\n",
              "  </style>\n",
              "\n",
              "      <script>\n",
              "        const buttonEl =\n",
              "          document.querySelector('#df-2a26966d-c71a-4c75-b72e-2c30f58a14dd button.colab-df-convert');\n",
              "        buttonEl.style.display =\n",
              "          google.colab.kernel.accessAllowed ? 'block' : 'none';\n",
              "\n",
              "        async function convertToInteractive(key) {\n",
              "          const element = document.querySelector('#df-2a26966d-c71a-4c75-b72e-2c30f58a14dd');\n",
              "          const dataTable =\n",
              "            await google.colab.kernel.invokeFunction('convertToInteractive',\n",
              "                                                     [key], {});\n",
              "          if (!dataTable) return;\n",
              "\n",
              "          const docLinkHtml = 'Like what you see? Visit the ' +\n",
              "            '<a target=\"_blank\" href=https://colab.research.google.com/notebooks/data_table.ipynb>data table notebook</a>'\n",
              "            + ' to learn more about interactive tables.';\n",
              "          element.innerHTML = '';\n",
              "          dataTable['output_type'] = 'display_data';\n",
              "          await google.colab.output.renderOutput(dataTable, element);\n",
              "          const docLink = document.createElement('div');\n",
              "          docLink.innerHTML = docLinkHtml;\n",
              "          element.appendChild(docLink);\n",
              "        }\n",
              "      </script>\n",
              "    </div>\n",
              "  </div>\n",
              "  "
            ]
          },
          "metadata": {},
          "execution_count": 20
        }
      ],
      "metadata": {
        "colab": {
          "base_uri": "https://localhost:8080/",
          "height": 206
        },
        "id": "TM3KAAC0kqhl",
        "outputId": "45629a70-70fb-40a7-df9b-ade06a68b691"
      }
    },
    {
      "cell_type": "markdown",
      "source": [
        "You lucky champ! you got to know another amazing fact:\n",
        " - Interpolation method by default is linear in nature. It is an imputation technique that assumes a linear relationship between data points and utilises non-missing values from adjacent data points to compute a value for a missing data point.\n",
        "\n",
        "\n",
        "You can explore other techniques involved in interplolation method, which might be usefull for your project."
      ],
      "metadata": {
        "id": "RU3U6gp9kqhm"
      }
    },
    {
      "cell_type": "markdown",
      "source": [
        "Perform KNN imputation\n"
      ],
      "metadata": {
        "id": "o8_jyqTskqhm"
      }
    },
    {
      "cell_type": "code",
      "execution_count": null,
      "source": [
        "# Hint: Import KNNImputer and impute it on d1. Also note: Use n_neighbors=2\n",
        "from sklearn.impute import KNNImputer\n",
        "imputer = KNNImputer(n_neighbors=2)\n",
        "d9 = pd.DataFrame(imputer.fit_transform(d1))"
      ],
      "outputs": [],
      "metadata": {
        "id": "_8fxGCuUkqhm"
      }
    },
    {
      "cell_type": "code",
      "source": [
        "d9.isna().any()"
      ],
      "metadata": {
        "colab": {
          "base_uri": "https://localhost:8080/"
        },
        "id": "16beHgay_JYY",
        "outputId": "3f1b5e68-dda8-4c1c-d798-dd39121df5a4"
      },
      "execution_count": null,
      "outputs": [
        {
          "output_type": "execute_result",
          "data": {
            "text/plain": [
              "0    False\n",
              "1    False\n",
              "dtype: bool"
            ]
          },
          "metadata": {},
          "execution_count": 22
        }
      ]
    },
    {
      "cell_type": "markdown",
      "source": [
        "Point to ponder: KNN is an algorithm that is useful for matching a point with its closest k neighbors in a multi-dimensional space.\n",
        "\n",
        "Do you think scaling is required to implement this method?. Yes you are right the answer is YES.\n",
        "Can you comment below why normalized data is required, so that we understand your logic on this."
      ],
      "metadata": {
        "id": "sESbshdUkqhm"
      }
    },
    {
      "cell_type": "markdown",
      "source": [
        "It requires us to normalize our data. Otherwise, the different scales of our data will lead the KNN Imputer to generate biased replacements for the missing values."
      ],
      "metadata": {
        "id": "xEL5JbBYkqhm"
      }
    },
    {
      "cell_type": "markdown",
      "source": [
        "## **`Dropping Irrelevant Columns`**\n"
      ],
      "metadata": {
        "id": "ReGk1Utckqhn"
      }
    },
    {
      "cell_type": "markdown",
      "source": [
        "<p style='text-align: right;'> 5 points</p>\n"
      ],
      "metadata": {
        "id": "xZuUMHb3kqhn"
      }
    },
    {
      "cell_type": "markdown",
      "source": [
        "Create a dataframe df = pd.DataFrame(np.random.randint(0,100,size=(100, 5)), columns=list('ABCDE'))\n"
      ],
      "metadata": {
        "id": "rJZ0HZJPkqhn"
      }
    },
    {
      "cell_type": "code",
      "execution_count": null,
      "source": [
        "np.random.seed(10)\n",
        "\n",
        "df = pd.DataFrame(np.random.randint(0,100,size=(100,5)),columns=list('ABCDE'))\n",
        "\n"
      ],
      "outputs": [],
      "metadata": {
        "id": "XtENCthAkqhn"
      }
    },
    {
      "cell_type": "markdown",
      "source": [
        "print df"
      ],
      "metadata": {
        "id": "bUQ0M4CKkqhn"
      }
    },
    {
      "cell_type": "code",
      "execution_count": null,
      "source": [
        "print (df)"
      ],
      "outputs": [
        {
          "output_type": "stream",
          "name": "stdout",
          "text": [
            "     A   B   C   D   E\n",
            "0    9  15  64  28  89\n",
            "1   93  29   8  73   0\n",
            "2   40  36  16  11  54\n",
            "3   88  62  33  72  78\n",
            "4   49  51  54  77  69\n",
            "..  ..  ..  ..  ..  ..\n",
            "95   3  50  59  34  21\n",
            "96  16  18  61  54  60\n",
            "97  21  87  83  71  16\n",
            "98  67  38  27  96  87\n",
            "99  98  89  16  82  19\n",
            "\n",
            "[100 rows x 5 columns]\n"
          ]
        }
      ],
      "metadata": {
        "colab": {
          "base_uri": "https://localhost:8080/"
        },
        "id": "iuFh13J_kqho",
        "outputId": "d5d4f0ba-f6f9-4933-f983-665de90393e9"
      }
    },
    {
      "cell_type": "markdown",
      "source": [
        "Note: Since all the rows are having random numbers, your dataframe observations might be different than the output given above"
      ],
      "metadata": {
        "id": "cctu8rh5lL9j"
      }
    },
    {
      "cell_type": "markdown",
      "source": [
        "Suppose for our analysis our project do not require column E. So you need to remove this column. update this new change using inplace parameter"
      ],
      "metadata": {
        "id": "wwTEQf2Jkqho"
      }
    },
    {
      "cell_type": "code",
      "execution_count": null,
      "source": [
        "#drop E\n",
        "df = df.drop(['E'], axis=1)"
      ],
      "outputs": [],
      "metadata": {
        "id": "6dPLhUwikqho"
      }
    },
    {
      "cell_type": "markdown",
      "source": [
        "Check if column **E** is removed by printing head of df"
      ],
      "metadata": {
        "id": "1rtM-5APkqho"
      }
    },
    {
      "cell_type": "code",
      "execution_count": null,
      "source": [
        "#df head\n",
        "df.head()"
      ],
      "outputs": [
        {
          "output_type": "execute_result",
          "data": {
            "text/plain": [
              "    A   B   C   D\n",
              "0   9  15  64  28\n",
              "1  93  29   8  73\n",
              "2  40  36  16  11\n",
              "3  88  62  33  72\n",
              "4  49  51  54  77"
            ],
            "text/html": [
              "\n",
              "  <div id=\"df-31df191a-4e44-4b92-bfbf-54a97d51ec54\">\n",
              "    <div class=\"colab-df-container\">\n",
              "      <div>\n",
              "<style scoped>\n",
              "    .dataframe tbody tr th:only-of-type {\n",
              "        vertical-align: middle;\n",
              "    }\n",
              "\n",
              "    .dataframe tbody tr th {\n",
              "        vertical-align: top;\n",
              "    }\n",
              "\n",
              "    .dataframe thead th {\n",
              "        text-align: right;\n",
              "    }\n",
              "</style>\n",
              "<table border=\"1\" class=\"dataframe\">\n",
              "  <thead>\n",
              "    <tr style=\"text-align: right;\">\n",
              "      <th></th>\n",
              "      <th>A</th>\n",
              "      <th>B</th>\n",
              "      <th>C</th>\n",
              "      <th>D</th>\n",
              "    </tr>\n",
              "  </thead>\n",
              "  <tbody>\n",
              "    <tr>\n",
              "      <th>0</th>\n",
              "      <td>9</td>\n",
              "      <td>15</td>\n",
              "      <td>64</td>\n",
              "      <td>28</td>\n",
              "    </tr>\n",
              "    <tr>\n",
              "      <th>1</th>\n",
              "      <td>93</td>\n",
              "      <td>29</td>\n",
              "      <td>8</td>\n",
              "      <td>73</td>\n",
              "    </tr>\n",
              "    <tr>\n",
              "      <th>2</th>\n",
              "      <td>40</td>\n",
              "      <td>36</td>\n",
              "      <td>16</td>\n",
              "      <td>11</td>\n",
              "    </tr>\n",
              "    <tr>\n",
              "      <th>3</th>\n",
              "      <td>88</td>\n",
              "      <td>62</td>\n",
              "      <td>33</td>\n",
              "      <td>72</td>\n",
              "    </tr>\n",
              "    <tr>\n",
              "      <th>4</th>\n",
              "      <td>49</td>\n",
              "      <td>51</td>\n",
              "      <td>54</td>\n",
              "      <td>77</td>\n",
              "    </tr>\n",
              "  </tbody>\n",
              "</table>\n",
              "</div>\n",
              "      <button class=\"colab-df-convert\" onclick=\"convertToInteractive('df-31df191a-4e44-4b92-bfbf-54a97d51ec54')\"\n",
              "              title=\"Convert this dataframe to an interactive table.\"\n",
              "              style=\"display:none;\">\n",
              "        \n",
              "  <svg xmlns=\"http://www.w3.org/2000/svg\" height=\"24px\"viewBox=\"0 0 24 24\"\n",
              "       width=\"24px\">\n",
              "    <path d=\"M0 0h24v24H0V0z\" fill=\"none\"/>\n",
              "    <path d=\"M18.56 5.44l.94 2.06.94-2.06 2.06-.94-2.06-.94-.94-2.06-.94 2.06-2.06.94zm-11 1L8.5 8.5l.94-2.06 2.06-.94-2.06-.94L8.5 2.5l-.94 2.06-2.06.94zm10 10l.94 2.06.94-2.06 2.06-.94-2.06-.94-.94-2.06-.94 2.06-2.06.94z\"/><path d=\"M17.41 7.96l-1.37-1.37c-.4-.4-.92-.59-1.43-.59-.52 0-1.04.2-1.43.59L10.3 9.45l-7.72 7.72c-.78.78-.78 2.05 0 2.83L4 21.41c.39.39.9.59 1.41.59.51 0 1.02-.2 1.41-.59l7.78-7.78 2.81-2.81c.8-.78.8-2.07 0-2.86zM5.41 20L4 18.59l7.72-7.72 1.47 1.35L5.41 20z\"/>\n",
              "  </svg>\n",
              "      </button>\n",
              "      \n",
              "  <style>\n",
              "    .colab-df-container {\n",
              "      display:flex;\n",
              "      flex-wrap:wrap;\n",
              "      gap: 12px;\n",
              "    }\n",
              "\n",
              "    .colab-df-convert {\n",
              "      background-color: #E8F0FE;\n",
              "      border: none;\n",
              "      border-radius: 50%;\n",
              "      cursor: pointer;\n",
              "      display: none;\n",
              "      fill: #1967D2;\n",
              "      height: 32px;\n",
              "      padding: 0 0 0 0;\n",
              "      width: 32px;\n",
              "    }\n",
              "\n",
              "    .colab-df-convert:hover {\n",
              "      background-color: #E2EBFA;\n",
              "      box-shadow: 0px 1px 2px rgba(60, 64, 67, 0.3), 0px 1px 3px 1px rgba(60, 64, 67, 0.15);\n",
              "      fill: #174EA6;\n",
              "    }\n",
              "\n",
              "    [theme=dark] .colab-df-convert {\n",
              "      background-color: #3B4455;\n",
              "      fill: #D2E3FC;\n",
              "    }\n",
              "\n",
              "    [theme=dark] .colab-df-convert:hover {\n",
              "      background-color: #434B5C;\n",
              "      box-shadow: 0px 1px 3px 1px rgba(0, 0, 0, 0.15);\n",
              "      filter: drop-shadow(0px 1px 2px rgba(0, 0, 0, 0.3));\n",
              "      fill: #FFFFFF;\n",
              "    }\n",
              "  </style>\n",
              "\n",
              "      <script>\n",
              "        const buttonEl =\n",
              "          document.querySelector('#df-31df191a-4e44-4b92-bfbf-54a97d51ec54 button.colab-df-convert');\n",
              "        buttonEl.style.display =\n",
              "          google.colab.kernel.accessAllowed ? 'block' : 'none';\n",
              "\n",
              "        async function convertToInteractive(key) {\n",
              "          const element = document.querySelector('#df-31df191a-4e44-4b92-bfbf-54a97d51ec54');\n",
              "          const dataTable =\n",
              "            await google.colab.kernel.invokeFunction('convertToInteractive',\n",
              "                                                     [key], {});\n",
              "          if (!dataTable) return;\n",
              "\n",
              "          const docLinkHtml = 'Like what you see? Visit the ' +\n",
              "            '<a target=\"_blank\" href=https://colab.research.google.com/notebooks/data_table.ipynb>data table notebook</a>'\n",
              "            + ' to learn more about interactive tables.';\n",
              "          element.innerHTML = '';\n",
              "          dataTable['output_type'] = 'display_data';\n",
              "          await google.colab.output.renderOutput(dataTable, element);\n",
              "          const docLink = document.createElement('div');\n",
              "          docLink.innerHTML = docLinkHtml;\n",
              "          element.appendChild(docLink);\n",
              "        }\n",
              "      </script>\n",
              "    </div>\n",
              "  </div>\n",
              "  "
            ]
          },
          "metadata": {},
          "execution_count": 26
        }
      ],
      "metadata": {
        "colab": {
          "base_uri": "https://localhost:8080/",
          "height": 206
        },
        "id": "yvEa_vfOkqhp",
        "outputId": "b338e54a-a4fb-4c7e-e88e-7074ef598e8d"
      }
    },
    {
      "cell_type": "markdown",
      "source": [
        "### `Ensure requirements as per domain`"
      ],
      "metadata": {
        "id": "XQDwFmMKkqhq"
      }
    },
    {
      "cell_type": "markdown",
      "source": [
        "<p style='text-align: right;'> 10 points</p>\n"
      ],
      "metadata": {
        "id": "uN5BNC29kqhq"
      }
    },
    {
      "cell_type": "code",
      "execution_count": null,
      "source": [
        "YouTubeVideo('https://www.youtube.com/watch?v=Y230Di2SSz8&list=PLsR_0x6BuM-F4Z72h5D1bjWEASL0_JlrF&index=5',width=600,height=300)"
      ],
      "outputs": [
        {
          "output_type": "execute_result",
          "data": {
            "text/plain": [
              "<IPython.lib.display.YouTubeVideo at 0x7fca3fae9690>"
            ],
            "text/html": [
              "\n",
              "        <iframe\n",
              "            width=\"600\"\n",
              "            height=\"300\"\n",
              "            src=\"https://www.youtube.com/embed/https://www.youtube.com/watch?v=Y230Di2SSz8&list=PLsR_0x6BuM-F4Z72h5D1bjWEASL0_JlrF&index=5\"\n",
              "            frameborder=\"0\"\n",
              "            allowfullscreen\n",
              "        ></iframe>\n",
              "        "
            ]
          },
          "metadata": {},
          "execution_count": 27
        }
      ],
      "metadata": {
        "colab": {
          "base_uri": "https://localhost:8080/",
          "height": 322
        },
        "id": "I8Um02eIuaLJ",
        "outputId": "7fef05fc-f7c1-4b1b-dcd1-062727dcc3a5"
      }
    },
    {
      "cell_type": "markdown",
      "source": [
        "\n",
        "Shallow copy the dataframe df in variable df2 and print df2 head\n",
        "\n",
        "\n",
        "\n",
        "\n"
      ],
      "metadata": {
        "id": "V1LgaSKOjnPm"
      }
    },
    {
      "cell_type": "code",
      "execution_count": null,
      "source": [
        "df2 = df \n",
        "\n",
        "#df2 head\n",
        "df2.head()"
      ],
      "outputs": [
        {
          "output_type": "execute_result",
          "data": {
            "text/plain": [
              "    A   B   C   D\n",
              "0   9  15  64  28\n",
              "1  93  29   8  73\n",
              "2  40  36  16  11\n",
              "3  88  62  33  72\n",
              "4  49  51  54  77"
            ],
            "text/html": [
              "\n",
              "  <div id=\"df-ba257ba3-babe-4c74-b556-83a032ff337d\">\n",
              "    <div class=\"colab-df-container\">\n",
              "      <div>\n",
              "<style scoped>\n",
              "    .dataframe tbody tr th:only-of-type {\n",
              "        vertical-align: middle;\n",
              "    }\n",
              "\n",
              "    .dataframe tbody tr th {\n",
              "        vertical-align: top;\n",
              "    }\n",
              "\n",
              "    .dataframe thead th {\n",
              "        text-align: right;\n",
              "    }\n",
              "</style>\n",
              "<table border=\"1\" class=\"dataframe\">\n",
              "  <thead>\n",
              "    <tr style=\"text-align: right;\">\n",
              "      <th></th>\n",
              "      <th>A</th>\n",
              "      <th>B</th>\n",
              "      <th>C</th>\n",
              "      <th>D</th>\n",
              "    </tr>\n",
              "  </thead>\n",
              "  <tbody>\n",
              "    <tr>\n",
              "      <th>0</th>\n",
              "      <td>9</td>\n",
              "      <td>15</td>\n",
              "      <td>64</td>\n",
              "      <td>28</td>\n",
              "    </tr>\n",
              "    <tr>\n",
              "      <th>1</th>\n",
              "      <td>93</td>\n",
              "      <td>29</td>\n",
              "      <td>8</td>\n",
              "      <td>73</td>\n",
              "    </tr>\n",
              "    <tr>\n",
              "      <th>2</th>\n",
              "      <td>40</td>\n",
              "      <td>36</td>\n",
              "      <td>16</td>\n",
              "      <td>11</td>\n",
              "    </tr>\n",
              "    <tr>\n",
              "      <th>3</th>\n",
              "      <td>88</td>\n",
              "      <td>62</td>\n",
              "      <td>33</td>\n",
              "      <td>72</td>\n",
              "    </tr>\n",
              "    <tr>\n",
              "      <th>4</th>\n",
              "      <td>49</td>\n",
              "      <td>51</td>\n",
              "      <td>54</td>\n",
              "      <td>77</td>\n",
              "    </tr>\n",
              "  </tbody>\n",
              "</table>\n",
              "</div>\n",
              "      <button class=\"colab-df-convert\" onclick=\"convertToInteractive('df-ba257ba3-babe-4c74-b556-83a032ff337d')\"\n",
              "              title=\"Convert this dataframe to an interactive table.\"\n",
              "              style=\"display:none;\">\n",
              "        \n",
              "  <svg xmlns=\"http://www.w3.org/2000/svg\" height=\"24px\"viewBox=\"0 0 24 24\"\n",
              "       width=\"24px\">\n",
              "    <path d=\"M0 0h24v24H0V0z\" fill=\"none\"/>\n",
              "    <path d=\"M18.56 5.44l.94 2.06.94-2.06 2.06-.94-2.06-.94-.94-2.06-.94 2.06-2.06.94zm-11 1L8.5 8.5l.94-2.06 2.06-.94-2.06-.94L8.5 2.5l-.94 2.06-2.06.94zm10 10l.94 2.06.94-2.06 2.06-.94-2.06-.94-.94-2.06-.94 2.06-2.06.94z\"/><path d=\"M17.41 7.96l-1.37-1.37c-.4-.4-.92-.59-1.43-.59-.52 0-1.04.2-1.43.59L10.3 9.45l-7.72 7.72c-.78.78-.78 2.05 0 2.83L4 21.41c.39.39.9.59 1.41.59.51 0 1.02-.2 1.41-.59l7.78-7.78 2.81-2.81c.8-.78.8-2.07 0-2.86zM5.41 20L4 18.59l7.72-7.72 1.47 1.35L5.41 20z\"/>\n",
              "  </svg>\n",
              "      </button>\n",
              "      \n",
              "  <style>\n",
              "    .colab-df-container {\n",
              "      display:flex;\n",
              "      flex-wrap:wrap;\n",
              "      gap: 12px;\n",
              "    }\n",
              "\n",
              "    .colab-df-convert {\n",
              "      background-color: #E8F0FE;\n",
              "      border: none;\n",
              "      border-radius: 50%;\n",
              "      cursor: pointer;\n",
              "      display: none;\n",
              "      fill: #1967D2;\n",
              "      height: 32px;\n",
              "      padding: 0 0 0 0;\n",
              "      width: 32px;\n",
              "    }\n",
              "\n",
              "    .colab-df-convert:hover {\n",
              "      background-color: #E2EBFA;\n",
              "      box-shadow: 0px 1px 2px rgba(60, 64, 67, 0.3), 0px 1px 3px 1px rgba(60, 64, 67, 0.15);\n",
              "      fill: #174EA6;\n",
              "    }\n",
              "\n",
              "    [theme=dark] .colab-df-convert {\n",
              "      background-color: #3B4455;\n",
              "      fill: #D2E3FC;\n",
              "    }\n",
              "\n",
              "    [theme=dark] .colab-df-convert:hover {\n",
              "      background-color: #434B5C;\n",
              "      box-shadow: 0px 1px 3px 1px rgba(0, 0, 0, 0.15);\n",
              "      filter: drop-shadow(0px 1px 2px rgba(0, 0, 0, 0.3));\n",
              "      fill: #FFFFFF;\n",
              "    }\n",
              "  </style>\n",
              "\n",
              "      <script>\n",
              "        const buttonEl =\n",
              "          document.querySelector('#df-ba257ba3-babe-4c74-b556-83a032ff337d button.colab-df-convert');\n",
              "        buttonEl.style.display =\n",
              "          google.colab.kernel.accessAllowed ? 'block' : 'none';\n",
              "\n",
              "        async function convertToInteractive(key) {\n",
              "          const element = document.querySelector('#df-ba257ba3-babe-4c74-b556-83a032ff337d');\n",
              "          const dataTable =\n",
              "            await google.colab.kernel.invokeFunction('convertToInteractive',\n",
              "                                                     [key], {});\n",
              "          if (!dataTable) return;\n",
              "\n",
              "          const docLinkHtml = 'Like what you see? Visit the ' +\n",
              "            '<a target=\"_blank\" href=https://colab.research.google.com/notebooks/data_table.ipynb>data table notebook</a>'\n",
              "            + ' to learn more about interactive tables.';\n",
              "          element.innerHTML = '';\n",
              "          dataTable['output_type'] = 'display_data';\n",
              "          await google.colab.output.renderOutput(dataTable, element);\n",
              "          const docLink = document.createElement('div');\n",
              "          docLink.innerHTML = docLinkHtml;\n",
              "          element.appendChild(docLink);\n",
              "        }\n",
              "      </script>\n",
              "    </div>\n",
              "  </div>\n",
              "  "
            ]
          },
          "metadata": {},
          "execution_count": 28
        }
      ],
      "metadata": {
        "colab": {
          "base_uri": "https://localhost:8080/",
          "height": 206
        },
        "id": "uFK6ZRVZjTAt",
        "outputId": "a7c61fc3-9cbf-4ed9-bb22-8f706203832e"
      }
    },
    {
      "cell_type": "markdown",
      "source": [
        "Suppose your domain expert says to filter column B with even numbers to do correct analysis. Implement the same below and update the change in varaible df2."
      ],
      "metadata": {
        "id": "2OmoXpwLkqhq"
      }
    },
    {
      "cell_type": "code",
      "execution_count": null,
      "source": [
        "df2=df2[df2['B'] % 2 == 0]\n"
      ],
      "outputs": [],
      "metadata": {
        "id": "lOG09CHLkqhq"
      }
    },
    {
      "cell_type": "markdown",
      "source": [
        "print updated head of *df2*"
      ],
      "metadata": {
        "id": "9glWk_f8kqhq"
      }
    },
    {
      "cell_type": "code",
      "execution_count": null,
      "source": [
        "# df2 head\n",
        "df2.head()"
      ],
      "outputs": [
        {
          "output_type": "execute_result",
          "data": {
            "text/plain": [
              "     A   B   C   D\n",
              "2   40  36  16  11\n",
              "3   88  62  33  72\n",
              "6   30  30  89  12\n",
              "9   11  28  74  88\n",
              "10  15  18  80  71"
            ],
            "text/html": [
              "\n",
              "  <div id=\"df-23a5f2d9-c7bf-4a1a-978c-dbeeb2f78363\">\n",
              "    <div class=\"colab-df-container\">\n",
              "      <div>\n",
              "<style scoped>\n",
              "    .dataframe tbody tr th:only-of-type {\n",
              "        vertical-align: middle;\n",
              "    }\n",
              "\n",
              "    .dataframe tbody tr th {\n",
              "        vertical-align: top;\n",
              "    }\n",
              "\n",
              "    .dataframe thead th {\n",
              "        text-align: right;\n",
              "    }\n",
              "</style>\n",
              "<table border=\"1\" class=\"dataframe\">\n",
              "  <thead>\n",
              "    <tr style=\"text-align: right;\">\n",
              "      <th></th>\n",
              "      <th>A</th>\n",
              "      <th>B</th>\n",
              "      <th>C</th>\n",
              "      <th>D</th>\n",
              "    </tr>\n",
              "  </thead>\n",
              "  <tbody>\n",
              "    <tr>\n",
              "      <th>2</th>\n",
              "      <td>40</td>\n",
              "      <td>36</td>\n",
              "      <td>16</td>\n",
              "      <td>11</td>\n",
              "    </tr>\n",
              "    <tr>\n",
              "      <th>3</th>\n",
              "      <td>88</td>\n",
              "      <td>62</td>\n",
              "      <td>33</td>\n",
              "      <td>72</td>\n",
              "    </tr>\n",
              "    <tr>\n",
              "      <th>6</th>\n",
              "      <td>30</td>\n",
              "      <td>30</td>\n",
              "      <td>89</td>\n",
              "      <td>12</td>\n",
              "    </tr>\n",
              "    <tr>\n",
              "      <th>9</th>\n",
              "      <td>11</td>\n",
              "      <td>28</td>\n",
              "      <td>74</td>\n",
              "      <td>88</td>\n",
              "    </tr>\n",
              "    <tr>\n",
              "      <th>10</th>\n",
              "      <td>15</td>\n",
              "      <td>18</td>\n",
              "      <td>80</td>\n",
              "      <td>71</td>\n",
              "    </tr>\n",
              "  </tbody>\n",
              "</table>\n",
              "</div>\n",
              "      <button class=\"colab-df-convert\" onclick=\"convertToInteractive('df-23a5f2d9-c7bf-4a1a-978c-dbeeb2f78363')\"\n",
              "              title=\"Convert this dataframe to an interactive table.\"\n",
              "              style=\"display:none;\">\n",
              "        \n",
              "  <svg xmlns=\"http://www.w3.org/2000/svg\" height=\"24px\"viewBox=\"0 0 24 24\"\n",
              "       width=\"24px\">\n",
              "    <path d=\"M0 0h24v24H0V0z\" fill=\"none\"/>\n",
              "    <path d=\"M18.56 5.44l.94 2.06.94-2.06 2.06-.94-2.06-.94-.94-2.06-.94 2.06-2.06.94zm-11 1L8.5 8.5l.94-2.06 2.06-.94-2.06-.94L8.5 2.5l-.94 2.06-2.06.94zm10 10l.94 2.06.94-2.06 2.06-.94-2.06-.94-.94-2.06-.94 2.06-2.06.94z\"/><path d=\"M17.41 7.96l-1.37-1.37c-.4-.4-.92-.59-1.43-.59-.52 0-1.04.2-1.43.59L10.3 9.45l-7.72 7.72c-.78.78-.78 2.05 0 2.83L4 21.41c.39.39.9.59 1.41.59.51 0 1.02-.2 1.41-.59l7.78-7.78 2.81-2.81c.8-.78.8-2.07 0-2.86zM5.41 20L4 18.59l7.72-7.72 1.47 1.35L5.41 20z\"/>\n",
              "  </svg>\n",
              "      </button>\n",
              "      \n",
              "  <style>\n",
              "    .colab-df-container {\n",
              "      display:flex;\n",
              "      flex-wrap:wrap;\n",
              "      gap: 12px;\n",
              "    }\n",
              "\n",
              "    .colab-df-convert {\n",
              "      background-color: #E8F0FE;\n",
              "      border: none;\n",
              "      border-radius: 50%;\n",
              "      cursor: pointer;\n",
              "      display: none;\n",
              "      fill: #1967D2;\n",
              "      height: 32px;\n",
              "      padding: 0 0 0 0;\n",
              "      width: 32px;\n",
              "    }\n",
              "\n",
              "    .colab-df-convert:hover {\n",
              "      background-color: #E2EBFA;\n",
              "      box-shadow: 0px 1px 2px rgba(60, 64, 67, 0.3), 0px 1px 3px 1px rgba(60, 64, 67, 0.15);\n",
              "      fill: #174EA6;\n",
              "    }\n",
              "\n",
              "    [theme=dark] .colab-df-convert {\n",
              "      background-color: #3B4455;\n",
              "      fill: #D2E3FC;\n",
              "    }\n",
              "\n",
              "    [theme=dark] .colab-df-convert:hover {\n",
              "      background-color: #434B5C;\n",
              "      box-shadow: 0px 1px 3px 1px rgba(0, 0, 0, 0.15);\n",
              "      filter: drop-shadow(0px 1px 2px rgba(0, 0, 0, 0.3));\n",
              "      fill: #FFFFFF;\n",
              "    }\n",
              "  </style>\n",
              "\n",
              "      <script>\n",
              "        const buttonEl =\n",
              "          document.querySelector('#df-23a5f2d9-c7bf-4a1a-978c-dbeeb2f78363 button.colab-df-convert');\n",
              "        buttonEl.style.display =\n",
              "          google.colab.kernel.accessAllowed ? 'block' : 'none';\n",
              "\n",
              "        async function convertToInteractive(key) {\n",
              "          const element = document.querySelector('#df-23a5f2d9-c7bf-4a1a-978c-dbeeb2f78363');\n",
              "          const dataTable =\n",
              "            await google.colab.kernel.invokeFunction('convertToInteractive',\n",
              "                                                     [key], {});\n",
              "          if (!dataTable) return;\n",
              "\n",
              "          const docLinkHtml = 'Like what you see? Visit the ' +\n",
              "            '<a target=\"_blank\" href=https://colab.research.google.com/notebooks/data_table.ipynb>data table notebook</a>'\n",
              "            + ' to learn more about interactive tables.';\n",
              "          element.innerHTML = '';\n",
              "          dataTable['output_type'] = 'display_data';\n",
              "          await google.colab.output.renderOutput(dataTable, element);\n",
              "          const docLink = document.createElement('div');\n",
              "          docLink.innerHTML = docLinkHtml;\n",
              "          element.appendChild(docLink);\n",
              "        }\n",
              "      </script>\n",
              "    </div>\n",
              "  </div>\n",
              "  "
            ]
          },
          "metadata": {},
          "execution_count": 30
        }
      ],
      "metadata": {
        "colab": {
          "base_uri": "https://localhost:8080/",
          "height": 206
        },
        "id": "-7DJrucnkqhq",
        "outputId": "3223afb9-5512-4415-ae92-d4f026f607ac"
      }
    },
    {
      "cell_type": "markdown",
      "source": [
        "### `Creating a sensible index values`\n",
        "\n"
      ],
      "metadata": {
        "id": "dRAh9uVnkqhq"
      }
    },
    {
      "cell_type": "markdown",
      "source": [
        "Oops. The index in this dataframe doesn't make sense. please correct index in a sequential manner starting from 1. Save the updates in df2"
      ],
      "metadata": {
        "id": "ngZAGkC2kqhr"
      }
    },
    {
      "cell_type": "code",
      "execution_count": null,
      "source": [
        "#set proper index\n",
        "df3 = df2.reset_index(drop=True)"
      ],
      "outputs": [],
      "metadata": {
        "id": "X_M-38Qxkqhr"
      }
    },
    {
      "cell_type": "markdown",
      "source": [
        "print df2 head again"
      ],
      "metadata": {
        "id": "k7MEL_Ldkqhr"
      }
    },
    {
      "cell_type": "code",
      "source": [
        "df3.head()"
      ],
      "metadata": {
        "colab": {
          "base_uri": "https://localhost:8080/",
          "height": 206
        },
        "id": "bJGUGAfeSWtz",
        "outputId": "62c28266-3552-41b8-b35f-11b5e692c872"
      },
      "execution_count": null,
      "outputs": [
        {
          "output_type": "execute_result",
          "data": {
            "text/plain": [
              "    A   B   C   D\n",
              "0  40  36  16  11\n",
              "1  88  62  33  72\n",
              "2  30  30  89  12\n",
              "3  11  28  74  88\n",
              "4  15  18  80  71"
            ],
            "text/html": [
              "\n",
              "  <div id=\"df-f6da6bc8-0d9d-48fd-9cc1-6813c48f2c2a\">\n",
              "    <div class=\"colab-df-container\">\n",
              "      <div>\n",
              "<style scoped>\n",
              "    .dataframe tbody tr th:only-of-type {\n",
              "        vertical-align: middle;\n",
              "    }\n",
              "\n",
              "    .dataframe tbody tr th {\n",
              "        vertical-align: top;\n",
              "    }\n",
              "\n",
              "    .dataframe thead th {\n",
              "        text-align: right;\n",
              "    }\n",
              "</style>\n",
              "<table border=\"1\" class=\"dataframe\">\n",
              "  <thead>\n",
              "    <tr style=\"text-align: right;\">\n",
              "      <th></th>\n",
              "      <th>A</th>\n",
              "      <th>B</th>\n",
              "      <th>C</th>\n",
              "      <th>D</th>\n",
              "    </tr>\n",
              "  </thead>\n",
              "  <tbody>\n",
              "    <tr>\n",
              "      <th>0</th>\n",
              "      <td>40</td>\n",
              "      <td>36</td>\n",
              "      <td>16</td>\n",
              "      <td>11</td>\n",
              "    </tr>\n",
              "    <tr>\n",
              "      <th>1</th>\n",
              "      <td>88</td>\n",
              "      <td>62</td>\n",
              "      <td>33</td>\n",
              "      <td>72</td>\n",
              "    </tr>\n",
              "    <tr>\n",
              "      <th>2</th>\n",
              "      <td>30</td>\n",
              "      <td>30</td>\n",
              "      <td>89</td>\n",
              "      <td>12</td>\n",
              "    </tr>\n",
              "    <tr>\n",
              "      <th>3</th>\n",
              "      <td>11</td>\n",
              "      <td>28</td>\n",
              "      <td>74</td>\n",
              "      <td>88</td>\n",
              "    </tr>\n",
              "    <tr>\n",
              "      <th>4</th>\n",
              "      <td>15</td>\n",
              "      <td>18</td>\n",
              "      <td>80</td>\n",
              "      <td>71</td>\n",
              "    </tr>\n",
              "  </tbody>\n",
              "</table>\n",
              "</div>\n",
              "      <button class=\"colab-df-convert\" onclick=\"convertToInteractive('df-f6da6bc8-0d9d-48fd-9cc1-6813c48f2c2a')\"\n",
              "              title=\"Convert this dataframe to an interactive table.\"\n",
              "              style=\"display:none;\">\n",
              "        \n",
              "  <svg xmlns=\"http://www.w3.org/2000/svg\" height=\"24px\"viewBox=\"0 0 24 24\"\n",
              "       width=\"24px\">\n",
              "    <path d=\"M0 0h24v24H0V0z\" fill=\"none\"/>\n",
              "    <path d=\"M18.56 5.44l.94 2.06.94-2.06 2.06-.94-2.06-.94-.94-2.06-.94 2.06-2.06.94zm-11 1L8.5 8.5l.94-2.06 2.06-.94-2.06-.94L8.5 2.5l-.94 2.06-2.06.94zm10 10l.94 2.06.94-2.06 2.06-.94-2.06-.94-.94-2.06-.94 2.06-2.06.94z\"/><path d=\"M17.41 7.96l-1.37-1.37c-.4-.4-.92-.59-1.43-.59-.52 0-1.04.2-1.43.59L10.3 9.45l-7.72 7.72c-.78.78-.78 2.05 0 2.83L4 21.41c.39.39.9.59 1.41.59.51 0 1.02-.2 1.41-.59l7.78-7.78 2.81-2.81c.8-.78.8-2.07 0-2.86zM5.41 20L4 18.59l7.72-7.72 1.47 1.35L5.41 20z\"/>\n",
              "  </svg>\n",
              "      </button>\n",
              "      \n",
              "  <style>\n",
              "    .colab-df-container {\n",
              "      display:flex;\n",
              "      flex-wrap:wrap;\n",
              "      gap: 12px;\n",
              "    }\n",
              "\n",
              "    .colab-df-convert {\n",
              "      background-color: #E8F0FE;\n",
              "      border: none;\n",
              "      border-radius: 50%;\n",
              "      cursor: pointer;\n",
              "      display: none;\n",
              "      fill: #1967D2;\n",
              "      height: 32px;\n",
              "      padding: 0 0 0 0;\n",
              "      width: 32px;\n",
              "    }\n",
              "\n",
              "    .colab-df-convert:hover {\n",
              "      background-color: #E2EBFA;\n",
              "      box-shadow: 0px 1px 2px rgba(60, 64, 67, 0.3), 0px 1px 3px 1px rgba(60, 64, 67, 0.15);\n",
              "      fill: #174EA6;\n",
              "    }\n",
              "\n",
              "    [theme=dark] .colab-df-convert {\n",
              "      background-color: #3B4455;\n",
              "      fill: #D2E3FC;\n",
              "    }\n",
              "\n",
              "    [theme=dark] .colab-df-convert:hover {\n",
              "      background-color: #434B5C;\n",
              "      box-shadow: 0px 1px 3px 1px rgba(0, 0, 0, 0.15);\n",
              "      filter: drop-shadow(0px 1px 2px rgba(0, 0, 0, 0.3));\n",
              "      fill: #FFFFFF;\n",
              "    }\n",
              "  </style>\n",
              "\n",
              "      <script>\n",
              "        const buttonEl =\n",
              "          document.querySelector('#df-f6da6bc8-0d9d-48fd-9cc1-6813c48f2c2a button.colab-df-convert');\n",
              "        buttonEl.style.display =\n",
              "          google.colab.kernel.accessAllowed ? 'block' : 'none';\n",
              "\n",
              "        async function convertToInteractive(key) {\n",
              "          const element = document.querySelector('#df-f6da6bc8-0d9d-48fd-9cc1-6813c48f2c2a');\n",
              "          const dataTable =\n",
              "            await google.colab.kernel.invokeFunction('convertToInteractive',\n",
              "                                                     [key], {});\n",
              "          if (!dataTable) return;\n",
              "\n",
              "          const docLinkHtml = 'Like what you see? Visit the ' +\n",
              "            '<a target=\"_blank\" href=https://colab.research.google.com/notebooks/data_table.ipynb>data table notebook</a>'\n",
              "            + ' to learn more about interactive tables.';\n",
              "          element.innerHTML = '';\n",
              "          dataTable['output_type'] = 'display_data';\n",
              "          await google.colab.output.renderOutput(dataTable, element);\n",
              "          const docLink = document.createElement('div');\n",
              "          docLink.innerHTML = docLinkHtml;\n",
              "          element.appendChild(docLink);\n",
              "        }\n",
              "      </script>\n",
              "    </div>\n",
              "  </div>\n",
              "  "
            ]
          },
          "metadata": {},
          "execution_count": 32
        }
      ]
    },
    {
      "cell_type": "code",
      "source": [
        "df3.head()"
      ],
      "metadata": {
        "colab": {
          "base_uri": "https://localhost:8080/",
          "height": 206
        },
        "id": "YaVyH0M-cARF",
        "outputId": "490cc9d6-1ec1-4b21-8945-b7abb1525e5c"
      },
      "execution_count": null,
      "outputs": [
        {
          "output_type": "execute_result",
          "data": {
            "text/plain": [
              "    A   B   C   D\n",
              "0  40  36  16  11\n",
              "1  88  62  33  72\n",
              "2  30  30  89  12\n",
              "3  11  28  74  88\n",
              "4  15  18  80  71"
            ],
            "text/html": [
              "\n",
              "  <div id=\"df-c7276cd0-6bfa-440f-be2b-3918e0eb1933\">\n",
              "    <div class=\"colab-df-container\">\n",
              "      <div>\n",
              "<style scoped>\n",
              "    .dataframe tbody tr th:only-of-type {\n",
              "        vertical-align: middle;\n",
              "    }\n",
              "\n",
              "    .dataframe tbody tr th {\n",
              "        vertical-align: top;\n",
              "    }\n",
              "\n",
              "    .dataframe thead th {\n",
              "        text-align: right;\n",
              "    }\n",
              "</style>\n",
              "<table border=\"1\" class=\"dataframe\">\n",
              "  <thead>\n",
              "    <tr style=\"text-align: right;\">\n",
              "      <th></th>\n",
              "      <th>A</th>\n",
              "      <th>B</th>\n",
              "      <th>C</th>\n",
              "      <th>D</th>\n",
              "    </tr>\n",
              "  </thead>\n",
              "  <tbody>\n",
              "    <tr>\n",
              "      <th>0</th>\n",
              "      <td>40</td>\n",
              "      <td>36</td>\n",
              "      <td>16</td>\n",
              "      <td>11</td>\n",
              "    </tr>\n",
              "    <tr>\n",
              "      <th>1</th>\n",
              "      <td>88</td>\n",
              "      <td>62</td>\n",
              "      <td>33</td>\n",
              "      <td>72</td>\n",
              "    </tr>\n",
              "    <tr>\n",
              "      <th>2</th>\n",
              "      <td>30</td>\n",
              "      <td>30</td>\n",
              "      <td>89</td>\n",
              "      <td>12</td>\n",
              "    </tr>\n",
              "    <tr>\n",
              "      <th>3</th>\n",
              "      <td>11</td>\n",
              "      <td>28</td>\n",
              "      <td>74</td>\n",
              "      <td>88</td>\n",
              "    </tr>\n",
              "    <tr>\n",
              "      <th>4</th>\n",
              "      <td>15</td>\n",
              "      <td>18</td>\n",
              "      <td>80</td>\n",
              "      <td>71</td>\n",
              "    </tr>\n",
              "  </tbody>\n",
              "</table>\n",
              "</div>\n",
              "      <button class=\"colab-df-convert\" onclick=\"convertToInteractive('df-c7276cd0-6bfa-440f-be2b-3918e0eb1933')\"\n",
              "              title=\"Convert this dataframe to an interactive table.\"\n",
              "              style=\"display:none;\">\n",
              "        \n",
              "  <svg xmlns=\"http://www.w3.org/2000/svg\" height=\"24px\"viewBox=\"0 0 24 24\"\n",
              "       width=\"24px\">\n",
              "    <path d=\"M0 0h24v24H0V0z\" fill=\"none\"/>\n",
              "    <path d=\"M18.56 5.44l.94 2.06.94-2.06 2.06-.94-2.06-.94-.94-2.06-.94 2.06-2.06.94zm-11 1L8.5 8.5l.94-2.06 2.06-.94-2.06-.94L8.5 2.5l-.94 2.06-2.06.94zm10 10l.94 2.06.94-2.06 2.06-.94-2.06-.94-.94-2.06-.94 2.06-2.06.94z\"/><path d=\"M17.41 7.96l-1.37-1.37c-.4-.4-.92-.59-1.43-.59-.52 0-1.04.2-1.43.59L10.3 9.45l-7.72 7.72c-.78.78-.78 2.05 0 2.83L4 21.41c.39.39.9.59 1.41.59.51 0 1.02-.2 1.41-.59l7.78-7.78 2.81-2.81c.8-.78.8-2.07 0-2.86zM5.41 20L4 18.59l7.72-7.72 1.47 1.35L5.41 20z\"/>\n",
              "  </svg>\n",
              "      </button>\n",
              "      \n",
              "  <style>\n",
              "    .colab-df-container {\n",
              "      display:flex;\n",
              "      flex-wrap:wrap;\n",
              "      gap: 12px;\n",
              "    }\n",
              "\n",
              "    .colab-df-convert {\n",
              "      background-color: #E8F0FE;\n",
              "      border: none;\n",
              "      border-radius: 50%;\n",
              "      cursor: pointer;\n",
              "      display: none;\n",
              "      fill: #1967D2;\n",
              "      height: 32px;\n",
              "      padding: 0 0 0 0;\n",
              "      width: 32px;\n",
              "    }\n",
              "\n",
              "    .colab-df-convert:hover {\n",
              "      background-color: #E2EBFA;\n",
              "      box-shadow: 0px 1px 2px rgba(60, 64, 67, 0.3), 0px 1px 3px 1px rgba(60, 64, 67, 0.15);\n",
              "      fill: #174EA6;\n",
              "    }\n",
              "\n",
              "    [theme=dark] .colab-df-convert {\n",
              "      background-color: #3B4455;\n",
              "      fill: #D2E3FC;\n",
              "    }\n",
              "\n",
              "    [theme=dark] .colab-df-convert:hover {\n",
              "      background-color: #434B5C;\n",
              "      box-shadow: 0px 1px 3px 1px rgba(0, 0, 0, 0.15);\n",
              "      filter: drop-shadow(0px 1px 2px rgba(0, 0, 0, 0.3));\n",
              "      fill: #FFFFFF;\n",
              "    }\n",
              "  </style>\n",
              "\n",
              "      <script>\n",
              "        const buttonEl =\n",
              "          document.querySelector('#df-c7276cd0-6bfa-440f-be2b-3918e0eb1933 button.colab-df-convert');\n",
              "        buttonEl.style.display =\n",
              "          google.colab.kernel.accessAllowed ? 'block' : 'none';\n",
              "\n",
              "        async function convertToInteractive(key) {\n",
              "          const element = document.querySelector('#df-c7276cd0-6bfa-440f-be2b-3918e0eb1933');\n",
              "          const dataTable =\n",
              "            await google.colab.kernel.invokeFunction('convertToInteractive',\n",
              "                                                     [key], {});\n",
              "          if (!dataTable) return;\n",
              "\n",
              "          const docLinkHtml = 'Like what you see? Visit the ' +\n",
              "            '<a target=\"_blank\" href=https://colab.research.google.com/notebooks/data_table.ipynb>data table notebook</a>'\n",
              "            + ' to learn more about interactive tables.';\n",
              "          element.innerHTML = '';\n",
              "          dataTable['output_type'] = 'display_data';\n",
              "          await google.colab.output.renderOutput(dataTable, element);\n",
              "          const docLink = document.createElement('div');\n",
              "          docLink.innerHTML = docLinkHtml;\n",
              "          element.appendChild(docLink);\n",
              "        }\n",
              "      </script>\n",
              "    </div>\n",
              "  </div>\n",
              "  "
            ]
          },
          "metadata": {},
          "execution_count": 34
        }
      ]
    },
    {
      "cell_type": "markdown",
      "source": [
        "## **`Renaming column names to meaningful names.`**\n",
        "\n",
        "<p style='text-align: right;'> 2 points</p>\n"
      ],
      "metadata": {
        "id": "t1htc1J-kqhr"
      }
    },
    {
      "cell_type": "markdown",
      "source": [
        "Now df2 columns represents marks of the adventurous 'Anand', the brave 'Barkha', the compassionate 'Chandu' and the dashing 'Daniel'. Rename the columns with their name inplace of their first letter of their name."
      ],
      "metadata": {
        "id": "P3JtdP4fkqhr"
      }
    },
    {
      "cell_type": "code",
      "execution_count": null,
      "source": [
        "#column renaming\n",
        "df3.columns = ['Anand','Barkha','Chandu','Daniel']\n"
      ],
      "outputs": [],
      "metadata": {
        "id": "wsQ2Sr-9kqhs"
      }
    },
    {
      "cell_type": "markdown",
      "source": [
        "print df2 tail with updated column names"
      ],
      "metadata": {
        "id": "wwV5om7Ikqhs"
      }
    },
    {
      "cell_type": "code",
      "execution_count": null,
      "source": [
        "# df2 head\n",
        "df3.tail()"
      ],
      "outputs": [
        {
          "output_type": "execute_result",
          "data": {
            "text/plain": [
              "    Anand  Barkha  Chandu  Daniel\n",
              "43      1      82      34      11\n",
              "44     74      36       6      63\n",
              "45      3      50      59      34\n",
              "46     16      18      61      54\n",
              "47     67      38      27      96"
            ],
            "text/html": [
              "\n",
              "  <div id=\"df-7644a7cb-3ad6-4c38-b46c-c22462501052\">\n",
              "    <div class=\"colab-df-container\">\n",
              "      <div>\n",
              "<style scoped>\n",
              "    .dataframe tbody tr th:only-of-type {\n",
              "        vertical-align: middle;\n",
              "    }\n",
              "\n",
              "    .dataframe tbody tr th {\n",
              "        vertical-align: top;\n",
              "    }\n",
              "\n",
              "    .dataframe thead th {\n",
              "        text-align: right;\n",
              "    }\n",
              "</style>\n",
              "<table border=\"1\" class=\"dataframe\">\n",
              "  <thead>\n",
              "    <tr style=\"text-align: right;\">\n",
              "      <th></th>\n",
              "      <th>Anand</th>\n",
              "      <th>Barkha</th>\n",
              "      <th>Chandu</th>\n",
              "      <th>Daniel</th>\n",
              "    </tr>\n",
              "  </thead>\n",
              "  <tbody>\n",
              "    <tr>\n",
              "      <th>43</th>\n",
              "      <td>1</td>\n",
              "      <td>82</td>\n",
              "      <td>34</td>\n",
              "      <td>11</td>\n",
              "    </tr>\n",
              "    <tr>\n",
              "      <th>44</th>\n",
              "      <td>74</td>\n",
              "      <td>36</td>\n",
              "      <td>6</td>\n",
              "      <td>63</td>\n",
              "    </tr>\n",
              "    <tr>\n",
              "      <th>45</th>\n",
              "      <td>3</td>\n",
              "      <td>50</td>\n",
              "      <td>59</td>\n",
              "      <td>34</td>\n",
              "    </tr>\n",
              "    <tr>\n",
              "      <th>46</th>\n",
              "      <td>16</td>\n",
              "      <td>18</td>\n",
              "      <td>61</td>\n",
              "      <td>54</td>\n",
              "    </tr>\n",
              "    <tr>\n",
              "      <th>47</th>\n",
              "      <td>67</td>\n",
              "      <td>38</td>\n",
              "      <td>27</td>\n",
              "      <td>96</td>\n",
              "    </tr>\n",
              "  </tbody>\n",
              "</table>\n",
              "</div>\n",
              "      <button class=\"colab-df-convert\" onclick=\"convertToInteractive('df-7644a7cb-3ad6-4c38-b46c-c22462501052')\"\n",
              "              title=\"Convert this dataframe to an interactive table.\"\n",
              "              style=\"display:none;\">\n",
              "        \n",
              "  <svg xmlns=\"http://www.w3.org/2000/svg\" height=\"24px\"viewBox=\"0 0 24 24\"\n",
              "       width=\"24px\">\n",
              "    <path d=\"M0 0h24v24H0V0z\" fill=\"none\"/>\n",
              "    <path d=\"M18.56 5.44l.94 2.06.94-2.06 2.06-.94-2.06-.94-.94-2.06-.94 2.06-2.06.94zm-11 1L8.5 8.5l.94-2.06 2.06-.94-2.06-.94L8.5 2.5l-.94 2.06-2.06.94zm10 10l.94 2.06.94-2.06 2.06-.94-2.06-.94-.94-2.06-.94 2.06-2.06.94z\"/><path d=\"M17.41 7.96l-1.37-1.37c-.4-.4-.92-.59-1.43-.59-.52 0-1.04.2-1.43.59L10.3 9.45l-7.72 7.72c-.78.78-.78 2.05 0 2.83L4 21.41c.39.39.9.59 1.41.59.51 0 1.02-.2 1.41-.59l7.78-7.78 2.81-2.81c.8-.78.8-2.07 0-2.86zM5.41 20L4 18.59l7.72-7.72 1.47 1.35L5.41 20z\"/>\n",
              "  </svg>\n",
              "      </button>\n",
              "      \n",
              "  <style>\n",
              "    .colab-df-container {\n",
              "      display:flex;\n",
              "      flex-wrap:wrap;\n",
              "      gap: 12px;\n",
              "    }\n",
              "\n",
              "    .colab-df-convert {\n",
              "      background-color: #E8F0FE;\n",
              "      border: none;\n",
              "      border-radius: 50%;\n",
              "      cursor: pointer;\n",
              "      display: none;\n",
              "      fill: #1967D2;\n",
              "      height: 32px;\n",
              "      padding: 0 0 0 0;\n",
              "      width: 32px;\n",
              "    }\n",
              "\n",
              "    .colab-df-convert:hover {\n",
              "      background-color: #E2EBFA;\n",
              "      box-shadow: 0px 1px 2px rgba(60, 64, 67, 0.3), 0px 1px 3px 1px rgba(60, 64, 67, 0.15);\n",
              "      fill: #174EA6;\n",
              "    }\n",
              "\n",
              "    [theme=dark] .colab-df-convert {\n",
              "      background-color: #3B4455;\n",
              "      fill: #D2E3FC;\n",
              "    }\n",
              "\n",
              "    [theme=dark] .colab-df-convert:hover {\n",
              "      background-color: #434B5C;\n",
              "      box-shadow: 0px 1px 3px 1px rgba(0, 0, 0, 0.15);\n",
              "      filter: drop-shadow(0px 1px 2px rgba(0, 0, 0, 0.3));\n",
              "      fill: #FFFFFF;\n",
              "    }\n",
              "  </style>\n",
              "\n",
              "      <script>\n",
              "        const buttonEl =\n",
              "          document.querySelector('#df-7644a7cb-3ad6-4c38-b46c-c22462501052 button.colab-df-convert');\n",
              "        buttonEl.style.display =\n",
              "          google.colab.kernel.accessAllowed ? 'block' : 'none';\n",
              "\n",
              "        async function convertToInteractive(key) {\n",
              "          const element = document.querySelector('#df-7644a7cb-3ad6-4c38-b46c-c22462501052');\n",
              "          const dataTable =\n",
              "            await google.colab.kernel.invokeFunction('convertToInteractive',\n",
              "                                                     [key], {});\n",
              "          if (!dataTable) return;\n",
              "\n",
              "          const docLinkHtml = 'Like what you see? Visit the ' +\n",
              "            '<a target=\"_blank\" href=https://colab.research.google.com/notebooks/data_table.ipynb>data table notebook</a>'\n",
              "            + ' to learn more about interactive tables.';\n",
              "          element.innerHTML = '';\n",
              "          dataTable['output_type'] = 'display_data';\n",
              "          await google.colab.output.renderOutput(dataTable, element);\n",
              "          const docLink = document.createElement('div');\n",
              "          docLink.innerHTML = docLinkHtml;\n",
              "          element.appendChild(docLink);\n",
              "        }\n",
              "      </script>\n",
              "    </div>\n",
              "  </div>\n",
              "  "
            ]
          },
          "metadata": {},
          "execution_count": 36
        }
      ],
      "metadata": {
        "colab": {
          "base_uri": "https://localhost:8080/",
          "height": 206
        },
        "id": "ZA5btO84kqhs",
        "outputId": "faa8ee44-9968-488f-f42f-8bb8a2047668"
      }
    },
    {
      "cell_type": "markdown",
      "source": [
        "Yeah! now the data looks pretty meaningful to study"
      ],
      "metadata": {
        "id": "OVPJo5YEkqhs"
      }
    },
    {
      "cell_type": "markdown",
      "source": [
        "## **`Treating Duplicate Data`**\n"
      ],
      "metadata": {
        "id": "TmIexkkOkqhs"
      }
    },
    {
      "cell_type": "markdown",
      "source": [
        "<p style='text-align: right;'> 20 points</p>\n"
      ],
      "metadata": {
        "id": "WndpHrtvkqhs"
      }
    },
    {
      "cell_type": "markdown",
      "source": [
        "Make another dataframe df3 by deep copying df2."
      ],
      "metadata": {
        "id": "FisYRuFD0CA7"
      }
    },
    {
      "cell_type": "code",
      "execution_count": null,
      "source": [
        "df4 = df3.copy()"
      ],
      "outputs": [],
      "metadata": {
        "id": "7YdZvdGozNFT"
      }
    },
    {
      "cell_type": "markdown",
      "source": [
        "Make another column in df3 with name 'dummy' having 0 as values\n",
        "throughout the rows."
      ],
      "metadata": {
        "id": "3hCi4Zjokqhs"
      }
    },
    {
      "cell_type": "code",
      "execution_count": null,
      "source": [
        "#assign dummy column full of zero value\n",
        "dummy = 0\n",
        "df4['dummy'] = dummy"
      ],
      "outputs": [],
      "metadata": {
        "id": "IdXkjwYHkqht"
      }
    },
    {
      "cell_type": "code",
      "execution_count": null,
      "source": [
        "# print head of df, df2 and df3\n",
        "print(df.head())\n",
        "print(df3.head())\n",
        "print(df4.head())\n"
      ],
      "outputs": [
        {
          "output_type": "stream",
          "name": "stdout",
          "text": [
            "    A   B   C   D\n",
            "0   9  15  64  28\n",
            "1  93  29   8  73\n",
            "2  40  36  16  11\n",
            "3  88  62  33  72\n",
            "4  49  51  54  77\n",
            "   Anand  Barkha  Chandu  Daniel\n",
            "0     40      36      16      11\n",
            "1     88      62      33      72\n",
            "2     30      30      89      12\n",
            "3     11      28      74      88\n",
            "4     15      18      80      71\n",
            "   Anand  Barkha  Chandu  Daniel  dummy\n",
            "0     40      36      16      11      0\n",
            "1     88      62      33      72      0\n",
            "2     30      30      89      12      0\n",
            "3     11      28      74      88      0\n",
            "4     15      18      80      71      0\n"
          ]
        }
      ],
      "metadata": {
        "colab": {
          "base_uri": "https://localhost:8080/"
        },
        "id": "en7XzaxD2rrV",
        "outputId": "da91aed3-9de4-47bc-fbb6-19e539ef8fe7"
      }
    },
    {
      "cell_type": "markdown",
      "source": [
        "Hey buddy! Don't you think, there is some difference between copy operation used for creating df2 and df3.\n",
        "\n",
        "If you think Yes, Then please comment below the difference"
      ],
      "metadata": {
        "id": "MxcNd_Ja1YXs"
      }
    },
    {
      "cell_type": "code",
      "execution_count": null,
      "source": [
        "# comment"
      ],
      "outputs": [],
      "metadata": {
        "id": "HLLRqTPx1oRs"
      }
    },
    {
      "cell_type": "markdown",
      "source": [
        "print tail of df3"
      ],
      "metadata": {
        "id": "2vlkb3edkqht"
      }
    },
    {
      "cell_type": "code",
      "execution_count": null,
      "source": [
        "# df3 tail\n",
        "df4.tail()"
      ],
      "outputs": [
        {
          "output_type": "execute_result",
          "data": {
            "text/plain": [
              "    Anand  Barkha  Chandu  Daniel  dummy\n",
              "43      1      82      34      11      0\n",
              "44     74      36       6      63      0\n",
              "45      3      50      59      34      0\n",
              "46     16      18      61      54      0\n",
              "47     67      38      27      96      0"
            ],
            "text/html": [
              "\n",
              "  <div id=\"df-d99a3a9d-cded-4fe4-86b5-7210b70389ab\">\n",
              "    <div class=\"colab-df-container\">\n",
              "      <div>\n",
              "<style scoped>\n",
              "    .dataframe tbody tr th:only-of-type {\n",
              "        vertical-align: middle;\n",
              "    }\n",
              "\n",
              "    .dataframe tbody tr th {\n",
              "        vertical-align: top;\n",
              "    }\n",
              "\n",
              "    .dataframe thead th {\n",
              "        text-align: right;\n",
              "    }\n",
              "</style>\n",
              "<table border=\"1\" class=\"dataframe\">\n",
              "  <thead>\n",
              "    <tr style=\"text-align: right;\">\n",
              "      <th></th>\n",
              "      <th>Anand</th>\n",
              "      <th>Barkha</th>\n",
              "      <th>Chandu</th>\n",
              "      <th>Daniel</th>\n",
              "      <th>dummy</th>\n",
              "    </tr>\n",
              "  </thead>\n",
              "  <tbody>\n",
              "    <tr>\n",
              "      <th>43</th>\n",
              "      <td>1</td>\n",
              "      <td>82</td>\n",
              "      <td>34</td>\n",
              "      <td>11</td>\n",
              "      <td>0</td>\n",
              "    </tr>\n",
              "    <tr>\n",
              "      <th>44</th>\n",
              "      <td>74</td>\n",
              "      <td>36</td>\n",
              "      <td>6</td>\n",
              "      <td>63</td>\n",
              "      <td>0</td>\n",
              "    </tr>\n",
              "    <tr>\n",
              "      <th>45</th>\n",
              "      <td>3</td>\n",
              "      <td>50</td>\n",
              "      <td>59</td>\n",
              "      <td>34</td>\n",
              "      <td>0</td>\n",
              "    </tr>\n",
              "    <tr>\n",
              "      <th>46</th>\n",
              "      <td>16</td>\n",
              "      <td>18</td>\n",
              "      <td>61</td>\n",
              "      <td>54</td>\n",
              "      <td>0</td>\n",
              "    </tr>\n",
              "    <tr>\n",
              "      <th>47</th>\n",
              "      <td>67</td>\n",
              "      <td>38</td>\n",
              "      <td>27</td>\n",
              "      <td>96</td>\n",
              "      <td>0</td>\n",
              "    </tr>\n",
              "  </tbody>\n",
              "</table>\n",
              "</div>\n",
              "      <button class=\"colab-df-convert\" onclick=\"convertToInteractive('df-d99a3a9d-cded-4fe4-86b5-7210b70389ab')\"\n",
              "              title=\"Convert this dataframe to an interactive table.\"\n",
              "              style=\"display:none;\">\n",
              "        \n",
              "  <svg xmlns=\"http://www.w3.org/2000/svg\" height=\"24px\"viewBox=\"0 0 24 24\"\n",
              "       width=\"24px\">\n",
              "    <path d=\"M0 0h24v24H0V0z\" fill=\"none\"/>\n",
              "    <path d=\"M18.56 5.44l.94 2.06.94-2.06 2.06-.94-2.06-.94-.94-2.06-.94 2.06-2.06.94zm-11 1L8.5 8.5l.94-2.06 2.06-.94-2.06-.94L8.5 2.5l-.94 2.06-2.06.94zm10 10l.94 2.06.94-2.06 2.06-.94-2.06-.94-.94-2.06-.94 2.06-2.06.94z\"/><path d=\"M17.41 7.96l-1.37-1.37c-.4-.4-.92-.59-1.43-.59-.52 0-1.04.2-1.43.59L10.3 9.45l-7.72 7.72c-.78.78-.78 2.05 0 2.83L4 21.41c.39.39.9.59 1.41.59.51 0 1.02-.2 1.41-.59l7.78-7.78 2.81-2.81c.8-.78.8-2.07 0-2.86zM5.41 20L4 18.59l7.72-7.72 1.47 1.35L5.41 20z\"/>\n",
              "  </svg>\n",
              "      </button>\n",
              "      \n",
              "  <style>\n",
              "    .colab-df-container {\n",
              "      display:flex;\n",
              "      flex-wrap:wrap;\n",
              "      gap: 12px;\n",
              "    }\n",
              "\n",
              "    .colab-df-convert {\n",
              "      background-color: #E8F0FE;\n",
              "      border: none;\n",
              "      border-radius: 50%;\n",
              "      cursor: pointer;\n",
              "      display: none;\n",
              "      fill: #1967D2;\n",
              "      height: 32px;\n",
              "      padding: 0 0 0 0;\n",
              "      width: 32px;\n",
              "    }\n",
              "\n",
              "    .colab-df-convert:hover {\n",
              "      background-color: #E2EBFA;\n",
              "      box-shadow: 0px 1px 2px rgba(60, 64, 67, 0.3), 0px 1px 3px 1px rgba(60, 64, 67, 0.15);\n",
              "      fill: #174EA6;\n",
              "    }\n",
              "\n",
              "    [theme=dark] .colab-df-convert {\n",
              "      background-color: #3B4455;\n",
              "      fill: #D2E3FC;\n",
              "    }\n",
              "\n",
              "    [theme=dark] .colab-df-convert:hover {\n",
              "      background-color: #434B5C;\n",
              "      box-shadow: 0px 1px 3px 1px rgba(0, 0, 0, 0.15);\n",
              "      filter: drop-shadow(0px 1px 2px rgba(0, 0, 0, 0.3));\n",
              "      fill: #FFFFFF;\n",
              "    }\n",
              "  </style>\n",
              "\n",
              "      <script>\n",
              "        const buttonEl =\n",
              "          document.querySelector('#df-d99a3a9d-cded-4fe4-86b5-7210b70389ab button.colab-df-convert');\n",
              "        buttonEl.style.display =\n",
              "          google.colab.kernel.accessAllowed ? 'block' : 'none';\n",
              "\n",
              "        async function convertToInteractive(key) {\n",
              "          const element = document.querySelector('#df-d99a3a9d-cded-4fe4-86b5-7210b70389ab');\n",
              "          const dataTable =\n",
              "            await google.colab.kernel.invokeFunction('convertToInteractive',\n",
              "                                                     [key], {});\n",
              "          if (!dataTable) return;\n",
              "\n",
              "          const docLinkHtml = 'Like what you see? Visit the ' +\n",
              "            '<a target=\"_blank\" href=https://colab.research.google.com/notebooks/data_table.ipynb>data table notebook</a>'\n",
              "            + ' to learn more about interactive tables.';\n",
              "          element.innerHTML = '';\n",
              "          dataTable['output_type'] = 'display_data';\n",
              "          await google.colab.output.renderOutput(dataTable, element);\n",
              "          const docLink = document.createElement('div');\n",
              "          docLink.innerHTML = docLinkHtml;\n",
              "          element.appendChild(docLink);\n",
              "        }\n",
              "      </script>\n",
              "    </div>\n",
              "  </div>\n",
              "  "
            ]
          },
          "metadata": {},
          "execution_count": 41
        }
      ],
      "metadata": {
        "colab": {
          "base_uri": "https://localhost:8080/",
          "height": 206
        },
        "id": "asZ8XuR55qIC",
        "outputId": "06fd7a00-8058-43f1-b450-7d7e878dea48"
      }
    },
    {
      "cell_type": "markdown",
      "source": [
        "make an array name 'ListB' with values of column 'Barkha'"
      ],
      "metadata": {
        "id": "r4ulvQTdkqht"
      }
    },
    {
      "cell_type": "code",
      "source": [
        "listB = df4.Barkha"
      ],
      "metadata": {
        "id": "jwEO85RvwCld"
      },
      "execution_count": null,
      "outputs": []
    },
    {
      "cell_type": "code",
      "source": [
        "listB"
      ],
      "metadata": {
        "id": "jyomrGGCwJKr"
      },
      "execution_count": null,
      "outputs": []
    },
    {
      "cell_type": "code",
      "source": [
        "Anonymous = pd.Series(listB)"
      ],
      "metadata": {
        "id": "svRYz61rqcZC",
        "colab": {
          "base_uri": "https://localhost:8080/",
          "height": 165
        },
        "outputId": "fb4fa459-a5f0-4575-a4f7-a92885cbf2fa"
      },
      "execution_count": null,
      "outputs": [
        {
          "output_type": "error",
          "ename": "NameError",
          "evalue": "ignored",
          "traceback": [
            "\u001b[0;31m---------------------------------------------------------------------------\u001b[0m",
            "\u001b[0;31mNameError\u001b[0m                                 Traceback (most recent call last)",
            "\u001b[0;32m<ipython-input-3-6677d78ff284>\u001b[0m in \u001b[0;36m<module>\u001b[0;34m\u001b[0m\n\u001b[0;32m----> 1\u001b[0;31m \u001b[0mAnonymous\u001b[0m \u001b[0;34m=\u001b[0m \u001b[0mpd\u001b[0m\u001b[0;34m.\u001b[0m\u001b[0mSeries\u001b[0m\u001b[0;34m(\u001b[0m\u001b[0mlistB\u001b[0m\u001b[0;34m)\u001b[0m\u001b[0;34m\u001b[0m\u001b[0;34m\u001b[0m\u001b[0m\n\u001b[0m",
            "\u001b[0;31mNameError\u001b[0m: name 'listB' is not defined"
          ]
        }
      ]
    },
    {
      "cell_type": "code",
      "source": [
        "df4['Anonymous'] = Anonymous"
      ],
      "metadata": {
        "id": "6LyPAtXemVE8"
      },
      "execution_count": null,
      "outputs": []
    },
    {
      "cell_type": "code",
      "source": [
        "df5 = df4.drop(df4.iloc[:,0:47], axis=1)"
      ],
      "metadata": {
        "id": "4dt7f4TLwg0S"
      },
      "execution_count": null,
      "outputs": []
    },
    {
      "cell_type": "code",
      "source": [
        "df5.head()"
      ],
      "metadata": {
        "colab": {
          "base_uri": "https://localhost:8080/",
          "height": 206
        },
        "id": "BsIbmzu7yYVO",
        "outputId": "57899b11-c967-4853-f192-d83bd49f2853"
      },
      "execution_count": null,
      "outputs": [
        {
          "output_type": "execute_result",
          "data": {
            "text/plain": [
              "   Anand  Anonymous  Barkha  Chandu  Daniel  dummy\n",
              "0   40.0       36.0    36.0    16.0    11.0    0.0\n",
              "1   88.0       62.0    62.0    33.0    72.0    0.0\n",
              "2   30.0       30.0    30.0    89.0    12.0    0.0\n",
              "3   11.0       28.0    28.0    74.0    88.0    0.0\n",
              "4   15.0       18.0    18.0    80.0    71.0    0.0"
            ],
            "text/html": [
              "\n",
              "  <div id=\"df-e3a62c0c-983e-47e1-b0b2-22b7ff5c0df4\">\n",
              "    <div class=\"colab-df-container\">\n",
              "      <div>\n",
              "<style scoped>\n",
              "    .dataframe tbody tr th:only-of-type {\n",
              "        vertical-align: middle;\n",
              "    }\n",
              "\n",
              "    .dataframe tbody tr th {\n",
              "        vertical-align: top;\n",
              "    }\n",
              "\n",
              "    .dataframe thead th {\n",
              "        text-align: right;\n",
              "    }\n",
              "</style>\n",
              "<table border=\"1\" class=\"dataframe\">\n",
              "  <thead>\n",
              "    <tr style=\"text-align: right;\">\n",
              "      <th></th>\n",
              "      <th>Anand</th>\n",
              "      <th>Anonymous</th>\n",
              "      <th>Barkha</th>\n",
              "      <th>Chandu</th>\n",
              "      <th>Daniel</th>\n",
              "      <th>dummy</th>\n",
              "    </tr>\n",
              "  </thead>\n",
              "  <tbody>\n",
              "    <tr>\n",
              "      <th>0</th>\n",
              "      <td>40.0</td>\n",
              "      <td>36.0</td>\n",
              "      <td>36.0</td>\n",
              "      <td>16.0</td>\n",
              "      <td>11.0</td>\n",
              "      <td>0.0</td>\n",
              "    </tr>\n",
              "    <tr>\n",
              "      <th>1</th>\n",
              "      <td>88.0</td>\n",
              "      <td>62.0</td>\n",
              "      <td>62.0</td>\n",
              "      <td>33.0</td>\n",
              "      <td>72.0</td>\n",
              "      <td>0.0</td>\n",
              "    </tr>\n",
              "    <tr>\n",
              "      <th>2</th>\n",
              "      <td>30.0</td>\n",
              "      <td>30.0</td>\n",
              "      <td>30.0</td>\n",
              "      <td>89.0</td>\n",
              "      <td>12.0</td>\n",
              "      <td>0.0</td>\n",
              "    </tr>\n",
              "    <tr>\n",
              "      <th>3</th>\n",
              "      <td>11.0</td>\n",
              "      <td>28.0</td>\n",
              "      <td>28.0</td>\n",
              "      <td>74.0</td>\n",
              "      <td>88.0</td>\n",
              "      <td>0.0</td>\n",
              "    </tr>\n",
              "    <tr>\n",
              "      <th>4</th>\n",
              "      <td>15.0</td>\n",
              "      <td>18.0</td>\n",
              "      <td>18.0</td>\n",
              "      <td>80.0</td>\n",
              "      <td>71.0</td>\n",
              "      <td>0.0</td>\n",
              "    </tr>\n",
              "  </tbody>\n",
              "</table>\n",
              "</div>\n",
              "      <button class=\"colab-df-convert\" onclick=\"convertToInteractive('df-e3a62c0c-983e-47e1-b0b2-22b7ff5c0df4')\"\n",
              "              title=\"Convert this dataframe to an interactive table.\"\n",
              "              style=\"display:none;\">\n",
              "        \n",
              "  <svg xmlns=\"http://www.w3.org/2000/svg\" height=\"24px\"viewBox=\"0 0 24 24\"\n",
              "       width=\"24px\">\n",
              "    <path d=\"M0 0h24v24H0V0z\" fill=\"none\"/>\n",
              "    <path d=\"M18.56 5.44l.94 2.06.94-2.06 2.06-.94-2.06-.94-.94-2.06-.94 2.06-2.06.94zm-11 1L8.5 8.5l.94-2.06 2.06-.94-2.06-.94L8.5 2.5l-.94 2.06-2.06.94zm10 10l.94 2.06.94-2.06 2.06-.94-2.06-.94-.94-2.06-.94 2.06-2.06.94z\"/><path d=\"M17.41 7.96l-1.37-1.37c-.4-.4-.92-.59-1.43-.59-.52 0-1.04.2-1.43.59L10.3 9.45l-7.72 7.72c-.78.78-.78 2.05 0 2.83L4 21.41c.39.39.9.59 1.41.59.51 0 1.02-.2 1.41-.59l7.78-7.78 2.81-2.81c.8-.78.8-2.07 0-2.86zM5.41 20L4 18.59l7.72-7.72 1.47 1.35L5.41 20z\"/>\n",
              "  </svg>\n",
              "      </button>\n",
              "      \n",
              "  <style>\n",
              "    .colab-df-container {\n",
              "      display:flex;\n",
              "      flex-wrap:wrap;\n",
              "      gap: 12px;\n",
              "    }\n",
              "\n",
              "    .colab-df-convert {\n",
              "      background-color: #E8F0FE;\n",
              "      border: none;\n",
              "      border-radius: 50%;\n",
              "      cursor: pointer;\n",
              "      display: none;\n",
              "      fill: #1967D2;\n",
              "      height: 32px;\n",
              "      padding: 0 0 0 0;\n",
              "      width: 32px;\n",
              "    }\n",
              "\n",
              "    .colab-df-convert:hover {\n",
              "      background-color: #E2EBFA;\n",
              "      box-shadow: 0px 1px 2px rgba(60, 64, 67, 0.3), 0px 1px 3px 1px rgba(60, 64, 67, 0.15);\n",
              "      fill: #174EA6;\n",
              "    }\n",
              "\n",
              "    [theme=dark] .colab-df-convert {\n",
              "      background-color: #3B4455;\n",
              "      fill: #D2E3FC;\n",
              "    }\n",
              "\n",
              "    [theme=dark] .colab-df-convert:hover {\n",
              "      background-color: #434B5C;\n",
              "      box-shadow: 0px 1px 3px 1px rgba(0, 0, 0, 0.15);\n",
              "      filter: drop-shadow(0px 1px 2px rgba(0, 0, 0, 0.3));\n",
              "      fill: #FFFFFF;\n",
              "    }\n",
              "  </style>\n",
              "\n",
              "      <script>\n",
              "        const buttonEl =\n",
              "          document.querySelector('#df-e3a62c0c-983e-47e1-b0b2-22b7ff5c0df4 button.colab-df-convert');\n",
              "        buttonEl.style.display =\n",
              "          google.colab.kernel.accessAllowed ? 'block' : 'none';\n",
              "\n",
              "        async function convertToInteractive(key) {\n",
              "          const element = document.querySelector('#df-e3a62c0c-983e-47e1-b0b2-22b7ff5c0df4');\n",
              "          const dataTable =\n",
              "            await google.colab.kernel.invokeFunction('convertToInteractive',\n",
              "                                                     [key], {});\n",
              "          if (!dataTable) return;\n",
              "\n",
              "          const docLinkHtml = 'Like what you see? Visit the ' +\n",
              "            '<a target=\"_blank\" href=https://colab.research.google.com/notebooks/data_table.ipynb>data table notebook</a>'\n",
              "            + ' to learn more about interactive tables.';\n",
              "          element.innerHTML = '';\n",
              "          dataTable['output_type'] = 'display_data';\n",
              "          await google.colab.output.renderOutput(dataTable, element);\n",
              "          const docLink = document.createElement('div');\n",
              "          docLink.innerHTML = docLinkHtml;\n",
              "          element.appendChild(docLink);\n",
              "        }\n",
              "      </script>\n",
              "    </div>\n",
              "  </div>\n",
              "  "
            ]
          },
          "metadata": {},
          "execution_count": 105
        }
      ]
    },
    {
      "cell_type": "markdown",
      "source": [
        "Assign this array values as another column in df3 with name 'Anonymous'"
      ],
      "metadata": {
        "id": "XdTgrnTJkqhu"
      }
    },
    {
      "cell_type": "markdown",
      "source": [
        "Create a dataframe 'ListA' with values of row index 3, 10 and 40"
      ],
      "metadata": {
        "id": "9Tnv9FxNkqhu"
      }
    },
    {
      "cell_type": "code",
      "execution_count": null,
      "source": [
        "ListA=df5.iloc[[3,10,40]]"
      ],
      "outputs": [],
      "metadata": {
        "id": "6KjmI6RRkqhu"
      }
    },
    {
      "cell_type": "markdown",
      "source": [
        "print ListA"
      ],
      "metadata": {
        "id": "536Zw_9kkqhu"
      }
    },
    {
      "cell_type": "code",
      "execution_count": null,
      "source": [
        "# print ListA\n",
        "ListA"
      ],
      "outputs": [
        {
          "output_type": "execute_result",
          "data": {
            "text/plain": [
              "    Anand  Anonymous  Barkha  Chandu  Daniel  dummy\n",
              "3    11.0       28.0    28.0    74.0    88.0    0.0\n",
              "10   88.0       96.0    96.0    73.0    40.0    0.0\n",
              "40   87.0       68.0    68.0    86.0    14.0    0.0"
            ],
            "text/html": [
              "\n",
              "  <div id=\"df-cbbd5d69-17aa-43fe-be6c-fac55b517717\">\n",
              "    <div class=\"colab-df-container\">\n",
              "      <div>\n",
              "<style scoped>\n",
              "    .dataframe tbody tr th:only-of-type {\n",
              "        vertical-align: middle;\n",
              "    }\n",
              "\n",
              "    .dataframe tbody tr th {\n",
              "        vertical-align: top;\n",
              "    }\n",
              "\n",
              "    .dataframe thead th {\n",
              "        text-align: right;\n",
              "    }\n",
              "</style>\n",
              "<table border=\"1\" class=\"dataframe\">\n",
              "  <thead>\n",
              "    <tr style=\"text-align: right;\">\n",
              "      <th></th>\n",
              "      <th>Anand</th>\n",
              "      <th>Anonymous</th>\n",
              "      <th>Barkha</th>\n",
              "      <th>Chandu</th>\n",
              "      <th>Daniel</th>\n",
              "      <th>dummy</th>\n",
              "    </tr>\n",
              "  </thead>\n",
              "  <tbody>\n",
              "    <tr>\n",
              "      <th>3</th>\n",
              "      <td>11.0</td>\n",
              "      <td>28.0</td>\n",
              "      <td>28.0</td>\n",
              "      <td>74.0</td>\n",
              "      <td>88.0</td>\n",
              "      <td>0.0</td>\n",
              "    </tr>\n",
              "    <tr>\n",
              "      <th>10</th>\n",
              "      <td>88.0</td>\n",
              "      <td>96.0</td>\n",
              "      <td>96.0</td>\n",
              "      <td>73.0</td>\n",
              "      <td>40.0</td>\n",
              "      <td>0.0</td>\n",
              "    </tr>\n",
              "    <tr>\n",
              "      <th>40</th>\n",
              "      <td>87.0</td>\n",
              "      <td>68.0</td>\n",
              "      <td>68.0</td>\n",
              "      <td>86.0</td>\n",
              "      <td>14.0</td>\n",
              "      <td>0.0</td>\n",
              "    </tr>\n",
              "  </tbody>\n",
              "</table>\n",
              "</div>\n",
              "      <button class=\"colab-df-convert\" onclick=\"convertToInteractive('df-cbbd5d69-17aa-43fe-be6c-fac55b517717')\"\n",
              "              title=\"Convert this dataframe to an interactive table.\"\n",
              "              style=\"display:none;\">\n",
              "        \n",
              "  <svg xmlns=\"http://www.w3.org/2000/svg\" height=\"24px\"viewBox=\"0 0 24 24\"\n",
              "       width=\"24px\">\n",
              "    <path d=\"M0 0h24v24H0V0z\" fill=\"none\"/>\n",
              "    <path d=\"M18.56 5.44l.94 2.06.94-2.06 2.06-.94-2.06-.94-.94-2.06-.94 2.06-2.06.94zm-11 1L8.5 8.5l.94-2.06 2.06-.94-2.06-.94L8.5 2.5l-.94 2.06-2.06.94zm10 10l.94 2.06.94-2.06 2.06-.94-2.06-.94-.94-2.06-.94 2.06-2.06.94z\"/><path d=\"M17.41 7.96l-1.37-1.37c-.4-.4-.92-.59-1.43-.59-.52 0-1.04.2-1.43.59L10.3 9.45l-7.72 7.72c-.78.78-.78 2.05 0 2.83L4 21.41c.39.39.9.59 1.41.59.51 0 1.02-.2 1.41-.59l7.78-7.78 2.81-2.81c.8-.78.8-2.07 0-2.86zM5.41 20L4 18.59l7.72-7.72 1.47 1.35L5.41 20z\"/>\n",
              "  </svg>\n",
              "      </button>\n",
              "      \n",
              "  <style>\n",
              "    .colab-df-container {\n",
              "      display:flex;\n",
              "      flex-wrap:wrap;\n",
              "      gap: 12px;\n",
              "    }\n",
              "\n",
              "    .colab-df-convert {\n",
              "      background-color: #E8F0FE;\n",
              "      border: none;\n",
              "      border-radius: 50%;\n",
              "      cursor: pointer;\n",
              "      display: none;\n",
              "      fill: #1967D2;\n",
              "      height: 32px;\n",
              "      padding: 0 0 0 0;\n",
              "      width: 32px;\n",
              "    }\n",
              "\n",
              "    .colab-df-convert:hover {\n",
              "      background-color: #E2EBFA;\n",
              "      box-shadow: 0px 1px 2px rgba(60, 64, 67, 0.3), 0px 1px 3px 1px rgba(60, 64, 67, 0.15);\n",
              "      fill: #174EA6;\n",
              "    }\n",
              "\n",
              "    [theme=dark] .colab-df-convert {\n",
              "      background-color: #3B4455;\n",
              "      fill: #D2E3FC;\n",
              "    }\n",
              "\n",
              "    [theme=dark] .colab-df-convert:hover {\n",
              "      background-color: #434B5C;\n",
              "      box-shadow: 0px 1px 3px 1px rgba(0, 0, 0, 0.15);\n",
              "      filter: drop-shadow(0px 1px 2px rgba(0, 0, 0, 0.3));\n",
              "      fill: #FFFFFF;\n",
              "    }\n",
              "  </style>\n",
              "\n",
              "      <script>\n",
              "        const buttonEl =\n",
              "          document.querySelector('#df-cbbd5d69-17aa-43fe-be6c-fac55b517717 button.colab-df-convert');\n",
              "        buttonEl.style.display =\n",
              "          google.colab.kernel.accessAllowed ? 'block' : 'none';\n",
              "\n",
              "        async function convertToInteractive(key) {\n",
              "          const element = document.querySelector('#df-cbbd5d69-17aa-43fe-be6c-fac55b517717');\n",
              "          const dataTable =\n",
              "            await google.colab.kernel.invokeFunction('convertToInteractive',\n",
              "                                                     [key], {});\n",
              "          if (!dataTable) return;\n",
              "\n",
              "          const docLinkHtml = 'Like what you see? Visit the ' +\n",
              "            '<a target=\"_blank\" href=https://colab.research.google.com/notebooks/data_table.ipynb>data table notebook</a>'\n",
              "            + ' to learn more about interactive tables.';\n",
              "          element.innerHTML = '';\n",
              "          dataTable['output_type'] = 'display_data';\n",
              "          await google.colab.output.renderOutput(dataTable, element);\n",
              "          const docLink = document.createElement('div');\n",
              "          docLink.innerHTML = docLinkHtml;\n",
              "          element.appendChild(docLink);\n",
              "        }\n",
              "      </script>\n",
              "    </div>\n",
              "  </div>\n",
              "  "
            ]
          },
          "metadata": {},
          "execution_count": 107
        }
      ],
      "metadata": {
        "colab": {
          "base_uri": "https://localhost:8080/",
          "height": 143
        },
        "id": "uiwW-8S9kqhu",
        "outputId": "8c564387-c35f-4a31-a0ac-60caa9c99530"
      }
    },
    {
      "cell_type": "markdown",
      "source": [
        "Concat ListA to df3 ignoring the index values of ListA so that we can maintain the sequential index value thoughout the dataframe."
      ],
      "metadata": {
        "id": "HLT1U7ZQkqhu"
      }
    },
    {
      "cell_type": "code",
      "execution_count": null,
      "source": [
        "df5 = pd.concat([df5,ListA],ignore_index=True)"
      ],
      "outputs": [],
      "metadata": {
        "id": "zj_zUXiokqhv"
      }
    },
    {
      "cell_type": "markdown",
      "source": [
        "print head of df3"
      ],
      "metadata": {
        "id": "qp2M-WnYkqhv"
      }
    },
    {
      "cell_type": "code",
      "execution_count": null,
      "source": [
        "# df3 head\n",
        "df5.head()"
      ],
      "outputs": [
        {
          "output_type": "execute_result",
          "data": {
            "text/plain": [
              "   Anand  Anonymous  Barkha  Chandu  Daniel  dummy\n",
              "0   40.0       36.0    36.0    16.0    11.0    0.0\n",
              "1   88.0       62.0    62.0    33.0    72.0    0.0\n",
              "2   30.0       30.0    30.0    89.0    12.0    0.0\n",
              "3   11.0       28.0    28.0    74.0    88.0    0.0\n",
              "4   15.0       18.0    18.0    80.0    71.0    0.0"
            ],
            "text/html": [
              "\n",
              "  <div id=\"df-67331125-96ff-4349-b895-9f23771d037d\">\n",
              "    <div class=\"colab-df-container\">\n",
              "      <div>\n",
              "<style scoped>\n",
              "    .dataframe tbody tr th:only-of-type {\n",
              "        vertical-align: middle;\n",
              "    }\n",
              "\n",
              "    .dataframe tbody tr th {\n",
              "        vertical-align: top;\n",
              "    }\n",
              "\n",
              "    .dataframe thead th {\n",
              "        text-align: right;\n",
              "    }\n",
              "</style>\n",
              "<table border=\"1\" class=\"dataframe\">\n",
              "  <thead>\n",
              "    <tr style=\"text-align: right;\">\n",
              "      <th></th>\n",
              "      <th>Anand</th>\n",
              "      <th>Anonymous</th>\n",
              "      <th>Barkha</th>\n",
              "      <th>Chandu</th>\n",
              "      <th>Daniel</th>\n",
              "      <th>dummy</th>\n",
              "    </tr>\n",
              "  </thead>\n",
              "  <tbody>\n",
              "    <tr>\n",
              "      <th>0</th>\n",
              "      <td>40.0</td>\n",
              "      <td>36.0</td>\n",
              "      <td>36.0</td>\n",
              "      <td>16.0</td>\n",
              "      <td>11.0</td>\n",
              "      <td>0.0</td>\n",
              "    </tr>\n",
              "    <tr>\n",
              "      <th>1</th>\n",
              "      <td>88.0</td>\n",
              "      <td>62.0</td>\n",
              "      <td>62.0</td>\n",
              "      <td>33.0</td>\n",
              "      <td>72.0</td>\n",
              "      <td>0.0</td>\n",
              "    </tr>\n",
              "    <tr>\n",
              "      <th>2</th>\n",
              "      <td>30.0</td>\n",
              "      <td>30.0</td>\n",
              "      <td>30.0</td>\n",
              "      <td>89.0</td>\n",
              "      <td>12.0</td>\n",
              "      <td>0.0</td>\n",
              "    </tr>\n",
              "    <tr>\n",
              "      <th>3</th>\n",
              "      <td>11.0</td>\n",
              "      <td>28.0</td>\n",
              "      <td>28.0</td>\n",
              "      <td>74.0</td>\n",
              "      <td>88.0</td>\n",
              "      <td>0.0</td>\n",
              "    </tr>\n",
              "    <tr>\n",
              "      <th>4</th>\n",
              "      <td>15.0</td>\n",
              "      <td>18.0</td>\n",
              "      <td>18.0</td>\n",
              "      <td>80.0</td>\n",
              "      <td>71.0</td>\n",
              "      <td>0.0</td>\n",
              "    </tr>\n",
              "  </tbody>\n",
              "</table>\n",
              "</div>\n",
              "      <button class=\"colab-df-convert\" onclick=\"convertToInteractive('df-67331125-96ff-4349-b895-9f23771d037d')\"\n",
              "              title=\"Convert this dataframe to an interactive table.\"\n",
              "              style=\"display:none;\">\n",
              "        \n",
              "  <svg xmlns=\"http://www.w3.org/2000/svg\" height=\"24px\"viewBox=\"0 0 24 24\"\n",
              "       width=\"24px\">\n",
              "    <path d=\"M0 0h24v24H0V0z\" fill=\"none\"/>\n",
              "    <path d=\"M18.56 5.44l.94 2.06.94-2.06 2.06-.94-2.06-.94-.94-2.06-.94 2.06-2.06.94zm-11 1L8.5 8.5l.94-2.06 2.06-.94-2.06-.94L8.5 2.5l-.94 2.06-2.06.94zm10 10l.94 2.06.94-2.06 2.06-.94-2.06-.94-.94-2.06-.94 2.06-2.06.94z\"/><path d=\"M17.41 7.96l-1.37-1.37c-.4-.4-.92-.59-1.43-.59-.52 0-1.04.2-1.43.59L10.3 9.45l-7.72 7.72c-.78.78-.78 2.05 0 2.83L4 21.41c.39.39.9.59 1.41.59.51 0 1.02-.2 1.41-.59l7.78-7.78 2.81-2.81c.8-.78.8-2.07 0-2.86zM5.41 20L4 18.59l7.72-7.72 1.47 1.35L5.41 20z\"/>\n",
              "  </svg>\n",
              "      </button>\n",
              "      \n",
              "  <style>\n",
              "    .colab-df-container {\n",
              "      display:flex;\n",
              "      flex-wrap:wrap;\n",
              "      gap: 12px;\n",
              "    }\n",
              "\n",
              "    .colab-df-convert {\n",
              "      background-color: #E8F0FE;\n",
              "      border: none;\n",
              "      border-radius: 50%;\n",
              "      cursor: pointer;\n",
              "      display: none;\n",
              "      fill: #1967D2;\n",
              "      height: 32px;\n",
              "      padding: 0 0 0 0;\n",
              "      width: 32px;\n",
              "    }\n",
              "\n",
              "    .colab-df-convert:hover {\n",
              "      background-color: #E2EBFA;\n",
              "      box-shadow: 0px 1px 2px rgba(60, 64, 67, 0.3), 0px 1px 3px 1px rgba(60, 64, 67, 0.15);\n",
              "      fill: #174EA6;\n",
              "    }\n",
              "\n",
              "    [theme=dark] .colab-df-convert {\n",
              "      background-color: #3B4455;\n",
              "      fill: #D2E3FC;\n",
              "    }\n",
              "\n",
              "    [theme=dark] .colab-df-convert:hover {\n",
              "      background-color: #434B5C;\n",
              "      box-shadow: 0px 1px 3px 1px rgba(0, 0, 0, 0.15);\n",
              "      filter: drop-shadow(0px 1px 2px rgba(0, 0, 0, 0.3));\n",
              "      fill: #FFFFFF;\n",
              "    }\n",
              "  </style>\n",
              "\n",
              "      <script>\n",
              "        const buttonEl =\n",
              "          document.querySelector('#df-67331125-96ff-4349-b895-9f23771d037d button.colab-df-convert');\n",
              "        buttonEl.style.display =\n",
              "          google.colab.kernel.accessAllowed ? 'block' : 'none';\n",
              "\n",
              "        async function convertToInteractive(key) {\n",
              "          const element = document.querySelector('#df-67331125-96ff-4349-b895-9f23771d037d');\n",
              "          const dataTable =\n",
              "            await google.colab.kernel.invokeFunction('convertToInteractive',\n",
              "                                                     [key], {});\n",
              "          if (!dataTable) return;\n",
              "\n",
              "          const docLinkHtml = 'Like what you see? Visit the ' +\n",
              "            '<a target=\"_blank\" href=https://colab.research.google.com/notebooks/data_table.ipynb>data table notebook</a>'\n",
              "            + ' to learn more about interactive tables.';\n",
              "          element.innerHTML = '';\n",
              "          dataTable['output_type'] = 'display_data';\n",
              "          await google.colab.output.renderOutput(dataTable, element);\n",
              "          const docLink = document.createElement('div');\n",
              "          docLink.innerHTML = docLinkHtml;\n",
              "          element.appendChild(docLink);\n",
              "        }\n",
              "      </script>\n",
              "    </div>\n",
              "  </div>\n",
              "  "
            ]
          },
          "metadata": {},
          "execution_count": 109
        }
      ],
      "metadata": {
        "colab": {
          "base_uri": "https://localhost:8080/",
          "height": 206
        },
        "id": "GwotDl4Tkqhv",
        "outputId": "a12d9031-0fd1-4840-efaf-53b8e604879e"
      }
    },
    {
      "cell_type": "markdown",
      "source": [
        "Check if there is any duplicate rows present in the dataframe df3"
      ],
      "metadata": {
        "id": "ETx-cCU5kqhv"
      }
    },
    {
      "cell_type": "code",
      "execution_count": null,
      "source": [
        "#check duplicate\n",
        "duplicate = df5[df5.duplicated()]\n",
        "duplicate"
      ],
      "outputs": [
        {
          "output_type": "execute_result",
          "data": {
            "text/plain": [
              "    Anand  Anonymous  Barkha  Chandu  Daniel  dummy\n",
              "49   11.0       28.0    28.0    74.0    88.0    0.0\n",
              "50   88.0       96.0    96.0    73.0    40.0    0.0\n",
              "51   87.0       68.0    68.0    86.0    14.0    0.0"
            ],
            "text/html": [
              "\n",
              "  <div id=\"df-e7444d26-e80b-40b0-b55d-2818dfbd6227\">\n",
              "    <div class=\"colab-df-container\">\n",
              "      <div>\n",
              "<style scoped>\n",
              "    .dataframe tbody tr th:only-of-type {\n",
              "        vertical-align: middle;\n",
              "    }\n",
              "\n",
              "    .dataframe tbody tr th {\n",
              "        vertical-align: top;\n",
              "    }\n",
              "\n",
              "    .dataframe thead th {\n",
              "        text-align: right;\n",
              "    }\n",
              "</style>\n",
              "<table border=\"1\" class=\"dataframe\">\n",
              "  <thead>\n",
              "    <tr style=\"text-align: right;\">\n",
              "      <th></th>\n",
              "      <th>Anand</th>\n",
              "      <th>Anonymous</th>\n",
              "      <th>Barkha</th>\n",
              "      <th>Chandu</th>\n",
              "      <th>Daniel</th>\n",
              "      <th>dummy</th>\n",
              "    </tr>\n",
              "  </thead>\n",
              "  <tbody>\n",
              "    <tr>\n",
              "      <th>49</th>\n",
              "      <td>11.0</td>\n",
              "      <td>28.0</td>\n",
              "      <td>28.0</td>\n",
              "      <td>74.0</td>\n",
              "      <td>88.0</td>\n",
              "      <td>0.0</td>\n",
              "    </tr>\n",
              "    <tr>\n",
              "      <th>50</th>\n",
              "      <td>88.0</td>\n",
              "      <td>96.0</td>\n",
              "      <td>96.0</td>\n",
              "      <td>73.0</td>\n",
              "      <td>40.0</td>\n",
              "      <td>0.0</td>\n",
              "    </tr>\n",
              "    <tr>\n",
              "      <th>51</th>\n",
              "      <td>87.0</td>\n",
              "      <td>68.0</td>\n",
              "      <td>68.0</td>\n",
              "      <td>86.0</td>\n",
              "      <td>14.0</td>\n",
              "      <td>0.0</td>\n",
              "    </tr>\n",
              "  </tbody>\n",
              "</table>\n",
              "</div>\n",
              "      <button class=\"colab-df-convert\" onclick=\"convertToInteractive('df-e7444d26-e80b-40b0-b55d-2818dfbd6227')\"\n",
              "              title=\"Convert this dataframe to an interactive table.\"\n",
              "              style=\"display:none;\">\n",
              "        \n",
              "  <svg xmlns=\"http://www.w3.org/2000/svg\" height=\"24px\"viewBox=\"0 0 24 24\"\n",
              "       width=\"24px\">\n",
              "    <path d=\"M0 0h24v24H0V0z\" fill=\"none\"/>\n",
              "    <path d=\"M18.56 5.44l.94 2.06.94-2.06 2.06-.94-2.06-.94-.94-2.06-.94 2.06-2.06.94zm-11 1L8.5 8.5l.94-2.06 2.06-.94-2.06-.94L8.5 2.5l-.94 2.06-2.06.94zm10 10l.94 2.06.94-2.06 2.06-.94-2.06-.94-.94-2.06-.94 2.06-2.06.94z\"/><path d=\"M17.41 7.96l-1.37-1.37c-.4-.4-.92-.59-1.43-.59-.52 0-1.04.2-1.43.59L10.3 9.45l-7.72 7.72c-.78.78-.78 2.05 0 2.83L4 21.41c.39.39.9.59 1.41.59.51 0 1.02-.2 1.41-.59l7.78-7.78 2.81-2.81c.8-.78.8-2.07 0-2.86zM5.41 20L4 18.59l7.72-7.72 1.47 1.35L5.41 20z\"/>\n",
              "  </svg>\n",
              "      </button>\n",
              "      \n",
              "  <style>\n",
              "    .colab-df-container {\n",
              "      display:flex;\n",
              "      flex-wrap:wrap;\n",
              "      gap: 12px;\n",
              "    }\n",
              "\n",
              "    .colab-df-convert {\n",
              "      background-color: #E8F0FE;\n",
              "      border: none;\n",
              "      border-radius: 50%;\n",
              "      cursor: pointer;\n",
              "      display: none;\n",
              "      fill: #1967D2;\n",
              "      height: 32px;\n",
              "      padding: 0 0 0 0;\n",
              "      width: 32px;\n",
              "    }\n",
              "\n",
              "    .colab-df-convert:hover {\n",
              "      background-color: #E2EBFA;\n",
              "      box-shadow: 0px 1px 2px rgba(60, 64, 67, 0.3), 0px 1px 3px 1px rgba(60, 64, 67, 0.15);\n",
              "      fill: #174EA6;\n",
              "    }\n",
              "\n",
              "    [theme=dark] .colab-df-convert {\n",
              "      background-color: #3B4455;\n",
              "      fill: #D2E3FC;\n",
              "    }\n",
              "\n",
              "    [theme=dark] .colab-df-convert:hover {\n",
              "      background-color: #434B5C;\n",
              "      box-shadow: 0px 1px 3px 1px rgba(0, 0, 0, 0.15);\n",
              "      filter: drop-shadow(0px 1px 2px rgba(0, 0, 0, 0.3));\n",
              "      fill: #FFFFFF;\n",
              "    }\n",
              "  </style>\n",
              "\n",
              "      <script>\n",
              "        const buttonEl =\n",
              "          document.querySelector('#df-e7444d26-e80b-40b0-b55d-2818dfbd6227 button.colab-df-convert');\n",
              "        buttonEl.style.display =\n",
              "          google.colab.kernel.accessAllowed ? 'block' : 'none';\n",
              "\n",
              "        async function convertToInteractive(key) {\n",
              "          const element = document.querySelector('#df-e7444d26-e80b-40b0-b55d-2818dfbd6227');\n",
              "          const dataTable =\n",
              "            await google.colab.kernel.invokeFunction('convertToInteractive',\n",
              "                                                     [key], {});\n",
              "          if (!dataTable) return;\n",
              "\n",
              "          const docLinkHtml = 'Like what you see? Visit the ' +\n",
              "            '<a target=\"_blank\" href=https://colab.research.google.com/notebooks/data_table.ipynb>data table notebook</a>'\n",
              "            + ' to learn more about interactive tables.';\n",
              "          element.innerHTML = '';\n",
              "          dataTable['output_type'] = 'display_data';\n",
              "          await google.colab.output.renderOutput(dataTable, element);\n",
              "          const docLink = document.createElement('div');\n",
              "          docLink.innerHTML = docLinkHtml;\n",
              "          element.appendChild(docLink);\n",
              "        }\n",
              "      </script>\n",
              "    </div>\n",
              "  </div>\n",
              "  "
            ]
          },
          "metadata": {},
          "execution_count": 110
        }
      ],
      "metadata": {
        "colab": {
          "base_uri": "https://localhost:8080/",
          "height": 143
        },
        "id": "KkK9vv6Lkqhv",
        "outputId": "58e3c3d6-fdff-4a36-c226-18eec29ad189"
      }
    },
    {
      "cell_type": "markdown",
      "source": [
        "By above output it seems we do have duplicated rows in our dataset"
      ],
      "metadata": {
        "id": "Okvw1xgtkqhv"
      }
    },
    {
      "cell_type": "markdown",
      "source": [
        "Drop duplicated rows using pandas function keeping first values of such duplicated observations"
      ],
      "metadata": {
        "id": "z0QOuS-_kqhw"
      }
    },
    {
      "cell_type": "code",
      "execution_count": null,
      "source": [
        "#drop duplicate\n",
        "df5 = df5.drop_duplicates()"
      ],
      "outputs": [],
      "metadata": {
        "id": "gRsgecqbkqhw"
      }
    },
    {
      "cell_type": "markdown",
      "source": [
        "Check again if we have any duplicate row values present "
      ],
      "metadata": {
        "id": "FbNFF-4jkqhw"
      }
    },
    {
      "cell_type": "code",
      "execution_count": null,
      "source": [
        "#check duplicate\n",
        "df5.duplicated()"
      ],
      "outputs": [
        {
          "output_type": "execute_result",
          "data": {
            "text/plain": [
              "0     False\n",
              "1     False\n",
              "2     False\n",
              "3     False\n",
              "4     False\n",
              "5     False\n",
              "6     False\n",
              "7     False\n",
              "8     False\n",
              "9     False\n",
              "10    False\n",
              "11    False\n",
              "12    False\n",
              "13    False\n",
              "14    False\n",
              "15    False\n",
              "16    False\n",
              "17    False\n",
              "18    False\n",
              "19    False\n",
              "20    False\n",
              "21    False\n",
              "22    False\n",
              "23    False\n",
              "24    False\n",
              "25    False\n",
              "26    False\n",
              "27    False\n",
              "28    False\n",
              "29    False\n",
              "30    False\n",
              "31    False\n",
              "32    False\n",
              "33    False\n",
              "34    False\n",
              "35    False\n",
              "36    False\n",
              "37    False\n",
              "38    False\n",
              "39    False\n",
              "40    False\n",
              "41    False\n",
              "42    False\n",
              "43    False\n",
              "44    False\n",
              "45    False\n",
              "46    False\n",
              "47    False\n",
              "48    False\n",
              "dtype: bool"
            ]
          },
          "metadata": {},
          "execution_count": 112
        }
      ],
      "metadata": {
        "colab": {
          "base_uri": "https://localhost:8080/"
        },
        "id": "ehOxm1Mckqhw",
        "outputId": "bb695869-f2ae-4750-ab4b-ba7675837f31"
      }
    },
    {
      "cell_type": "markdown",
      "source": [
        "Yipeee!! Did you notice the dataframe is free from any duplicate rows now."
      ],
      "metadata": {
        "id": "7Sg80lIkkqhw"
      }
    },
    {
      "cell_type": "markdown",
      "source": [
        "Drop any duplicate columns present in the dataframe df"
      ],
      "metadata": {
        "id": "za0nup3Pkqhw"
      }
    },
    {
      "cell_type": "code",
      "source": [
        "df5.head()"
      ],
      "metadata": {
        "colab": {
          "base_uri": "https://localhost:8080/",
          "height": 206
        },
        "id": "BV70GRO75kpn",
        "outputId": "22d89f83-1fd4-48d3-da65-8361851bc61b"
      },
      "execution_count": null,
      "outputs": [
        {
          "output_type": "execute_result",
          "data": {
            "text/plain": [
              "   Anand  Anonymous  Barkha  Chandu  Daniel  dummy\n",
              "0   40.0       36.0    36.0    16.0    11.0    0.0\n",
              "1   88.0       62.0    62.0    33.0    72.0    0.0\n",
              "2   30.0       30.0    30.0    89.0    12.0    0.0\n",
              "3   11.0       28.0    28.0    74.0    88.0    0.0\n",
              "4   15.0       18.0    18.0    80.0    71.0    0.0"
            ],
            "text/html": [
              "\n",
              "  <div id=\"df-42e678f4-b93d-4b9e-9d97-6ad15cb4f71d\">\n",
              "    <div class=\"colab-df-container\">\n",
              "      <div>\n",
              "<style scoped>\n",
              "    .dataframe tbody tr th:only-of-type {\n",
              "        vertical-align: middle;\n",
              "    }\n",
              "\n",
              "    .dataframe tbody tr th {\n",
              "        vertical-align: top;\n",
              "    }\n",
              "\n",
              "    .dataframe thead th {\n",
              "        text-align: right;\n",
              "    }\n",
              "</style>\n",
              "<table border=\"1\" class=\"dataframe\">\n",
              "  <thead>\n",
              "    <tr style=\"text-align: right;\">\n",
              "      <th></th>\n",
              "      <th>Anand</th>\n",
              "      <th>Anonymous</th>\n",
              "      <th>Barkha</th>\n",
              "      <th>Chandu</th>\n",
              "      <th>Daniel</th>\n",
              "      <th>dummy</th>\n",
              "    </tr>\n",
              "  </thead>\n",
              "  <tbody>\n",
              "    <tr>\n",
              "      <th>0</th>\n",
              "      <td>40.0</td>\n",
              "      <td>36.0</td>\n",
              "      <td>36.0</td>\n",
              "      <td>16.0</td>\n",
              "      <td>11.0</td>\n",
              "      <td>0.0</td>\n",
              "    </tr>\n",
              "    <tr>\n",
              "      <th>1</th>\n",
              "      <td>88.0</td>\n",
              "      <td>62.0</td>\n",
              "      <td>62.0</td>\n",
              "      <td>33.0</td>\n",
              "      <td>72.0</td>\n",
              "      <td>0.0</td>\n",
              "    </tr>\n",
              "    <tr>\n",
              "      <th>2</th>\n",
              "      <td>30.0</td>\n",
              "      <td>30.0</td>\n",
              "      <td>30.0</td>\n",
              "      <td>89.0</td>\n",
              "      <td>12.0</td>\n",
              "      <td>0.0</td>\n",
              "    </tr>\n",
              "    <tr>\n",
              "      <th>3</th>\n",
              "      <td>11.0</td>\n",
              "      <td>28.0</td>\n",
              "      <td>28.0</td>\n",
              "      <td>74.0</td>\n",
              "      <td>88.0</td>\n",
              "      <td>0.0</td>\n",
              "    </tr>\n",
              "    <tr>\n",
              "      <th>4</th>\n",
              "      <td>15.0</td>\n",
              "      <td>18.0</td>\n",
              "      <td>18.0</td>\n",
              "      <td>80.0</td>\n",
              "      <td>71.0</td>\n",
              "      <td>0.0</td>\n",
              "    </tr>\n",
              "  </tbody>\n",
              "</table>\n",
              "</div>\n",
              "      <button class=\"colab-df-convert\" onclick=\"convertToInteractive('df-42e678f4-b93d-4b9e-9d97-6ad15cb4f71d')\"\n",
              "              title=\"Convert this dataframe to an interactive table.\"\n",
              "              style=\"display:none;\">\n",
              "        \n",
              "  <svg xmlns=\"http://www.w3.org/2000/svg\" height=\"24px\"viewBox=\"0 0 24 24\"\n",
              "       width=\"24px\">\n",
              "    <path d=\"M0 0h24v24H0V0z\" fill=\"none\"/>\n",
              "    <path d=\"M18.56 5.44l.94 2.06.94-2.06 2.06-.94-2.06-.94-.94-2.06-.94 2.06-2.06.94zm-11 1L8.5 8.5l.94-2.06 2.06-.94-2.06-.94L8.5 2.5l-.94 2.06-2.06.94zm10 10l.94 2.06.94-2.06 2.06-.94-2.06-.94-.94-2.06-.94 2.06-2.06.94z\"/><path d=\"M17.41 7.96l-1.37-1.37c-.4-.4-.92-.59-1.43-.59-.52 0-1.04.2-1.43.59L10.3 9.45l-7.72 7.72c-.78.78-.78 2.05 0 2.83L4 21.41c.39.39.9.59 1.41.59.51 0 1.02-.2 1.41-.59l7.78-7.78 2.81-2.81c.8-.78.8-2.07 0-2.86zM5.41 20L4 18.59l7.72-7.72 1.47 1.35L5.41 20z\"/>\n",
              "  </svg>\n",
              "      </button>\n",
              "      \n",
              "  <style>\n",
              "    .colab-df-container {\n",
              "      display:flex;\n",
              "      flex-wrap:wrap;\n",
              "      gap: 12px;\n",
              "    }\n",
              "\n",
              "    .colab-df-convert {\n",
              "      background-color: #E8F0FE;\n",
              "      border: none;\n",
              "      border-radius: 50%;\n",
              "      cursor: pointer;\n",
              "      display: none;\n",
              "      fill: #1967D2;\n",
              "      height: 32px;\n",
              "      padding: 0 0 0 0;\n",
              "      width: 32px;\n",
              "    }\n",
              "\n",
              "    .colab-df-convert:hover {\n",
              "      background-color: #E2EBFA;\n",
              "      box-shadow: 0px 1px 2px rgba(60, 64, 67, 0.3), 0px 1px 3px 1px rgba(60, 64, 67, 0.15);\n",
              "      fill: #174EA6;\n",
              "    }\n",
              "\n",
              "    [theme=dark] .colab-df-convert {\n",
              "      background-color: #3B4455;\n",
              "      fill: #D2E3FC;\n",
              "    }\n",
              "\n",
              "    [theme=dark] .colab-df-convert:hover {\n",
              "      background-color: #434B5C;\n",
              "      box-shadow: 0px 1px 3px 1px rgba(0, 0, 0, 0.15);\n",
              "      filter: drop-shadow(0px 1px 2px rgba(0, 0, 0, 0.3));\n",
              "      fill: #FFFFFF;\n",
              "    }\n",
              "  </style>\n",
              "\n",
              "      <script>\n",
              "        const buttonEl =\n",
              "          document.querySelector('#df-42e678f4-b93d-4b9e-9d97-6ad15cb4f71d button.colab-df-convert');\n",
              "        buttonEl.style.display =\n",
              "          google.colab.kernel.accessAllowed ? 'block' : 'none';\n",
              "\n",
              "        async function convertToInteractive(key) {\n",
              "          const element = document.querySelector('#df-42e678f4-b93d-4b9e-9d97-6ad15cb4f71d');\n",
              "          const dataTable =\n",
              "            await google.colab.kernel.invokeFunction('convertToInteractive',\n",
              "                                                     [key], {});\n",
              "          if (!dataTable) return;\n",
              "\n",
              "          const docLinkHtml = 'Like what you see? Visit the ' +\n",
              "            '<a target=\"_blank\" href=https://colab.research.google.com/notebooks/data_table.ipynb>data table notebook</a>'\n",
              "            + ' to learn more about interactive tables.';\n",
              "          element.innerHTML = '';\n",
              "          dataTable['output_type'] = 'display_data';\n",
              "          await google.colab.output.renderOutput(dataTable, element);\n",
              "          const docLink = document.createElement('div');\n",
              "          docLink.innerHTML = docLinkHtml;\n",
              "          element.appendChild(docLink);\n",
              "        }\n",
              "      </script>\n",
              "    </div>\n",
              "  </div>\n",
              "  "
            ]
          },
          "metadata": {},
          "execution_count": 113
        }
      ]
    },
    {
      "cell_type": "code",
      "execution_count": null,
      "source": [
        "df5 = df5.drop(['Anonymous'], axis=1)\n",
        "\n",
        "#print df3\n"
      ],
      "outputs": [],
      "metadata": {
        "id": "NE9l9xM0kqhw"
      }
    },
    {
      "cell_type": "code",
      "source": [
        "df5.head()"
      ],
      "metadata": {
        "colab": {
          "base_uri": "https://localhost:8080/",
          "height": 206
        },
        "id": "peKLTUid6QIM",
        "outputId": "a4e58ccf-5b70-4897-ab3a-f224f046863c"
      },
      "execution_count": null,
      "outputs": [
        {
          "output_type": "execute_result",
          "data": {
            "text/plain": [
              "   Anand  Barkha  Chandu  Daniel  dummy\n",
              "0   40.0    36.0    16.0    11.0    0.0\n",
              "1   88.0    62.0    33.0    72.0    0.0\n",
              "2   30.0    30.0    89.0    12.0    0.0\n",
              "3   11.0    28.0    74.0    88.0    0.0\n",
              "4   15.0    18.0    80.0    71.0    0.0"
            ],
            "text/html": [
              "\n",
              "  <div id=\"df-ecb444a5-2930-457c-b3a4-9976a908f7c4\">\n",
              "    <div class=\"colab-df-container\">\n",
              "      <div>\n",
              "<style scoped>\n",
              "    .dataframe tbody tr th:only-of-type {\n",
              "        vertical-align: middle;\n",
              "    }\n",
              "\n",
              "    .dataframe tbody tr th {\n",
              "        vertical-align: top;\n",
              "    }\n",
              "\n",
              "    .dataframe thead th {\n",
              "        text-align: right;\n",
              "    }\n",
              "</style>\n",
              "<table border=\"1\" class=\"dataframe\">\n",
              "  <thead>\n",
              "    <tr style=\"text-align: right;\">\n",
              "      <th></th>\n",
              "      <th>Anand</th>\n",
              "      <th>Barkha</th>\n",
              "      <th>Chandu</th>\n",
              "      <th>Daniel</th>\n",
              "      <th>dummy</th>\n",
              "    </tr>\n",
              "  </thead>\n",
              "  <tbody>\n",
              "    <tr>\n",
              "      <th>0</th>\n",
              "      <td>40.0</td>\n",
              "      <td>36.0</td>\n",
              "      <td>16.0</td>\n",
              "      <td>11.0</td>\n",
              "      <td>0.0</td>\n",
              "    </tr>\n",
              "    <tr>\n",
              "      <th>1</th>\n",
              "      <td>88.0</td>\n",
              "      <td>62.0</td>\n",
              "      <td>33.0</td>\n",
              "      <td>72.0</td>\n",
              "      <td>0.0</td>\n",
              "    </tr>\n",
              "    <tr>\n",
              "      <th>2</th>\n",
              "      <td>30.0</td>\n",
              "      <td>30.0</td>\n",
              "      <td>89.0</td>\n",
              "      <td>12.0</td>\n",
              "      <td>0.0</td>\n",
              "    </tr>\n",
              "    <tr>\n",
              "      <th>3</th>\n",
              "      <td>11.0</td>\n",
              "      <td>28.0</td>\n",
              "      <td>74.0</td>\n",
              "      <td>88.0</td>\n",
              "      <td>0.0</td>\n",
              "    </tr>\n",
              "    <tr>\n",
              "      <th>4</th>\n",
              "      <td>15.0</td>\n",
              "      <td>18.0</td>\n",
              "      <td>80.0</td>\n",
              "      <td>71.0</td>\n",
              "      <td>0.0</td>\n",
              "    </tr>\n",
              "  </tbody>\n",
              "</table>\n",
              "</div>\n",
              "      <button class=\"colab-df-convert\" onclick=\"convertToInteractive('df-ecb444a5-2930-457c-b3a4-9976a908f7c4')\"\n",
              "              title=\"Convert this dataframe to an interactive table.\"\n",
              "              style=\"display:none;\">\n",
              "        \n",
              "  <svg xmlns=\"http://www.w3.org/2000/svg\" height=\"24px\"viewBox=\"0 0 24 24\"\n",
              "       width=\"24px\">\n",
              "    <path d=\"M0 0h24v24H0V0z\" fill=\"none\"/>\n",
              "    <path d=\"M18.56 5.44l.94 2.06.94-2.06 2.06-.94-2.06-.94-.94-2.06-.94 2.06-2.06.94zm-11 1L8.5 8.5l.94-2.06 2.06-.94-2.06-.94L8.5 2.5l-.94 2.06-2.06.94zm10 10l.94 2.06.94-2.06 2.06-.94-2.06-.94-.94-2.06-.94 2.06-2.06.94z\"/><path d=\"M17.41 7.96l-1.37-1.37c-.4-.4-.92-.59-1.43-.59-.52 0-1.04.2-1.43.59L10.3 9.45l-7.72 7.72c-.78.78-.78 2.05 0 2.83L4 21.41c.39.39.9.59 1.41.59.51 0 1.02-.2 1.41-.59l7.78-7.78 2.81-2.81c.8-.78.8-2.07 0-2.86zM5.41 20L4 18.59l7.72-7.72 1.47 1.35L5.41 20z\"/>\n",
              "  </svg>\n",
              "      </button>\n",
              "      \n",
              "  <style>\n",
              "    .colab-df-container {\n",
              "      display:flex;\n",
              "      flex-wrap:wrap;\n",
              "      gap: 12px;\n",
              "    }\n",
              "\n",
              "    .colab-df-convert {\n",
              "      background-color: #E8F0FE;\n",
              "      border: none;\n",
              "      border-radius: 50%;\n",
              "      cursor: pointer;\n",
              "      display: none;\n",
              "      fill: #1967D2;\n",
              "      height: 32px;\n",
              "      padding: 0 0 0 0;\n",
              "      width: 32px;\n",
              "    }\n",
              "\n",
              "    .colab-df-convert:hover {\n",
              "      background-color: #E2EBFA;\n",
              "      box-shadow: 0px 1px 2px rgba(60, 64, 67, 0.3), 0px 1px 3px 1px rgba(60, 64, 67, 0.15);\n",
              "      fill: #174EA6;\n",
              "    }\n",
              "\n",
              "    [theme=dark] .colab-df-convert {\n",
              "      background-color: #3B4455;\n",
              "      fill: #D2E3FC;\n",
              "    }\n",
              "\n",
              "    [theme=dark] .colab-df-convert:hover {\n",
              "      background-color: #434B5C;\n",
              "      box-shadow: 0px 1px 3px 1px rgba(0, 0, 0, 0.15);\n",
              "      filter: drop-shadow(0px 1px 2px rgba(0, 0, 0, 0.3));\n",
              "      fill: #FFFFFF;\n",
              "    }\n",
              "  </style>\n",
              "\n",
              "      <script>\n",
              "        const buttonEl =\n",
              "          document.querySelector('#df-ecb444a5-2930-457c-b3a4-9976a908f7c4 button.colab-df-convert');\n",
              "        buttonEl.style.display =\n",
              "          google.colab.kernel.accessAllowed ? 'block' : 'none';\n",
              "\n",
              "        async function convertToInteractive(key) {\n",
              "          const element = document.querySelector('#df-ecb444a5-2930-457c-b3a4-9976a908f7c4');\n",
              "          const dataTable =\n",
              "            await google.colab.kernel.invokeFunction('convertToInteractive',\n",
              "                                                     [key], {});\n",
              "          if (!dataTable) return;\n",
              "\n",
              "          const docLinkHtml = 'Like what you see? Visit the ' +\n",
              "            '<a target=\"_blank\" href=https://colab.research.google.com/notebooks/data_table.ipynb>data table notebook</a>'\n",
              "            + ' to learn more about interactive tables.';\n",
              "          element.innerHTML = '';\n",
              "          dataTable['output_type'] = 'display_data';\n",
              "          await google.colab.output.renderOutput(dataTable, element);\n",
              "          const docLink = document.createElement('div');\n",
              "          docLink.innerHTML = docLinkHtml;\n",
              "          element.appendChild(docLink);\n",
              "        }\n",
              "      </script>\n",
              "    </div>\n",
              "  </div>\n",
              "  "
            ]
          },
          "metadata": {},
          "execution_count": 115
        }
      ]
    },
    {
      "cell_type": "markdown",
      "source": [
        "Did you notice which Column is dropped?\n",
        "I am sure you noticed it.\n",
        "Name that column below"
      ],
      "metadata": {
        "id": "HAMB8--rkqhx"
      }
    },
    {
      "cell_type": "code",
      "execution_count": null,
      "source": [
        "#Column:Anonymous"
      ],
      "outputs": [],
      "metadata": {
        "id": "x7HRPWXHkqhx"
      }
    },
    {
      "cell_type": "markdown",
      "source": [
        "### `Treating constant column values`\n",
        "\n",
        "<p style='text-align: right;'> 2 points</p>\n"
      ],
      "metadata": {
        "id": "n53B2-pCkqhx"
      }
    },
    {
      "cell_type": "markdown",
      "source": [
        "Check unique values in each columns"
      ],
      "metadata": {
        "id": "fDpWhHSlkqhx"
      }
    },
    {
      "cell_type": "code",
      "execution_count": null,
      "source": [
        "# df3 unique value\n",
        "df5.nunique()"
      ],
      "outputs": [
        {
          "output_type": "execute_result",
          "data": {
            "text/plain": [
              "Anand     42\n",
              "Barkha    32\n",
              "Chandu    40\n",
              "Daniel    36\n",
              "dummy      1\n",
              "dtype: int64"
            ]
          },
          "metadata": {},
          "execution_count": 123
        }
      ],
      "metadata": {
        "colab": {
          "base_uri": "https://localhost:8080/"
        },
        "id": "5-L6SLhqkqhx",
        "outputId": "31d812bd-b03a-4e41-8842-ccf5dd2e56b6"
      }
    },
    {
      "cell_type": "markdown",
      "source": [
        "By above output which column has only 1 value as unique throught the rows? \n",
        "Yeah! you are right, its dummy column.\n",
        "So lets drop it"
      ],
      "metadata": {
        "id": "4G9ZC-n-kqhx"
      }
    },
    {
      "cell_type": "markdown",
      "source": [
        "Drop dummy column as it has constant values which will not give us any information and save the changes to df3 using inplace parameter"
      ],
      "metadata": {
        "id": "D3y3ZWW6kqhx"
      }
    },
    {
      "cell_type": "code",
      "execution_count": null,
      "source": [
        "# drop dummy\n",
        "df5.drop(['dummy'], inplace=True, axis=1)"
      ],
      "outputs": [],
      "metadata": {
        "id": "SR10jRVQkqhy"
      }
    },
    {
      "cell_type": "markdown",
      "source": [
        "print final obtained dataframe df3"
      ],
      "metadata": {
        "id": "nHdi2uHskqhy"
      }
    },
    {
      "cell_type": "code",
      "execution_count": null,
      "source": [
        "# print df3\n",
        "df5"
      ],
      "outputs": [],
      "metadata": {
        "id": "0-YUwfDKkqhy"
      }
    },
    {
      "cell_type": "markdown",
      "source": [
        "### `Iterating dataframes`\n",
        "<p style='text-align: right;'> 25 points </p>\n",
        "\n",
        "\n",
        "Let's look at three main ways to iterate over DataFrames.\n",
        "\n",
        "1. iteritems()\n",
        "2. iterrows()\n",
        "3. itertuples()\n",
        "\n",
        "We will also see time taken by these methods to print our dataframe. \n",
        "\n",
        "**1. Iterating DataFrames with iteritems()**\n",
        "\n",
        "Lets iterate over rows of df3 uisng iteritems.\n",
        "\n"
      ],
      "metadata": {
        "id": "zRcB-7eF-7xB"
      }
    },
    {
      "cell_type": "code",
      "execution_count": null,
      "source": [
        "YouTubeVideo('https://www.youtube.com/watch?v=rl3Nk-IxXV4&list=PLsR_0x6BuM-F4Z72h5D1bjWEASL0_JlrF&index=6',width=600,height=300)"
      ],
      "outputs": [],
      "metadata": {
        "id": "qbaycqBOuaLV"
      }
    },
    {
      "cell_type": "code",
      "execution_count": null,
      "source": [
        "import time\n",
        "start = time.time()\n",
        "\n",
        "#Use iteritems to iterate\n",
        "for columns_name,column_data in df5.iteritems():\n",
        "  print(columns_name,column_data)\n",
        "\n",
        "\n",
        "print('Time taken(sec): ',(time.time()-start)*1000)"
      ],
      "outputs": [
        {
          "output_type": "stream",
          "name": "stdout",
          "text": [
            "Anand 0     40.0\n",
            "1     88.0\n",
            "2     30.0\n",
            "3     11.0\n",
            "4     15.0\n",
            "5     88.0\n",
            "6     77.0\n",
            "7     97.0\n",
            "8     81.0\n",
            "9     96.0\n",
            "10    88.0\n",
            "11    28.0\n",
            "12    33.0\n",
            "13    68.0\n",
            "14     9.0\n",
            "15    62.0\n",
            "16    32.0\n",
            "17    45.0\n",
            "18     6.0\n",
            "19    44.0\n",
            "20    39.0\n",
            "21    69.0\n",
            "22     5.0\n",
            "23     4.0\n",
            "24    10.0\n",
            "25    85.0\n",
            "26    31.0\n",
            "27     0.0\n",
            "28     2.0\n",
            "29    63.0\n",
            "30    19.0\n",
            "31    58.0\n",
            "32     7.0\n",
            "33    27.0\n",
            "34    27.0\n",
            "35    99.0\n",
            "36    84.0\n",
            "37    77.0\n",
            "38    82.0\n",
            "39    74.0\n",
            "40    87.0\n",
            "41    50.0\n",
            "42     1.0\n",
            "43     1.0\n",
            "44    74.0\n",
            "45     3.0\n",
            "46    16.0\n",
            "47    67.0\n",
            "48     NaN\n",
            "Name: Anand, dtype: float64\n",
            "Barkha 0     36.0\n",
            "1     62.0\n",
            "2     30.0\n",
            "3     28.0\n",
            "4     18.0\n",
            "5     50.0\n",
            "6     88.0\n",
            "7     50.0\n",
            "8     80.0\n",
            "9     66.0\n",
            "10    96.0\n",
            "11    30.0\n",
            "12     4.0\n",
            "13    30.0\n",
            "14     2.0\n",
            "15    42.0\n",
            "16    94.0\n",
            "17    18.0\n",
            "18    44.0\n",
            "19    68.0\n",
            "20    58.0\n",
            "21    48.0\n",
            "22    70.0\n",
            "23    22.0\n",
            "24    36.0\n",
            "25    32.0\n",
            "26    32.0\n",
            "27    96.0\n",
            "28    30.0\n",
            "29    86.0\n",
            "30     0.0\n",
            "31    76.0\n",
            "32    88.0\n",
            "33    64.0\n",
            "34    52.0\n",
            "35    46.0\n",
            "36    20.0\n",
            "37    66.0\n",
            "38    56.0\n",
            "39     8.0\n",
            "40    68.0\n",
            "41    50.0\n",
            "42    28.0\n",
            "43    82.0\n",
            "44    36.0\n",
            "45    50.0\n",
            "46    18.0\n",
            "47    38.0\n",
            "48     NaN\n",
            "Name: Barkha, dtype: float64\n",
            "Chandu 0     16.0\n",
            "1     33.0\n",
            "2     89.0\n",
            "3     74.0\n",
            "4     80.0\n",
            "5     54.0\n",
            "6     15.0\n",
            "7     45.0\n",
            "8     41.0\n",
            "9     67.0\n",
            "10    73.0\n",
            "11    89.0\n",
            "12    87.0\n",
            "13    70.0\n",
            "14    65.0\n",
            "15    34.0\n",
            "16    86.0\n",
            "17    50.0\n",
            "18     9.0\n",
            "19    14.0\n",
            "20    81.0\n",
            "21    60.0\n",
            "22    61.0\n",
            "23    19.0\n",
            "24     0.0\n",
            "25    81.0\n",
            "26    96.0\n",
            "27    25.0\n",
            "28    17.0\n",
            "29    29.0\n",
            "30     7.0\n",
            "31    10.0\n",
            "32    96.0\n",
            "33    49.0\n",
            "34    90.0\n",
            "35    46.0\n",
            "36    49.0\n",
            "37    37.0\n",
            "38    41.0\n",
            "39    92.0\n",
            "40    86.0\n",
            "41    85.0\n",
            "42    58.0\n",
            "43    34.0\n",
            "44     6.0\n",
            "45    59.0\n",
            "46    61.0\n",
            "47    27.0\n",
            "48     NaN\n",
            "Name: Chandu, dtype: float64\n",
            "Daniel 0     11.0\n",
            "1     72.0\n",
            "2     12.0\n",
            "3     88.0\n",
            "4     71.0\n",
            "5     34.0\n",
            "6      6.0\n",
            "7     40.0\n",
            "8     90.0\n",
            "9     62.0\n",
            "10    40.0\n",
            "11    25.0\n",
            "12    94.0\n",
            "13    74.0\n",
            "14    13.0\n",
            "15    40.0\n",
            "16    58.0\n",
            "17    44.0\n",
            "18    50.0\n",
            "19     4.0\n",
            "20    39.0\n",
            "21    58.0\n",
            "22    16.0\n",
            "23    85.0\n",
            "24    30.0\n",
            "25    13.0\n",
            "26    38.0\n",
            "27    63.0\n",
            "28    59.0\n",
            "29    71.0\n",
            "30    93.0\n",
            "31    79.0\n",
            "32    38.0\n",
            "33    90.0\n",
            "34    57.0\n",
            "35    45.0\n",
            "36    33.0\n",
            "37    31.0\n",
            "38    90.0\n",
            "39    32.0\n",
            "40    14.0\n",
            "41    14.0\n",
            "42    10.0\n",
            "43    11.0\n",
            "44    63.0\n",
            "45    34.0\n",
            "46    54.0\n",
            "47    96.0\n",
            "48     NaN\n",
            "Name: Daniel, dtype: float64\n",
            "Time taken(sec):  25.8023738861084\n"
          ]
        }
      ],
      "metadata": {
        "id": "TSqmwG2g-7xB",
        "outputId": "5e4f0963-a2ce-40de-85ee-ea2178ccf921",
        "colab": {
          "base_uri": "https://localhost:8080/"
        }
      }
    },
    {
      "cell_type": "markdown",
      "source": [
        "Did you notice buddy how iteritems are iterating over df3.\n",
        "\n",
        "Along with ways each iterating function works, also keep tallying the time taken for all other lopps too!. This will be fun, lets check iterrows()\n",
        "\n",
        "**2. Iterating DataFrames with iterrows()**"
      ],
      "metadata": {
        "id": "1zzfkzkH-7xB"
      }
    },
    {
      "cell_type": "code",
      "execution_count": null,
      "source": [
        "import time\n",
        "start = time.time()\n",
        "#Use iterrows to iterate\n",
        "for row, data_at_row in df5.iterrows():\n",
        "  print(row,data_at_row)\n",
        "print('Time taken(sec): ',(time.time()-start)*1000)"
      ],
      "outputs": [
        {
          "output_type": "stream",
          "name": "stdout",
          "text": [
            "0 Anand     40.0\n",
            "Barkha    36.0\n",
            "Chandu    16.0\n",
            "Daniel    11.0\n",
            "Name: 0, dtype: float64\n",
            "1 Anand     88.0\n",
            "Barkha    62.0\n",
            "Chandu    33.0\n",
            "Daniel    72.0\n",
            "Name: 1, dtype: float64\n",
            "2 Anand     30.0\n",
            "Barkha    30.0\n",
            "Chandu    89.0\n",
            "Daniel    12.0\n",
            "Name: 2, dtype: float64\n",
            "3 Anand     11.0\n",
            "Barkha    28.0\n",
            "Chandu    74.0\n",
            "Daniel    88.0\n",
            "Name: 3, dtype: float64\n",
            "4 Anand     15.0\n",
            "Barkha    18.0\n",
            "Chandu    80.0\n",
            "Daniel    71.0\n",
            "Name: 4, dtype: float64\n",
            "5 Anand     88.0\n",
            "Barkha    50.0\n",
            "Chandu    54.0\n",
            "Daniel    34.0\n",
            "Name: 5, dtype: float64\n",
            "6 Anand     77.0\n",
            "Barkha    88.0\n",
            "Chandu    15.0\n",
            "Daniel     6.0\n",
            "Name: 6, dtype: float64\n",
            "7 Anand     97.0\n",
            "Barkha    50.0\n",
            "Chandu    45.0\n",
            "Daniel    40.0\n",
            "Name: 7, dtype: float64\n",
            "8 Anand     81.0\n",
            "Barkha    80.0\n",
            "Chandu    41.0\n",
            "Daniel    90.0\n",
            "Name: 8, dtype: float64\n",
            "9 Anand     96.0\n",
            "Barkha    66.0\n",
            "Chandu    67.0\n",
            "Daniel    62.0\n",
            "Name: 9, dtype: float64\n",
            "10 Anand     88.0\n",
            "Barkha    96.0\n",
            "Chandu    73.0\n",
            "Daniel    40.0\n",
            "Name: 10, dtype: float64\n",
            "11 Anand     28.0\n",
            "Barkha    30.0\n",
            "Chandu    89.0\n",
            "Daniel    25.0\n",
            "Name: 11, dtype: float64\n",
            "12 Anand     33.0\n",
            "Barkha     4.0\n",
            "Chandu    87.0\n",
            "Daniel    94.0\n",
            "Name: 12, dtype: float64\n",
            "13 Anand     68.0\n",
            "Barkha    30.0\n",
            "Chandu    70.0\n",
            "Daniel    74.0\n",
            "Name: 13, dtype: float64\n",
            "14 Anand      9.0\n",
            "Barkha     2.0\n",
            "Chandu    65.0\n",
            "Daniel    13.0\n",
            "Name: 14, dtype: float64\n",
            "15 Anand     62.0\n",
            "Barkha    42.0\n",
            "Chandu    34.0\n",
            "Daniel    40.0\n",
            "Name: 15, dtype: float64\n",
            "16 Anand     32.0\n",
            "Barkha    94.0\n",
            "Chandu    86.0\n",
            "Daniel    58.0\n",
            "Name: 16, dtype: float64\n",
            "17 Anand     45.0\n",
            "Barkha    18.0\n",
            "Chandu    50.0\n",
            "Daniel    44.0\n",
            "Name: 17, dtype: float64\n",
            "18 Anand      6.0\n",
            "Barkha    44.0\n",
            "Chandu     9.0\n",
            "Daniel    50.0\n",
            "Name: 18, dtype: float64\n",
            "19 Anand     44.0\n",
            "Barkha    68.0\n",
            "Chandu    14.0\n",
            "Daniel     4.0\n",
            "Name: 19, dtype: float64\n",
            "20 Anand     39.0\n",
            "Barkha    58.0\n",
            "Chandu    81.0\n",
            "Daniel    39.0\n",
            "Name: 20, dtype: float64\n",
            "21 Anand     69.0\n",
            "Barkha    48.0\n",
            "Chandu    60.0\n",
            "Daniel    58.0\n",
            "Name: 21, dtype: float64\n",
            "22 Anand      5.0\n",
            "Barkha    70.0\n",
            "Chandu    61.0\n",
            "Daniel    16.0\n",
            "Name: 22, dtype: float64\n",
            "23 Anand      4.0\n",
            "Barkha    22.0\n",
            "Chandu    19.0\n",
            "Daniel    85.0\n",
            "Name: 23, dtype: float64\n",
            "24 Anand     10.0\n",
            "Barkha    36.0\n",
            "Chandu     0.0\n",
            "Daniel    30.0\n",
            "Name: 24, dtype: float64\n",
            "25 Anand     85.0\n",
            "Barkha    32.0\n",
            "Chandu    81.0\n",
            "Daniel    13.0\n",
            "Name: 25, dtype: float64\n",
            "26 Anand     31.0\n",
            "Barkha    32.0\n",
            "Chandu    96.0\n",
            "Daniel    38.0\n",
            "Name: 26, dtype: float64\n",
            "27 Anand      0.0\n",
            "Barkha    96.0\n",
            "Chandu    25.0\n",
            "Daniel    63.0\n",
            "Name: 27, dtype: float64\n",
            "28 Anand      2.0\n",
            "Barkha    30.0\n",
            "Chandu    17.0\n",
            "Daniel    59.0\n",
            "Name: 28, dtype: float64\n",
            "29 Anand     63.0\n",
            "Barkha    86.0\n",
            "Chandu    29.0\n",
            "Daniel    71.0\n",
            "Name: 29, dtype: float64\n",
            "30 Anand     19.0\n",
            "Barkha     0.0\n",
            "Chandu     7.0\n",
            "Daniel    93.0\n",
            "Name: 30, dtype: float64\n",
            "31 Anand     58.0\n",
            "Barkha    76.0\n",
            "Chandu    10.0\n",
            "Daniel    79.0\n",
            "Name: 31, dtype: float64\n",
            "32 Anand      7.0\n",
            "Barkha    88.0\n",
            "Chandu    96.0\n",
            "Daniel    38.0\n",
            "Name: 32, dtype: float64\n",
            "33 Anand     27.0\n",
            "Barkha    64.0\n",
            "Chandu    49.0\n",
            "Daniel    90.0\n",
            "Name: 33, dtype: float64\n",
            "34 Anand     27.0\n",
            "Barkha    52.0\n",
            "Chandu    90.0\n",
            "Daniel    57.0\n",
            "Name: 34, dtype: float64\n",
            "35 Anand     99.0\n",
            "Barkha    46.0\n",
            "Chandu    46.0\n",
            "Daniel    45.0\n",
            "Name: 35, dtype: float64\n",
            "36 Anand     84.0\n",
            "Barkha    20.0\n",
            "Chandu    49.0\n",
            "Daniel    33.0\n",
            "Name: 36, dtype: float64\n",
            "37 Anand     77.0\n",
            "Barkha    66.0\n",
            "Chandu    37.0\n",
            "Daniel    31.0\n",
            "Name: 37, dtype: float64\n",
            "38 Anand     82.0\n",
            "Barkha    56.0\n",
            "Chandu    41.0\n",
            "Daniel    90.0\n",
            "Name: 38, dtype: float64\n",
            "39 Anand     74.0\n",
            "Barkha     8.0\n",
            "Chandu    92.0\n",
            "Daniel    32.0\n",
            "Name: 39, dtype: float64\n",
            "40 Anand     87.0\n",
            "Barkha    68.0\n",
            "Chandu    86.0\n",
            "Daniel    14.0\n",
            "Name: 40, dtype: float64\n",
            "41 Anand     50.0\n",
            "Barkha    50.0\n",
            "Chandu    85.0\n",
            "Daniel    14.0\n",
            "Name: 41, dtype: float64\n",
            "42 Anand      1.0\n",
            "Barkha    28.0\n",
            "Chandu    58.0\n",
            "Daniel    10.0\n",
            "Name: 42, dtype: float64\n",
            "43 Anand      1.0\n",
            "Barkha    82.0\n",
            "Chandu    34.0\n",
            "Daniel    11.0\n",
            "Name: 43, dtype: float64\n",
            "44 Anand     74.0\n",
            "Barkha    36.0\n",
            "Chandu     6.0\n",
            "Daniel    63.0\n",
            "Name: 44, dtype: float64\n",
            "45 Anand      3.0\n",
            "Barkha    50.0\n",
            "Chandu    59.0\n",
            "Daniel    34.0\n",
            "Name: 45, dtype: float64\n",
            "46 Anand     16.0\n",
            "Barkha    18.0\n",
            "Chandu    61.0\n",
            "Daniel    54.0\n",
            "Name: 46, dtype: float64\n",
            "47 Anand     67.0\n",
            "Barkha    38.0\n",
            "Chandu    27.0\n",
            "Daniel    96.0\n",
            "Name: 47, dtype: float64\n",
            "48 Anand    NaN\n",
            "Barkha   NaN\n",
            "Chandu   NaN\n",
            "Daniel   NaN\n",
            "Name: 48, dtype: float64\n",
            "Time taken(sec):  83.50372314453125\n"
          ]
        }
      ],
      "metadata": {
        "id": "9z4LQ7bW-7xB",
        "outputId": "adf8d787-d57d-44bc-9456-429f8bd391a0",
        "colab": {
          "base_uri": "https://localhost:8080/"
        }
      }
    },
    {
      "cell_type": "markdown",
      "source": [
        "**3. Iterating DataFrames with itertuples()**"
      ],
      "metadata": {
        "id": "XrKpHWa--7xC"
      }
    },
    {
      "cell_type": "code",
      "execution_count": null,
      "source": [
        "#iterate df3 using itertuples\n",
        "import time\n",
        "start = time.time()\n",
        "\n",
        "#Use itertuples to iterate\n",
        "for i in df5.itertuples():\n",
        "  print(i)\n",
        "\n",
        "print('Time taken(sec): ',(time.time()-start)*1000)"
      ],
      "outputs": [
        {
          "output_type": "stream",
          "name": "stdout",
          "text": [
            "Pandas(Index=0, Anand=40.0, Barkha=36.0, Chandu=16.0, Daniel=11.0)\n",
            "Pandas(Index=1, Anand=88.0, Barkha=62.0, Chandu=33.0, Daniel=72.0)\n",
            "Pandas(Index=2, Anand=30.0, Barkha=30.0, Chandu=89.0, Daniel=12.0)\n",
            "Pandas(Index=3, Anand=11.0, Barkha=28.0, Chandu=74.0, Daniel=88.0)\n",
            "Pandas(Index=4, Anand=15.0, Barkha=18.0, Chandu=80.0, Daniel=71.0)\n",
            "Pandas(Index=5, Anand=88.0, Barkha=50.0, Chandu=54.0, Daniel=34.0)\n",
            "Pandas(Index=6, Anand=77.0, Barkha=88.0, Chandu=15.0, Daniel=6.0)\n",
            "Pandas(Index=7, Anand=97.0, Barkha=50.0, Chandu=45.0, Daniel=40.0)\n",
            "Pandas(Index=8, Anand=81.0, Barkha=80.0, Chandu=41.0, Daniel=90.0)\n",
            "Pandas(Index=9, Anand=96.0, Barkha=66.0, Chandu=67.0, Daniel=62.0)\n",
            "Pandas(Index=10, Anand=88.0, Barkha=96.0, Chandu=73.0, Daniel=40.0)\n",
            "Pandas(Index=11, Anand=28.0, Barkha=30.0, Chandu=89.0, Daniel=25.0)\n",
            "Pandas(Index=12, Anand=33.0, Barkha=4.0, Chandu=87.0, Daniel=94.0)\n",
            "Pandas(Index=13, Anand=68.0, Barkha=30.0, Chandu=70.0, Daniel=74.0)\n",
            "Pandas(Index=14, Anand=9.0, Barkha=2.0, Chandu=65.0, Daniel=13.0)\n",
            "Pandas(Index=15, Anand=62.0, Barkha=42.0, Chandu=34.0, Daniel=40.0)\n",
            "Pandas(Index=16, Anand=32.0, Barkha=94.0, Chandu=86.0, Daniel=58.0)\n",
            "Pandas(Index=17, Anand=45.0, Barkha=18.0, Chandu=50.0, Daniel=44.0)\n",
            "Pandas(Index=18, Anand=6.0, Barkha=44.0, Chandu=9.0, Daniel=50.0)\n",
            "Pandas(Index=19, Anand=44.0, Barkha=68.0, Chandu=14.0, Daniel=4.0)\n",
            "Pandas(Index=20, Anand=39.0, Barkha=58.0, Chandu=81.0, Daniel=39.0)\n",
            "Pandas(Index=21, Anand=69.0, Barkha=48.0, Chandu=60.0, Daniel=58.0)\n",
            "Pandas(Index=22, Anand=5.0, Barkha=70.0, Chandu=61.0, Daniel=16.0)\n",
            "Pandas(Index=23, Anand=4.0, Barkha=22.0, Chandu=19.0, Daniel=85.0)\n",
            "Pandas(Index=24, Anand=10.0, Barkha=36.0, Chandu=0.0, Daniel=30.0)\n",
            "Pandas(Index=25, Anand=85.0, Barkha=32.0, Chandu=81.0, Daniel=13.0)\n",
            "Pandas(Index=26, Anand=31.0, Barkha=32.0, Chandu=96.0, Daniel=38.0)\n",
            "Pandas(Index=27, Anand=0.0, Barkha=96.0, Chandu=25.0, Daniel=63.0)\n",
            "Pandas(Index=28, Anand=2.0, Barkha=30.0, Chandu=17.0, Daniel=59.0)\n",
            "Pandas(Index=29, Anand=63.0, Barkha=86.0, Chandu=29.0, Daniel=71.0)\n",
            "Pandas(Index=30, Anand=19.0, Barkha=0.0, Chandu=7.0, Daniel=93.0)\n",
            "Pandas(Index=31, Anand=58.0, Barkha=76.0, Chandu=10.0, Daniel=79.0)\n",
            "Pandas(Index=32, Anand=7.0, Barkha=88.0, Chandu=96.0, Daniel=38.0)\n",
            "Pandas(Index=33, Anand=27.0, Barkha=64.0, Chandu=49.0, Daniel=90.0)\n",
            "Pandas(Index=34, Anand=27.0, Barkha=52.0, Chandu=90.0, Daniel=57.0)\n",
            "Pandas(Index=35, Anand=99.0, Barkha=46.0, Chandu=46.0, Daniel=45.0)\n",
            "Pandas(Index=36, Anand=84.0, Barkha=20.0, Chandu=49.0, Daniel=33.0)\n",
            "Pandas(Index=37, Anand=77.0, Barkha=66.0, Chandu=37.0, Daniel=31.0)\n",
            "Pandas(Index=38, Anand=82.0, Barkha=56.0, Chandu=41.0, Daniel=90.0)\n",
            "Pandas(Index=39, Anand=74.0, Barkha=8.0, Chandu=92.0, Daniel=32.0)\n",
            "Pandas(Index=40, Anand=87.0, Barkha=68.0, Chandu=86.0, Daniel=14.0)\n",
            "Pandas(Index=41, Anand=50.0, Barkha=50.0, Chandu=85.0, Daniel=14.0)\n",
            "Pandas(Index=42, Anand=1.0, Barkha=28.0, Chandu=58.0, Daniel=10.0)\n",
            "Pandas(Index=43, Anand=1.0, Barkha=82.0, Chandu=34.0, Daniel=11.0)\n",
            "Pandas(Index=44, Anand=74.0, Barkha=36.0, Chandu=6.0, Daniel=63.0)\n",
            "Pandas(Index=45, Anand=3.0, Barkha=50.0, Chandu=59.0, Daniel=34.0)\n",
            "Pandas(Index=46, Anand=16.0, Barkha=18.0, Chandu=61.0, Daniel=54.0)\n",
            "Pandas(Index=47, Anand=67.0, Barkha=38.0, Chandu=27.0, Daniel=96.0)\n",
            "Pandas(Index=48, Anand=nan, Barkha=nan, Chandu=nan, Daniel=nan)\n",
            "Time taken(sec):  12.401819229125977\n"
          ]
        }
      ],
      "metadata": {
        "id": "bMYuRN-x-7xC",
        "outputId": "a15ed589-410c-4c1c-b8db-723b8dd4bc2b",
        "colab": {
          "base_uri": "https://localhost:8080/"
        }
      }
    },
    {
      "cell_type": "markdown",
      "source": [
        "Hey buddy! so as you have seen every method works differently \n",
        "    \n",
        "    iteritems(): Helps to iterate over each element of the set, column-wise. \n",
        "    iterrows(): Each element of the set, row-wise. \n",
        "    itertuple(): Each row and form a tuple out of them.\n",
        "\n",
        "But if you ask for speed. The most best perfromance is given by itertuples compared to other two iterating methods.\n",
        "So if anytime you need to save your computation time on iteration of dataframes you can go for itertuples. Was'nt it fun?:)"
      ],
      "metadata": {
        "id": "zuayNDa8-7xC"
      }
    },
    {
      "cell_type": "markdown",
      "source": [
        "### `Regular Expression` \n",
        "<p style='text-align: right;'> 15 points </p>\n",
        "\n",
        "\n",
        "Reference: Watch the video below\n",
        "\n",
        "Reference doc: https://www.guru99.com/python-regular-expressions-complete-tutorial.html\n",
        "\n",
        "Python has a module named re to work with RegEx\n",
        "\n",
        "\n",
        "### **!Are you ready to try regex on dataframes?**\n",
        "\n",
        "*So here we go.!*\n",
        "\n",
        "We are gonna try out following awesome re module functions\n",
        "\n",
        "1. findall \n",
        "2. search\n",
        "3. sub\n",
        "4. split\n",
        "\n",
        "If you want you can also refer the below regular expression syntax.\n",
        "\n",
        "![image.png](attachment:image.png)\n"
      ],
      "metadata": {
        "id": "IDYj2cP9riJM"
      }
    },
    {
      "cell_type": "code",
      "source": [
        "YouTubeVideo('YXFZTKlkf-Y',width=600,height=300)"
      ],
      "metadata": {
        "id": "mlY1ikh2rSKn"
      },
      "execution_count": null,
      "outputs": []
    },
    {
      "cell_type": "markdown",
      "source": [
        "Hey future data scientists! we will now use regex on dataframes for data cleaning.\n",
        "\n",
        "Who doesn't know Trump?. Lets dowload this interesting dataset of Trump insult tweets :https://www.kaggle.com/ayushggarg/all-trumps-twitter-insults-20152021/download\n",
        "\n",
        "On this dataset we will learn how to use regex for data cleaning. By the way it will be also very usefull for feature engineering too!.\n",
        "\n"
      ],
      "metadata": {
        "id": "7UTdQf37-7xC"
      }
    },
    {
      "cell_type": "code",
      "execution_count": null,
      "source": [
        "#load dataset\n",
        "tweet_data= pd.read_csv('trump_insult_tweets_2014_to_2021.csv')"
      ],
      "outputs": [],
      "metadata": {
        "id": "cjtyP--7-7xD"
      }
    },
    {
      "cell_type": "code",
      "execution_count": null,
      "source": [
        "#import re module\n",
        "import re\n",
        "\n",
        "#print head of tweet_data\n",
        "tweet_data.head()"
      ],
      "outputs": [
        {
          "output_type": "execute_result",
          "data": {
            "text/plain": [
              "   Unnamed: 0        date          target  \\\n",
              "0           1  2014-10-09  thomas-frieden   \n",
              "1           2  2014-10-09  thomas-frieden   \n",
              "2           3  2015-06-16     politicians   \n",
              "3           4  2015-06-24      ben-cardin   \n",
              "4           5  2015-06-24      neil-young   \n",
              "\n",
              "                                              insult  \\\n",
              "0                                               fool   \n",
              "1                                               DOPE   \n",
              "2                             all talk and no action   \n",
              "3  It's politicians like Cardin that have destroy...   \n",
              "4                                    total hypocrite   \n",
              "\n",
              "                                               tweet  \n",
              "0  Can you believe this fool, Dr. Thomas Frieden ...  \n",
              "1  Can you believe this fool, Dr. Thomas Frieden ...  \n",
              "2  Big time in U.S. today - MAKE AMERICA GREAT AG...  \n",
              "3  Politician @SenatorCardin didn't like that I s...  \n",
              "4  For the nonbeliever, here is a photo of @Neily...  "
            ],
            "text/html": [
              "\n",
              "  <div id=\"df-d2fbf153-984e-42cc-9e49-3d72ea5adfed\">\n",
              "    <div class=\"colab-df-container\">\n",
              "      <div>\n",
              "<style scoped>\n",
              "    .dataframe tbody tr th:only-of-type {\n",
              "        vertical-align: middle;\n",
              "    }\n",
              "\n",
              "    .dataframe tbody tr th {\n",
              "        vertical-align: top;\n",
              "    }\n",
              "\n",
              "    .dataframe thead th {\n",
              "        text-align: right;\n",
              "    }\n",
              "</style>\n",
              "<table border=\"1\" class=\"dataframe\">\n",
              "  <thead>\n",
              "    <tr style=\"text-align: right;\">\n",
              "      <th></th>\n",
              "      <th>Unnamed: 0</th>\n",
              "      <th>date</th>\n",
              "      <th>target</th>\n",
              "      <th>insult</th>\n",
              "      <th>tweet</th>\n",
              "    </tr>\n",
              "  </thead>\n",
              "  <tbody>\n",
              "    <tr>\n",
              "      <th>0</th>\n",
              "      <td>1</td>\n",
              "      <td>2014-10-09</td>\n",
              "      <td>thomas-frieden</td>\n",
              "      <td>fool</td>\n",
              "      <td>Can you believe this fool, Dr. Thomas Frieden ...</td>\n",
              "    </tr>\n",
              "    <tr>\n",
              "      <th>1</th>\n",
              "      <td>2</td>\n",
              "      <td>2014-10-09</td>\n",
              "      <td>thomas-frieden</td>\n",
              "      <td>DOPE</td>\n",
              "      <td>Can you believe this fool, Dr. Thomas Frieden ...</td>\n",
              "    </tr>\n",
              "    <tr>\n",
              "      <th>2</th>\n",
              "      <td>3</td>\n",
              "      <td>2015-06-16</td>\n",
              "      <td>politicians</td>\n",
              "      <td>all talk and no action</td>\n",
              "      <td>Big time in U.S. today - MAKE AMERICA GREAT AG...</td>\n",
              "    </tr>\n",
              "    <tr>\n",
              "      <th>3</th>\n",
              "      <td>4</td>\n",
              "      <td>2015-06-24</td>\n",
              "      <td>ben-cardin</td>\n",
              "      <td>It's politicians like Cardin that have destroy...</td>\n",
              "      <td>Politician @SenatorCardin didn't like that I s...</td>\n",
              "    </tr>\n",
              "    <tr>\n",
              "      <th>4</th>\n",
              "      <td>5</td>\n",
              "      <td>2015-06-24</td>\n",
              "      <td>neil-young</td>\n",
              "      <td>total hypocrite</td>\n",
              "      <td>For the nonbeliever, here is a photo of @Neily...</td>\n",
              "    </tr>\n",
              "  </tbody>\n",
              "</table>\n",
              "</div>\n",
              "      <button class=\"colab-df-convert\" onclick=\"convertToInteractive('df-d2fbf153-984e-42cc-9e49-3d72ea5adfed')\"\n",
              "              title=\"Convert this dataframe to an interactive table.\"\n",
              "              style=\"display:none;\">\n",
              "        \n",
              "  <svg xmlns=\"http://www.w3.org/2000/svg\" height=\"24px\"viewBox=\"0 0 24 24\"\n",
              "       width=\"24px\">\n",
              "    <path d=\"M0 0h24v24H0V0z\" fill=\"none\"/>\n",
              "    <path d=\"M18.56 5.44l.94 2.06.94-2.06 2.06-.94-2.06-.94-.94-2.06-.94 2.06-2.06.94zm-11 1L8.5 8.5l.94-2.06 2.06-.94-2.06-.94L8.5 2.5l-.94 2.06-2.06.94zm10 10l.94 2.06.94-2.06 2.06-.94-2.06-.94-.94-2.06-.94 2.06-2.06.94z\"/><path d=\"M17.41 7.96l-1.37-1.37c-.4-.4-.92-.59-1.43-.59-.52 0-1.04.2-1.43.59L10.3 9.45l-7.72 7.72c-.78.78-.78 2.05 0 2.83L4 21.41c.39.39.9.59 1.41.59.51 0 1.02-.2 1.41-.59l7.78-7.78 2.81-2.81c.8-.78.8-2.07 0-2.86zM5.41 20L4 18.59l7.72-7.72 1.47 1.35L5.41 20z\"/>\n",
              "  </svg>\n",
              "      </button>\n",
              "      \n",
              "  <style>\n",
              "    .colab-df-container {\n",
              "      display:flex;\n",
              "      flex-wrap:wrap;\n",
              "      gap: 12px;\n",
              "    }\n",
              "\n",
              "    .colab-df-convert {\n",
              "      background-color: #E8F0FE;\n",
              "      border: none;\n",
              "      border-radius: 50%;\n",
              "      cursor: pointer;\n",
              "      display: none;\n",
              "      fill: #1967D2;\n",
              "      height: 32px;\n",
              "      padding: 0 0 0 0;\n",
              "      width: 32px;\n",
              "    }\n",
              "\n",
              "    .colab-df-convert:hover {\n",
              "      background-color: #E2EBFA;\n",
              "      box-shadow: 0px 1px 2px rgba(60, 64, 67, 0.3), 0px 1px 3px 1px rgba(60, 64, 67, 0.15);\n",
              "      fill: #174EA6;\n",
              "    }\n",
              "\n",
              "    [theme=dark] .colab-df-convert {\n",
              "      background-color: #3B4455;\n",
              "      fill: #D2E3FC;\n",
              "    }\n",
              "\n",
              "    [theme=dark] .colab-df-convert:hover {\n",
              "      background-color: #434B5C;\n",
              "      box-shadow: 0px 1px 3px 1px rgba(0, 0, 0, 0.15);\n",
              "      filter: drop-shadow(0px 1px 2px rgba(0, 0, 0, 0.3));\n",
              "      fill: #FFFFFF;\n",
              "    }\n",
              "  </style>\n",
              "\n",
              "      <script>\n",
              "        const buttonEl =\n",
              "          document.querySelector('#df-d2fbf153-984e-42cc-9e49-3d72ea5adfed button.colab-df-convert');\n",
              "        buttonEl.style.display =\n",
              "          google.colab.kernel.accessAllowed ? 'block' : 'none';\n",
              "\n",
              "        async function convertToInteractive(key) {\n",
              "          const element = document.querySelector('#df-d2fbf153-984e-42cc-9e49-3d72ea5adfed');\n",
              "          const dataTable =\n",
              "            await google.colab.kernel.invokeFunction('convertToInteractive',\n",
              "                                                     [key], {});\n",
              "          if (!dataTable) return;\n",
              "\n",
              "          const docLinkHtml = 'Like what you see? Visit the ' +\n",
              "            '<a target=\"_blank\" href=https://colab.research.google.com/notebooks/data_table.ipynb>data table notebook</a>'\n",
              "            + ' to learn more about interactive tables.';\n",
              "          element.innerHTML = '';\n",
              "          dataTable['output_type'] = 'display_data';\n",
              "          await google.colab.output.renderOutput(dataTable, element);\n",
              "          const docLink = document.createElement('div');\n",
              "          docLink.innerHTML = docLinkHtml;\n",
              "          element.appendChild(docLink);\n",
              "        }\n",
              "      </script>\n",
              "    </div>\n",
              "  </div>\n",
              "  "
            ]
          },
          "metadata": {},
          "execution_count": 130
        }
      ],
      "metadata": {
        "id": "pAlXI3yU-7xD",
        "outputId": "01882f71-e922-4fbf-c217-1f6375e3df06",
        "colab": {
          "base_uri": "https://localhost:8080/",
          "height": 250
        }
      }
    },
    {
      "cell_type": "markdown",
      "source": [
        "Lets do some analysis using regex on this dataset\n",
        "\n",
        "Before we go ahead, do you remember apply function? because you will have to require apply function to impliment regex methods.\n",
        "\n",
        "You can refer video below:\n",
        "**1. findall()**\n",
        "\n",
        "Make another column 'year' with year in each row using regex on date column.\n"
      ],
      "metadata": {
        "id": "-sQ2gcii-7xE"
      }
    },
    {
      "cell_type": "code",
      "source": [
        "YouTubeVideo('T-b7TxWfrfE',width=600,height=300)"
      ],
      "metadata": {
        "id": "3dqcmEQxXRDO"
      },
      "execution_count": null,
      "outputs": []
    },
    {
      "cell_type": "code",
      "execution_count": null,
      "source": [
        "# create a function which takes date as parameter and applies regex on it\n",
        "tweet_data['Year'] = tweet_data['date'].str.extract('(\\d{4})')\n",
        "\n",
        "\n",
        "#use apply function on tweet_data to use above function in order to make year column\n",
        "\n",
        "\n",
        "#print tweet_data head\n",
        "tweet_data.head()"
      ],
      "outputs": [
        {
          "output_type": "execute_result",
          "data": {
            "text/plain": [
              "   Unnamed: 0        date          target  \\\n",
              "0           1  2014-10-09  thomas-frieden   \n",
              "1           2  2014-10-09  thomas-frieden   \n",
              "2           3  2015-06-16     politicians   \n",
              "3           4  2015-06-24      ben-cardin   \n",
              "4           5  2015-06-24      neil-young   \n",
              "\n",
              "                                              insult  \\\n",
              "0                                               fool   \n",
              "1                                               DOPE   \n",
              "2                             all talk and no action   \n",
              "3  It's politicians like Cardin that have destroy...   \n",
              "4                                    total hypocrite   \n",
              "\n",
              "                                               tweet  Year  \n",
              "0  Can you believe this fool, Dr. Thomas Frieden ...  2014  \n",
              "1  Can you believe this fool, Dr. Thomas Frieden ...  2014  \n",
              "2  Big time in U.S. today - MAKE AMERICA GREAT AG...  2015  \n",
              "3  Politician @SenatorCardin didn't like that I s...  2015  \n",
              "4  For the nonbeliever, here is a photo of @Neily...  2015  "
            ],
            "text/html": [
              "\n",
              "  <div id=\"df-7aea0c62-fd03-4f40-b4f5-8a7837f7f27f\">\n",
              "    <div class=\"colab-df-container\">\n",
              "      <div>\n",
              "<style scoped>\n",
              "    .dataframe tbody tr th:only-of-type {\n",
              "        vertical-align: middle;\n",
              "    }\n",
              "\n",
              "    .dataframe tbody tr th {\n",
              "        vertical-align: top;\n",
              "    }\n",
              "\n",
              "    .dataframe thead th {\n",
              "        text-align: right;\n",
              "    }\n",
              "</style>\n",
              "<table border=\"1\" class=\"dataframe\">\n",
              "  <thead>\n",
              "    <tr style=\"text-align: right;\">\n",
              "      <th></th>\n",
              "      <th>Unnamed: 0</th>\n",
              "      <th>date</th>\n",
              "      <th>target</th>\n",
              "      <th>insult</th>\n",
              "      <th>tweet</th>\n",
              "      <th>Year</th>\n",
              "    </tr>\n",
              "  </thead>\n",
              "  <tbody>\n",
              "    <tr>\n",
              "      <th>0</th>\n",
              "      <td>1</td>\n",
              "      <td>2014-10-09</td>\n",
              "      <td>thomas-frieden</td>\n",
              "      <td>fool</td>\n",
              "      <td>Can you believe this fool, Dr. Thomas Frieden ...</td>\n",
              "      <td>2014</td>\n",
              "    </tr>\n",
              "    <tr>\n",
              "      <th>1</th>\n",
              "      <td>2</td>\n",
              "      <td>2014-10-09</td>\n",
              "      <td>thomas-frieden</td>\n",
              "      <td>DOPE</td>\n",
              "      <td>Can you believe this fool, Dr. Thomas Frieden ...</td>\n",
              "      <td>2014</td>\n",
              "    </tr>\n",
              "    <tr>\n",
              "      <th>2</th>\n",
              "      <td>3</td>\n",
              "      <td>2015-06-16</td>\n",
              "      <td>politicians</td>\n",
              "      <td>all talk and no action</td>\n",
              "      <td>Big time in U.S. today - MAKE AMERICA GREAT AG...</td>\n",
              "      <td>2015</td>\n",
              "    </tr>\n",
              "    <tr>\n",
              "      <th>3</th>\n",
              "      <td>4</td>\n",
              "      <td>2015-06-24</td>\n",
              "      <td>ben-cardin</td>\n",
              "      <td>It's politicians like Cardin that have destroy...</td>\n",
              "      <td>Politician @SenatorCardin didn't like that I s...</td>\n",
              "      <td>2015</td>\n",
              "    </tr>\n",
              "    <tr>\n",
              "      <th>4</th>\n",
              "      <td>5</td>\n",
              "      <td>2015-06-24</td>\n",
              "      <td>neil-young</td>\n",
              "      <td>total hypocrite</td>\n",
              "      <td>For the nonbeliever, here is a photo of @Neily...</td>\n",
              "      <td>2015</td>\n",
              "    </tr>\n",
              "  </tbody>\n",
              "</table>\n",
              "</div>\n",
              "      <button class=\"colab-df-convert\" onclick=\"convertToInteractive('df-7aea0c62-fd03-4f40-b4f5-8a7837f7f27f')\"\n",
              "              title=\"Convert this dataframe to an interactive table.\"\n",
              "              style=\"display:none;\">\n",
              "        \n",
              "  <svg xmlns=\"http://www.w3.org/2000/svg\" height=\"24px\"viewBox=\"0 0 24 24\"\n",
              "       width=\"24px\">\n",
              "    <path d=\"M0 0h24v24H0V0z\" fill=\"none\"/>\n",
              "    <path d=\"M18.56 5.44l.94 2.06.94-2.06 2.06-.94-2.06-.94-.94-2.06-.94 2.06-2.06.94zm-11 1L8.5 8.5l.94-2.06 2.06-.94-2.06-.94L8.5 2.5l-.94 2.06-2.06.94zm10 10l.94 2.06.94-2.06 2.06-.94-2.06-.94-.94-2.06-.94 2.06-2.06.94z\"/><path d=\"M17.41 7.96l-1.37-1.37c-.4-.4-.92-.59-1.43-.59-.52 0-1.04.2-1.43.59L10.3 9.45l-7.72 7.72c-.78.78-.78 2.05 0 2.83L4 21.41c.39.39.9.59 1.41.59.51 0 1.02-.2 1.41-.59l7.78-7.78 2.81-2.81c.8-.78.8-2.07 0-2.86zM5.41 20L4 18.59l7.72-7.72 1.47 1.35L5.41 20z\"/>\n",
              "  </svg>\n",
              "      </button>\n",
              "      \n",
              "  <style>\n",
              "    .colab-df-container {\n",
              "      display:flex;\n",
              "      flex-wrap:wrap;\n",
              "      gap: 12px;\n",
              "    }\n",
              "\n",
              "    .colab-df-convert {\n",
              "      background-color: #E8F0FE;\n",
              "      border: none;\n",
              "      border-radius: 50%;\n",
              "      cursor: pointer;\n",
              "      display: none;\n",
              "      fill: #1967D2;\n",
              "      height: 32px;\n",
              "      padding: 0 0 0 0;\n",
              "      width: 32px;\n",
              "    }\n",
              "\n",
              "    .colab-df-convert:hover {\n",
              "      background-color: #E2EBFA;\n",
              "      box-shadow: 0px 1px 2px rgba(60, 64, 67, 0.3), 0px 1px 3px 1px rgba(60, 64, 67, 0.15);\n",
              "      fill: #174EA6;\n",
              "    }\n",
              "\n",
              "    [theme=dark] .colab-df-convert {\n",
              "      background-color: #3B4455;\n",
              "      fill: #D2E3FC;\n",
              "    }\n",
              "\n",
              "    [theme=dark] .colab-df-convert:hover {\n",
              "      background-color: #434B5C;\n",
              "      box-shadow: 0px 1px 3px 1px rgba(0, 0, 0, 0.15);\n",
              "      filter: drop-shadow(0px 1px 2px rgba(0, 0, 0, 0.3));\n",
              "      fill: #FFFFFF;\n",
              "    }\n",
              "  </style>\n",
              "\n",
              "      <script>\n",
              "        const buttonEl =\n",
              "          document.querySelector('#df-7aea0c62-fd03-4f40-b4f5-8a7837f7f27f button.colab-df-convert');\n",
              "        buttonEl.style.display =\n",
              "          google.colab.kernel.accessAllowed ? 'block' : 'none';\n",
              "\n",
              "        async function convertToInteractive(key) {\n",
              "          const element = document.querySelector('#df-7aea0c62-fd03-4f40-b4f5-8a7837f7f27f');\n",
              "          const dataTable =\n",
              "            await google.colab.kernel.invokeFunction('convertToInteractive',\n",
              "                                                     [key], {});\n",
              "          if (!dataTable) return;\n",
              "\n",
              "          const docLinkHtml = 'Like what you see? Visit the ' +\n",
              "            '<a target=\"_blank\" href=https://colab.research.google.com/notebooks/data_table.ipynb>data table notebook</a>'\n",
              "            + ' to learn more about interactive tables.';\n",
              "          element.innerHTML = '';\n",
              "          dataTable['output_type'] = 'display_data';\n",
              "          await google.colab.output.renderOutput(dataTable, element);\n",
              "          const docLink = document.createElement('div');\n",
              "          docLink.innerHTML = docLinkHtml;\n",
              "          element.appendChild(docLink);\n",
              "        }\n",
              "      </script>\n",
              "    </div>\n",
              "  </div>\n",
              "  "
            ]
          },
          "metadata": {},
          "execution_count": 133
        }
      ],
      "metadata": {
        "id": "l34Sp7fI-7xE",
        "outputId": "6145cfdf-69b5-405c-b8f6-49c36bcbcdf4",
        "colab": {
          "base_uri": "https://localhost:8080/",
          "height": 354
        }
      }
    },
    {
      "cell_type": "markdown",
      "source": [
        "lets filter year from 2020-2021 which was the election time in USA.\n",
        "\n",
        "**2. search**\n",
        "\n",
        "We will use regex search for this "
      ],
      "metadata": {
        "id": "PFhjRS6q-7xE"
      }
    },
    {
      "cell_type": "code",
      "execution_count": null,
      "source": [
        "# create a function which takes year as parameter and applies regex on it\n",
        "\n",
        "    \n",
        "#use apply function on tweet_data to use above function in order to search tweets of 2020-2021\n",
        "\n",
        "\n",
        "#tweet_data head\n"
      ],
      "outputs": [],
      "metadata": {
        "id": "Zvq2DM56-7xE"
      }
    },
    {
      "cell_type": "markdown",
      "source": [
        "You can also do the same thing using regex match function to do this which is vailable in pandas\n",
        "\n",
        "Reference: https://www.geeksforgeeks.org/python-pandas-series-str-match/"
      ],
      "metadata": {
        "id": "6rgroZ2S-7xE"
      }
    },
    {
      "cell_type": "code",
      "execution_count": null,
      "source": [
        "# apply pandas str.match() function\n"
      ],
      "outputs": [],
      "metadata": {
        "id": "clsvcyg9-7xF"
      }
    },
    {
      "cell_type": "markdown",
      "source": [
        "cool right!\n",
        "\n",
        "You got some null values after applying above function. Lets drop them using dropna function. Also drop 'Unnamed: 0' column as it does not give any information.\n"
      ],
      "metadata": {
        "id": "JdIqlzyQ-7xF"
      }
    },
    {
      "cell_type": "code",
      "execution_count": null,
      "source": [
        "#drop na and Unnamed: 0 column\n",
        "\n"
      ],
      "outputs": [],
      "metadata": {
        "id": "tVXjN4_0-7xF"
      }
    },
    {
      "cell_type": "markdown",
      "source": [
        "**3. sub() Function**\n",
        "\n",
        "Now you have filtered the dataset with 2739 rows. Let's remove all @ from tweet column suing re sub() function."
      ],
      "metadata": {
        "id": "jomT29Un-7xF"
      }
    },
    {
      "cell_type": "code",
      "execution_count": null,
      "source": [
        "# create a function which takes tweet as parameter and applies regex on it\n",
        "\n",
        "\n",
        "\n",
        "#use apply function on tweet_data to use above function in order to remove @ from tweets\n",
        "\n",
        "#tweet_data head\n"
      ],
      "outputs": [],
      "metadata": {
        "id": "jewwQ0eB-7xF"
      }
    },
    {
      "cell_type": "markdown",
      "source": [
        "You can also use the sub function just in one line using list comprehension. Can you try doing it below?"
      ],
      "metadata": {
        "id": "UG9SSKhx-7xF"
      }
    },
    {
      "cell_type": "code",
      "execution_count": null,
      "source": [
        "# sub() suing list comprehension\n"
      ],
      "outputs": [],
      "metadata": {
        "id": "daSQItg5-7xG"
      }
    },
    {
      "cell_type": "markdown",
      "source": [
        "**4. split() Function**\n",
        "\n",
        "Lets now split the column target by making another column Name which has name before hyphen(\"-\")\n"
      ],
      "metadata": {
        "id": "RHi_lav1-7xG"
      }
    },
    {
      "cell_type": "code",
      "execution_count": null,
      "source": [
        "# create a function which takes target as parameter and applies regex on it\n",
        "\n",
        "\n",
        "#use apply function on tweet_data to use above function in order to create Name column\n",
        "\n",
        "#tweet_data head\n"
      ],
      "outputs": [],
      "metadata": {
        "id": "t_XwFLXl-7xG"
      }
    },
    {
      "cell_type": "markdown",
      "source": [
        "Now can you filter out Name which are specially targetted for trump? Lets do it below and check how many such tweets are there."
      ],
      "metadata": {
        "id": "GcNB7xkO-7xH"
      }
    },
    {
      "cell_type": "code",
      "execution_count": null,
      "source": [
        "#filter Name which is euqals to trump\n"
      ],
      "outputs": [],
      "metadata": {
        "id": "miKmDPBw-7xH"
      }
    },
    {
      "cell_type": "markdown",
      "source": [
        "So here you got total of 65 records which were  tweeted on Donald Trump in the span of 2020-2021. \n",
        "\n",
        "Well done buddy! You have learned how to apply regex on dataframes. Regex are mostly used for datasets which are having textual information."
      ],
      "metadata": {
        "id": "1ULcfZxb-7xH"
      }
    },
    {
      "cell_type": "markdown",
      "source": [
        "Good job!  Now our interesting trump insult tweet data is somewhat cleaned. "
      ],
      "metadata": {
        "id": "a_h9QZWl-7xH"
      }
    },
    {
      "cell_type": "markdown",
      "source": [
        "---------------------------------\n",
        "\n",
        "# C'mon cheers:) you have completed the 5th milestone challenge too. \n",
        "\n",
        "--------------------------------"
      ],
      "metadata": {
        "id": "4SgrLjyDkqhy"
      }
    },
    {
      "cell_type": "markdown",
      "source": [
        "# FeedBack\n",
        "We hope you’ve enjoyed this course so far. We’re committed to help you use \"AI for All\" course to its full potential, so that you have a great learning experience. And that’s why we need your help in form of a feedback here.\n",
        "\n",
        "Please fill this feedback form https://docs.google.com/forms/d/e/1FAIpQLSfjBmH0yJSSA34IhSVx4h2eDMgOAeG4Dk-yHid__NMTk3Hq5g/viewform"
      ],
      "metadata": {
        "id": "CG6h_jBBkqhy"
      }
    }
  ]
}