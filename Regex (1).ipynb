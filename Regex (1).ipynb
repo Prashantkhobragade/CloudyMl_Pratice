{
  "cells": [
    {
      "cell_type": "markdown",
      "metadata": {
        "id": "kAbdOmzNwVZA"
      },
      "source": [
        "## <center><u>Regular Expression</u></center>\n",
        "\n",
        "\n",
        "Regular Expression – better known as Regex – is pattern matching. As regular expressions are regular, it means they are used to match well-defined patterns. Regular expression or pattern matching tools identify words and phrases with common patterns.  A typical use case for Regex is find and replace, however as it is not able to understand syntax, grammar, or context, Regex solutions tend to operate on a very small well-defined problem set. Basically, Regex solutions are using pattern matching to merely identify similarities and differences in patterns of words and phrases. They are not able to identify words and phrases taking into consideration syntax, grammar and ultimately context.\n",
        "\n",
        "\n",
        "You will be facing some challenging questions on Regex in this assignment. Below following steps would help you to complete this assignment:\n",
        "\n",
        "`1. Read the question\n",
        "2. Go to the link given under the question\n",
        "3. You will land on Hakerrank page, if not then create your Hakerrank account.\n",
        "4. Once you land on hankerank page mentioned under question, go through the given problem carefully.\n",
        "5. Solve it in the editor given in the page. Select python3 as your language in the editor and click 'Run Code' Button\n",
        "6. Once you have passed all the sample test cases, write your solution in this assignment against each question.`\n",
        "\n",
        "\n",
        "If you need any assistence on Regex, then please refer below links:\n",
        "\n",
        "YouTube reference: https://www.youtube.com/watch?v=zN8rwVXwRUE\n",
        "\n",
        "Regex doc: https://docs.python.org/3/howto/regex.html\n",
        "\n",
        "\n"
      ]
    },
    {
      "cell_type": "markdown",
      "metadata": {
        "id": "hlxMETcywVZS"
      },
      "source": [
        "#### Q1. Matching string problem\n",
        "\n",
        "https://www.hackerrank.com/challenges/matching-specific-string/problem"
      ]
    },
    {
      "cell_type": "code",
      "source": [
        "import re\n",
        "\n",
        "Regex_Pattern = r'hackerrank'\n",
        "Test_String = input()\n",
        "\n",
        "match = re.findall(Regex_Pattern, Test_String)\n",
        "print('Number of matches :', len(match))"
      ],
      "metadata": {
        "colab": {
          "base_uri": "https://localhost:8080/"
        },
        "id": "RTE3DNA9xKLE",
        "outputId": "af1d6ff6-e0aa-4392-c078-fac44b83bd9e"
      },
      "execution_count": 2,
      "outputs": [
        {
          "output_type": "stream",
          "name": "stdout",
          "text": [
            "The hackerrank team is on a mission to flatten the world by restructuring the DNA of every company on the planet. We rank programmers based on their coding skills, helping companies source great programmers and reduce the time to hire. As a result, we are revolutionizing the way companies discover and evaluate talented engineers. The hackerrank platform is the destination for the best engineers to hone their skills and companies to find top engineers.\n",
            "Number of matches : 2\n"
          ]
        }
      ]
    },
    {
      "cell_type": "raw",
      "metadata": {
        "id": "m7nS5MKDwVZT"
      },
      "source": [
        "\n",
        "\n",
        "\n",
        "\n"
      ]
    },
    {
      "cell_type": "markdown",
      "metadata": {
        "id": "SHkrwzztwVZV"
      },
      "source": [
        "#### Q2 Matching anything\n",
        "\n",
        "link - https://www.hackerrank.com/challenges/matching-anything-but-new-line/problem\n"
      ]
    },
    {
      "cell_type": "code",
      "source": [
        "regex_pattern = r'[a-zA-Z0-9]+.[a-zA-Z0-9]+.[a-zA-Z0-9]+'\n",
        "test_string = input()\n",
        "\n",
        "match = re.match(regex_pattern, test_string) is not None\n",
        "print(str(match).lower())"
      ],
      "metadata": {
        "colab": {
          "base_uri": "https://localhost:8080/"
        },
        "id": "_-mMij51yg5g",
        "outputId": "e1ca3e2b-0215-49f7-8f30-160ee9d30dec"
      },
      "execution_count": 4,
      "outputs": [
        {
          "output_type": "stream",
          "name": "stdout",
          "text": [
            "1457.457.ghj\n",
            "true\n"
          ]
        }
      ]
    },
    {
      "cell_type": "raw",
      "metadata": {
        "id": "01jRxxHGwVZV"
      },
      "source": [
        "\n",
        "\n",
        "\n",
        "\n",
        "\n",
        "\n",
        "\n"
      ]
    },
    {
      "cell_type": "markdown",
      "metadata": {
        "id": "0v2A_sBmwVZW"
      },
      "source": [
        "#### Q3 Matching non digit character\n",
        "\n",
        "link - https://www.hackerrank.com/challenges/matching-digits-non-digit-character/problem"
      ]
    },
    {
      "cell_type": "code",
      "source": [
        "Regex_Pattern = r\"\\d{2}\\D\\d{2}\\D\\d{4}\""
      ],
      "metadata": {
        "id": "GPyvVmdXz0Ka"
      },
      "execution_count": 5,
      "outputs": []
    },
    {
      "cell_type": "markdown",
      "metadata": {
        "id": "OQPDkbRtwVZW"
      },
      "source": [
        "Regex_Pattern = r\"\\d\\d\\D\\d\\d\\D\\d\\d\\d\\d\"\t# Do not delete 'r'.\n",
        "\n",
        "or\n",
        "\n",
        "\n",
        "Regex_Pattern = r\"\\d{2}\\D\\d{2}\\D\\d{4}\"    # Do not delete 'r'\n"
      ]
    },
    {
      "cell_type": "markdown",
      "metadata": {
        "id": "bFmP2tLgwVZX"
      },
      "source": [
        "#### Q4 matching whitespace - non whitespace\n",
        "\n",
        "\n",
        "link - https://www.hackerrank.com/challenges/matching-whitespace-non-whitespace-character/problem?h_r=next-challenge&h_v=zen\n"
      ]
    },
    {
      "cell_type": "code",
      "source": [
        "Regex_Pattern = r\"\\S{2}\\s\\S{2}\\s\\S{2}\"\n",
        "\n",
        "import re \n",
        "\n",
        "print(str(bool(re.search(Regex_Pattern, input()))).lower())"
      ],
      "metadata": {
        "colab": {
          "base_uri": "https://localhost:8080/"
        },
        "id": "DrOokpJa0Oyl",
        "outputId": "957ded9d-d2a0-4159-c7bd-02ee91ca0dfc"
      },
      "execution_count": 6,
      "outputs": [
        {
          "output_type": "stream",
          "name": "stdout",
          "text": [
            "11 15 45\n",
            "true\n"
          ]
        }
      ]
    },
    {
      "cell_type": "raw",
      "metadata": {
        "id": "Cy-cLENdwVZX"
      },
      "source": [
        "\n",
        "\n",
        "\n",
        "\n",
        "\n",
        "\n"
      ]
    },
    {
      "cell_type": "markdown",
      "metadata": {
        "id": "uAOYEiHswVZY"
      },
      "source": [
        "#### Q5 matching start end problem\n",
        "\n",
        "\n",
        "\n",
        "link - https://www.hackerrank.com/challenges/matching-start-end/problem?h_r=next-challenge&h_v=zen&h_r=next-challenge&h_v=zen&h_r=next-challenge&h_v=zen"
      ]
    },
    {
      "cell_type": "code",
      "source": [
        "Regex_Pattern = r\"^\\d\\w{4}$\"\n",
        "\n",
        "print(str(bool(re.search(Regex_Pattern, input()))).lower())"
      ],
      "metadata": {
        "colab": {
          "base_uri": "https://localhost:8080/"
        },
        "id": "4q8xgCC_00lH",
        "outputId": "e9c7413d-9845-44c1-fe6b-5fffc0161748"
      },
      "execution_count": 7,
      "outputs": [
        {
          "output_type": "stream",
          "name": "stdout",
          "text": [
            "0dfgh\n",
            "true\n"
          ]
        }
      ]
    },
    {
      "cell_type": "raw",
      "metadata": {
        "id": "fAZAcdSQwVZY"
      },
      "source": [
        "\n",
        "\n",
        "\n",
        "\n",
        "\n",
        "\n",
        "\n",
        "\n"
      ]
    },
    {
      "cell_type": "markdown",
      "metadata": {
        "id": "OwV29K3owVZZ"
      },
      "source": [
        "#### Q6 negative lookbehind\n",
        "\n",
        "link - https://www.hackerrank.com/challenges/negative-lookbehind/problem"
      ]
    },
    {
      "cell_type": "code",
      "source": [
        "Regex_Pattern = r\"(?<![aeiouAEIOU]).\"\n",
        "\n",
        "Test_String = input()\n",
        "\n",
        "match = re.findall(Regex_Pattern, Test_String)\n",
        "print(\"Number of matches :\", len(match))"
      ],
      "metadata": {
        "colab": {
          "base_uri": "https://localhost:8080/"
        },
        "id": "u_JBQGV62DMC",
        "outputId": "d7f709e4-e3aa-4de2-c852-f8af126d03e6"
      },
      "execution_count": 8,
      "outputs": [
        {
          "output_type": "stream",
          "name": "stdout",
          "text": [
            "lols\n",
            "Number of matches : 3\n"
          ]
        }
      ]
    },
    {
      "cell_type": "raw",
      "metadata": {
        "id": "WMoT13VqwVZZ"
      },
      "source": [
        "\n",
        "\n",
        "\n",
        "\n",
        "\n",
        "\n",
        "\n",
        "\n",
        "\n"
      ]
    },
    {
      "cell_type": "markdown",
      "metadata": {
        "id": "sItJM0ZCwVZZ"
      },
      "source": [
        "#### Q7 Html attribute problem\n",
        "\n",
        "link - https://www.hackerrank.com/challenges/html-attributes/problem"
      ]
    },
    {
      "cell_type": "raw",
      "metadata": {
        "id": "FCDX3RXnwVZa"
      },
      "source": [
        "\n",
        "\n",
        "\n",
        "\n",
        "\n",
        "\n",
        "\n",
        "\n"
      ]
    },
    {
      "cell_type": "markdown",
      "metadata": {
        "id": "NIMrxkt4wVZa"
      },
      "source": [
        "#### Q8 detect html tags\n",
        "\n",
        "link - https://www.hackerrank.com/challenges/detect-html-tags/problem\n"
      ]
    },
    {
      "cell_type": "raw",
      "metadata": {
        "id": "GjCuwe7EwVZb"
      },
      "source": [
        "\n",
        "\n",
        "\n",
        "\n",
        "\n",
        "\n",
        "\n",
        "\n",
        "\n"
      ]
    },
    {
      "cell_type": "markdown",
      "metadata": {
        "id": "1QTSLbwgwVZb"
      },
      "source": [
        "#### Q9 final substring problem\n",
        "\n",
        "link - https://www.hackerrank.com/challenges/find-substring/problem\n"
      ]
    },
    {
      "cell_type": "code",
      "source": [
        "\n",
        "n = int(input())\n",
        "text = \"\\n\".join(input() for _ in range(n))\n",
        "\n",
        "t = int(input())\n",
        "\n",
        "for _ in range(t):\n",
        "    print(len(re.findall(r'\\B(%s)\\B' % input().strip(), text)))"
      ],
      "metadata": {
        "colab": {
          "base_uri": "https://localhost:8080/"
        },
        "id": "iE3hA6Kz2uZC",
        "outputId": "b1b995a6-753a-44b3-9432-d4e9c931e2e1"
      },
      "execution_count": 9,
      "outputs": [
        {
          "output_type": "stream",
          "name": "stdout",
          "text": [
            "1\n",
            "existing pessimist optimist this is\n",
            "1\n",
            "is\n",
            "3\n"
          ]
        }
      ]
    },
    {
      "cell_type": "raw",
      "metadata": {
        "id": "8DL-wXPrwVZc"
      },
      "source": [
        "\n",
        "\n",
        "\n",
        "\n",
        "\n",
        "\n",
        "\n",
        "\n",
        "\n",
        "\n"
      ]
    },
    {
      "cell_type": "markdown",
      "metadata": {
        "id": "l0ROTN--wVZc"
      },
      "source": [
        "#### Q 10 Alien username\n",
        "\n",
        "link - https://www.hackerrank.com/challenges/alien-username/problem"
      ]
    },
    {
      "cell_type": "code",
      "source": [
        "n = int(input())\n",
        "for _ in range(n):\n",
        "  if re.match(\"^[_.]{1}[0-9]{1,}[a-zA-Z]{0,}[_]{0,1}$\", input()):\n",
        "    print('VALID')\n",
        "  else:\n",
        "   print('INVALID')\n",
        "   "
      ],
      "metadata": {
        "colab": {
          "base_uri": "https://localhost:8080/"
        },
        "id": "8S3urtYe3eq2",
        "outputId": "c9ff98b6-26f0-404d-bf01-4218a74a43f9"
      },
      "execution_count": 10,
      "outputs": [
        {
          "output_type": "stream",
          "name": "stdout",
          "text": [
            "2\n",
            "_avcfg\n",
            "INVALID\n",
            "_0898989811ab_\n",
            "VALID\n"
          ]
        }
      ]
    },
    {
      "cell_type": "raw",
      "metadata": {
        "id": "SUfSsYa6wVZd"
      },
      "source": [
        "\n",
        "\n",
        "\n",
        "\n",
        "\n",
        "\n",
        "\n",
        "\n",
        "\n"
      ]
    },
    {
      "cell_type": "markdown",
      "metadata": {
        "id": "_Y7VXNiEwVZd"
      },
      "source": [
        "#### Q11 ip address validation\n",
        "\n",
        "link - https://www.hackerrank.com/challenges/ip-address-validation/problem"
      ]
    },
    {
      "cell_type": "code",
      "source": [
        "n = int(input())\n",
        "s4 = ('^'+\"{v}\\.\"*3+\"{v}$\").format(v=\"(25[0-5]|2[0-4]\\d|[01]?\\d?\\d)\")\n",
        "s6 = ('^'+\"{v}:\"*7+\"{v}$\").format(v=\"[\\da-f]{1,4}\")\n",
        "ip4 = re.compile(s4)\n",
        "ip6 = re.compile(s6)\n",
        "\n",
        "while n:\n",
        "    s = input()\n",
        "    if ip4.match(s):\n",
        "        print(\"IPv4\")\n",
        "    elif ip6.match(s):\n",
        "        print(\"IPv6\")\n",
        "    else:\n",
        "        print(\"Neither\")\n",
        "    n-=1"
      ],
      "metadata": {
        "colab": {
          "base_uri": "https://localhost:8080/"
        },
        "id": "PJ3RvBoq32J5",
        "outputId": "39756c0e-64fc-4f40-c5f9-d9cc0e0f7759"
      },
      "execution_count": 11,
      "outputs": [
        {
          "output_type": "stream",
          "name": "stdout",
          "text": [
            "2\n",
            "1050:1000:1000:a000:5:600:300c:326b\n",
            "IPv6\n",
            "22.231.113.164\n",
            "IPv4\n"
          ]
        }
      ]
    },
    {
      "cell_type": "raw",
      "metadata": {
        "id": "9beT5jWYwVZe"
      },
      "source": [
        "\n",
        "\n",
        "\n",
        "\n",
        "\n",
        "\n",
        "\n",
        "\n",
        "\n",
        "\n"
      ]
    },
    {
      "cell_type": "markdown",
      "metadata": {
        "id": "_IOX7812wVZe"
      },
      "source": [
        "\n",
        "#### Q 12 find a word problem\n",
        "\n",
        "link - https://www.hackerrank.com/challenges/find-a-word/problem\n"
      ]
    },
    {
      "cell_type": "code",
      "source": [
        "sat = ''\n",
        "for _ in range(int(input())):\n",
        "  sat += input() + '\\n'\n",
        "\n",
        "for _ in range(int(input())):\n",
        "  wrd = input()\n",
        "  print(len(re.findall(rf'\\b{wrd}\\b', sat)))"
      ],
      "metadata": {
        "colab": {
          "base_uri": "https://localhost:8080/"
        },
        "id": "O-s6VoQZ4AwM",
        "outputId": "6ad9740e-ef44-4188-e9d0-363f63df92d1"
      },
      "execution_count": 12,
      "outputs": [
        {
          "output_type": "stream",
          "name": "stdout",
          "text": [
            "1\n",
            "foo bar (foo) bar foo-bar foo_bar foo'bar bar-foo bar, foo.\n",
            "1\n",
            "foo\n",
            "6\n"
          ]
        }
      ]
    },
    {
      "cell_type": "raw",
      "metadata": {
        "id": "k24nyjt9wVZf"
      },
      "source": [
        "\n",
        "\n",
        "\n",
        "\n",
        "\n",
        "\n",
        "\n",
        "\n",
        "\n",
        "\n"
      ]
    },
    {
      "cell_type": "markdown",
      "metadata": {
        "id": "pHjRXCKPwVZf"
      },
      "source": [
        "#### Q13 detect the email address\n",
        "\n",
        "link - https://www.hackerrank.com/challenges/detect-the-email-addresses/problem"
      ]
    },
    {
      "cell_type": "code",
      "source": [
        "text_search = '''\n",
        "HackerRank is more than just a company\n",
        "    We are a tight group of hackers, bootstrappers, entrepreneurial thinkers and innovators. We are building an engaged community of problem solvers. Imagine the intelligence and value that a room would hold if it contained hackers/problem solvers from around the world? We're building this online.\n",
        "Hypothesis: Every hacker loves a particular type of challenge presented in a certain set of difficulty. If we build a large collection of real world challenges in different domains with an engaging interface, it is going to be incredible! Join us to create history.\n",
        "Available Positions\n",
        "Product Hacker product@hackerrank.com\n",
        "Challenge Curator\n",
        "Product Evangelist\n",
        "Product Designer\n",
        "Content Creator\n",
        "ACM World Finals Hacker\n",
        "Backend C++ Hacker\n",
        "Mail us at hackers@hackerrank.com to chat more. Or you can write to us at interviewstreet@hackerrank.com!\n",
        "HACKERRANK PERKS\n",
        "Working for a startup is hard work, but there are plenty of benefits of working for a small, fun, growing team.\n",
        "[Image] Perk: Get tools for the jobAll the Right ToolsWe know that everyone's perfect workspace is unique to them. We will get you set up with whatever equipment you need to start hacking - a new 15” Macbook Pro or iMac, or a computer of your choice plus a display if you need it. Additionally, if you require any software or other tools, we've got it covered.[Image] Perk: Flexible HoursFlexible HoursBecause we work so hard, we encourage our employees to keep flexible hours and don't require them to track their time. A morning scrum and open communication ensures that the job gets done on time, and we rely on the honor system so that you can work on your own pace.[Image] Perk: HealthcareWellness SupportTo work hard, you have to be healthy. We will cover your health, dental, and visual insurance with no wait period. That means instant benefits from the day you're hired.[Image] Perk: Choice of LocationLocation, Location, LocationWe are the first Indian company to be backed by Y-Combinator, and as a result we have a thriving office in Bangalore and a growing office in Mountain View, CA. Depending on your residency or visa status, we will get you situated in one of our two offices, both of which are located in the heart of their country's tech industry.[Image] Perk: Choice of LocationCreative SupportIf you have a cool side project that you want to launch, we will pay for EC2/heroku servers to get it off the ground. Side projects fuel creativity and learning, which are crucial to the HackerRank culture.\n",
        "CULTURE\n",
        "The culture of a startup is reflective of the founders’ DNA. Larry Page & Sergey Brin were PhD’s from Stanford and that’s why Google is filled with high scoring graders from top schools and is very hard to get in if you’re not a CS major. Similarly, the hacker culture at Facebook is inspired by Zuckerberg, a hacker, the design culture by Steve Jobs and so on.\n",
        "The adjective to describe the environment/founders here is relentless hardworkers. It might be a general trait of a startup but I’m pretty sure it’s a notch higher here and defines the culture. This is what has taken us this far. It’s not working in weekends or allnighters that count, but the effort that goes into building something intellectually engaging for hackers and making it fun is high.\n",
        "You’ll have to embrace randomness and chaos. There’s some level of discipline (eg: daily scrums) but only so much. We push boundaries everyday, stretch our limits but no one complains because there’s a feeling of doing something great at the end of the day, every single day.'''"
      ],
      "metadata": {
        "id": "N1Y08qFK5DTl"
      },
      "execution_count": 14,
      "outputs": []
    },
    {
      "cell_type": "code",
      "source": [
        "pattern = re.compile(r'[\\w.]+@[\\w.]+\\w+')\n",
        "matches = pattern.findall(text_search)\n",
        "\n",
        "for match in matches:\n",
        "  print(match)"
      ],
      "metadata": {
        "colab": {
          "base_uri": "https://localhost:8080/"
        },
        "id": "yuGJoK2Y5P5c",
        "outputId": "38782f80-1442-420c-aaad-aaeb2845e469"
      },
      "execution_count": 15,
      "outputs": [
        {
          "output_type": "stream",
          "name": "stdout",
          "text": [
            "product@hackerrank.com\n",
            "hackers@hackerrank.com\n",
            "interviewstreet@hackerrank.com\n"
          ]
        }
      ]
    },
    {
      "cell_type": "raw",
      "metadata": {
        "id": "dkI33CEswVZf"
      },
      "source": [
        "\n",
        "\n",
        "\n",
        "\n",
        "\n",
        "\n",
        "\n",
        "\n"
      ]
    },
    {
      "cell_type": "markdown",
      "metadata": {
        "id": "N8Yn245bwVZg"
      },
      "source": [
        "Q14 detect the domain problem\n",
        "\n",
        "link - https://www.hackerrank.com/challenges/detect-the-domain-name/problem"
      ]
    },
    {
      "cell_type": "code",
      "source": [
        "\n",
        "HTML_markup = '''<div class=\"reflist\" style=\"list-style-type: decimal;\">\n",
        "<ol class=\"references\">\n",
        "<li id=\"cite_note-1\"><span class=\"mw-cite-backlink\"><b>^ [\"Train (noun)\"](http://www.askoxford.com/concise_oed/train?view=uk). <i>(definition – Compact OED)</i>. Oxford University Press<span class=\"reference-accessdate\">. Retrieved 2008-03-18</span>.</span><span title=\"ctx_ver=Z39.88-2004&rfr_id=info%3Asid%2Fen.wikipedia.org%3ATrain&rft.atitle=Train+%28noun%29&rft.genre=article&rft_id=http%3A%2F%2Fwww.askoxford.com%2Fconcise_oed%2Ftrain%3Fview%3Duk&rft.jtitle=%28definition+%E2%80%93+Compact+OED%29&rft.pub=Oxford+University+Press&rft_val_fmt=info%3Aofi%2Ffmt%3Akev%3Amtx%3Ajournal\" class=\"Z3988\"><span style=\"display:none;\"> </span></span></span></li>\n",
        "<li id=\"cite_note-2\"><span class=\"mw-cite-backlink\"><b>^</b></span> <span class=\"reference-text\"><span class=\"citation book\">Atchison, Topeka and Santa Fe Railway (1948). <i>Rules: Operating Department</i>. p. 7.</span><span title=\"ctx_ver=Z39.88-2004&rfr_id=info%3Asid%2Fen.wikipedia.org%3ATrain&rft.au=Atchison%2C+Topeka+and+Santa+Fe+Railway&rft.aulast=Atchison%2C+Topeka+and+Santa+Fe+Railway&rft.btitle=Rules%3A+Operating+Department&rft.date=1948&rft.genre=book&rft.pages=7&rft_val_fmt=info%3Aofi%2Ffmt%3Akev%3Amtx%3Abook\" class=\"Z3988\"><span style=\"display:none;\"> </span></span></span></li>\n",
        "<li id=\"cite_note-3\"><span class=\"mw-cite-backlink\"><b>^ [Hydrogen trains](http://www.hydrogencarsnow.com/blog2/index.php/hydrogen-vehicles/i-hear-the-hydrogen-train-a-comin-its-rolling-round-the-bend/)</span></li>\n",
        "<li id=\"cite_note-4\"><span class=\"mw-cite-backlink\"><b>^ [Vehicle Projects Inc. Fuel cell locomotive](http://www.bnsf.com/media/news/articles/2008/01/2008-01-09a.html)</span></li>\n",
        "<li id=\"cite_note-5\"><span class=\"mw-cite-backlink\"><b>^</b></span> <span class=\"reference-text\"><span class=\"citation book\">Central Japan Railway (2006). <i>Central Japan Railway Data Book 2006</i>. p. 16.</span><span title=\"ctx_ver=Z39.88-2004&rfr_id=info%3Asid%2Fen.wikipedia.org%3ATrain&rft.au=Central+Japan+Railway&rft.aulast=Central+Japan+Railway&rft.btitle=Central+Japan+Railway+Data+Book+2006&rft.date=2006&rft.genre=book&rft.pages=16&rft_val_fmt=info%3Aofi%2Ffmt%3Akev%3Amtx%3Abook\" class=\"Z3988\"><span style=\"display:none;\"> </span></span></span></li>\n",
        "<li id=\"cite_note-6\"><span class=\"mw-cite-backlink\"><b>^ [\"Overview Of the existing Mumbai Suburban Railway\"](http://web.archive.org/web/20080620033027/http://www.mrvc.indianrail.gov.in/overview.htm). _Official webpage of Mumbai Railway Vikas Corporation_. Archived from [the original](http://www.mrvc.indianrail.gov.in/overview.htm) on 2008-06-20<span class=\"reference-accessdate\">. Retrieved 2008-12-11</span>.</span><span title=\"ctx_ver=Z39.88-2004&rfr_id=info%3Asid%2Fen.wikipedia.org%3ATrain&rft.atitle=Overview+Of+the+existing+Mumbai+Suburban+Railway&rft.genre=article&rft_id=http%3A%2F%2Fwww.mrvc.indianrail.gov.in%2Foverview.htm&rft.jtitle=Official+webpage+of+Mumbai+Railway+Vikas+Corporation&rft_val_fmt=info%3Aofi%2Ffmt%3Akev%3Amtx%3Ajournal\" class=\"Z3988\"><span style=\"display:none;\"> </span></span></span></li>\n",
        "</ol>\n",
        "</div>'''"
      ],
      "metadata": {
        "id": "tWAwgxmV5yhn"
      },
      "execution_count": 16,
      "outputs": []
    },
    {
      "cell_type": "code",
      "source": [
        "pattern = re.compile(r'(?:http://|https://)(?:www.|ww2.)?((?:[0-9a-zA-Z_\\.-]+)\\.[a-zA-Z]+)')\n",
        "matches = pattern.findall(HTML_markup)\n",
        "\n",
        "for match in matches:\n",
        "  print(match)"
      ],
      "metadata": {
        "colab": {
          "base_uri": "https://localhost:8080/"
        },
        "id": "TOt_GiAPFbkE",
        "outputId": "f843a573-f3c4-47d7-d76d-2755d7646f79"
      },
      "execution_count": 17,
      "outputs": [
        {
          "output_type": "stream",
          "name": "stdout",
          "text": [
            "askoxford.com\n",
            "hydrogencarsnow.com\n",
            "bnsf.com\n",
            "web.archive.org\n",
            "mrvc.indianrail.gov.in\n",
            "mrvc.indianrail.gov.in\n"
          ]
        }
      ]
    },
    {
      "cell_type": "raw",
      "metadata": {
        "id": "6aDAcoYxwVZg"
      },
      "source": [
        "\n",
        "\n",
        "\n",
        "\n",
        "\n",
        "\n",
        "\n",
        "\n",
        "\n",
        "\n",
        "\n"
      ]
    },
    {
      "cell_type": "markdown",
      "metadata": {
        "id": "wUAWhxmRwVZg"
      },
      "source": [
        "#### Q15 ide challenge\n",
        "\n",
        "link - https://www.hackerrank.com/challenges/ide-identifying-comments/problem"
      ]
    },
    {
      "cell_type": "code",
      "source": [
        "import sys\n",
        "\n",
        "t = \"\\n\".join([i.strip() for i in sys.stdin])\n",
        "print(\"\\n\".join(re.findall(r\"//.*|/\\*[\\S\\s]*?\\*/\", t)))"
      ],
      "metadata": {
        "colab": {
          "base_uri": "https://localhost:8080/"
        },
        "id": "XqMZvgioFhpK",
        "outputId": "e33e75b6-b4a8-4ae2-f000-6ec4200196ef"
      },
      "execution_count": 18,
      "outputs": [
        {
          "output_type": "stream",
          "name": "stdout",
          "text": [
            "\n"
          ]
        }
      ]
    },
    {
      "cell_type": "raw",
      "metadata": {
        "id": "Mmg2iJA-wVZh"
      },
      "source": [
        "\n",
        "\n",
        "\n",
        "\n",
        "\n",
        "\n",
        "\n",
        "\n",
        "\n",
        "\n"
      ]
    },
    {
      "cell_type": "markdown",
      "metadata": {
        "id": "7Zg08JJVwVZh"
      },
      "source": [
        "#### Q16 programming language detection problem\n",
        "\n",
        "link - https://www.hackerrank.com/challenges/programming-language-detection/problem"
      ]
    },
    {
      "cell_type": "code",
      "source": [
        "src = ''.join(sys.stdin.readlines())\n",
        "\n",
        "if 'java' in src:\n",
        "    print(\"Java\")\n",
        "elif '#include' in src:\n",
        "    print(\"C\")\n",
        "else:\n",
        "    print('Python')"
      ],
      "metadata": {
        "colab": {
          "base_uri": "https://localhost:8080/"
        },
        "id": "yWhsiIwhFr8N",
        "outputId": "dc46c1ce-265f-4881-8d4d-01619995be47"
      },
      "execution_count": 19,
      "outputs": [
        {
          "output_type": "stream",
          "name": "stdout",
          "text": [
            "Python\n"
          ]
        }
      ]
    },
    {
      "cell_type": "raw",
      "metadata": {
        "id": "xe7GolfTwVZh"
      },
      "source": [
        "\n",
        "\n",
        "\n",
        "\n",
        "\n",
        "\n",
        "\n",
        "\n",
        "\n",
        "\n",
        "\n"
      ]
    },
    {
      "cell_type": "markdown",
      "metadata": {
        "id": "1Uu_TEdFwVZi"
      },
      "source": [
        "\n",
        "---------------------------------\n",
        "\n",
        "# \"Holly jolly\":) Congratulations! you have completed the REGEX assignment. \n",
        "\n",
        "--------------------------------\n",
        "\n",
        "# FeedBack\n",
        "We hope you’ve enjoyed this course so far. We’re committed to help you use \"AI for All\" course to its full potential, so that you have a great learning experience. And that’s why we need your help in form of a feedback here.\n",
        "\n",
        "Please fill this feedback form  https://zfrmz.in/MtRG5oWXBdesm6rmSM7N"
      ]
    }
  ],
  "metadata": {
    "kernelspec": {
      "display_name": "Python 3",
      "language": "python",
      "name": "python3"
    },
    "language_info": {
      "codemirror_mode": {
        "name": "ipython",
        "version": 3
      },
      "file_extension": ".py",
      "mimetype": "text/x-python",
      "name": "python",
      "nbconvert_exporter": "python",
      "pygments_lexer": "ipython3",
      "version": "3.8.5"
    },
    "colab": {
      "name": "Regex.ipynb",
      "provenance": [],
      "collapsed_sections": []
    }
  },
  "nbformat": 4,
  "nbformat_minor": 0
}