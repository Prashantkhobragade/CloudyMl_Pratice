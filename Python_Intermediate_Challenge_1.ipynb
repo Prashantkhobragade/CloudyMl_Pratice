{
  "cells": [
    {
      "cell_type": "markdown",
      "metadata": {
        "id": "fhPMgOtUpwE7"
      },
      "source": [
        "## <center><u>Python Intermediate Challenge-1</u></center>\n",
        "\n",
        "\n",
        "54% of the respondents from the O'Reilly Data Science Salary Survey indicated that they used Python as a data science tool. Nobody can deny that Python has been on the rise in the data science industry and it certainly seems that it's here to stay.\n",
        "This rise in popularity in the industry, the long gone infancy of Python packages for data analysis, the low and gradual learning curve and the fact that it is a fully fledged programming language are only a couple of reasons that make Python an exceptional tool for data science.\n",
        "Although Python is a very readable language, you might still be able to use some help.\n",
        "\n",
        "You will be facing some challenging questions on python in this assignment. Below following steps would help you to complete this assignment:\n",
        "\n",
        "`1. Read the question\n",
        "2. Go to the link given under the question\n",
        "3. You will land on Hakerrank page, if not then create your Hakerrank account.\n",
        "4. Once you land on hankerank page mentioned under question, go through the given problem carefully.\n",
        "5. Solve it in the editor given in the page. Select python3 as your language in the editor and click 'Run Code' Button\n",
        "6. Once you have passed all the sample test cases, write your solution in this assignment against each question.`\n",
        "\n",
        "\n",
        "If you need any assistence on python, then please refer below cheatsheets:\n",
        "\n",
        "Cheatsheet reference: http://datacamp-community-prod.s3.amazonaws.com/0eff0330-e87d-4c34-88d5-73e80cb955f2\n",
        "\n",
        "\n",
        "\n",
        "    "
      ]
    },
    {
      "cell_type": "markdown",
      "metadata": {
        "id": "YjEV5ApMpwFA"
      },
      "source": [
        "#### Q1 Python If-Else\n",
        "\n",
        "link - https://www.hackerrank.com/challenges/py-if-else/problem"
      ]
    },
    {
      "cell_type": "code",
      "execution_count": null,
      "metadata": {
        "colab": {
          "base_uri": "https://localhost:8080/"
        },
        "id": "XjeovJ2ApwFB",
        "outputId": "4cd2b45d-e91b-4e07-a398-7cab50be1888"
      },
      "outputs": [
        {
          "output_type": "stream",
          "name": "stdout",
          "text": [
            "3\n",
            "Weird\n"
          ]
        }
      ],
      "source": [
        "import math\n",
        "import os\n",
        "import random\n",
        "import re\n",
        "import sys\n",
        "\n",
        "\n",
        "if __name__ == '__main__':\n",
        "    n = int(input().strip())\n",
        "if ((n%2 ==1) or (n%2 ==0 and (6<=n<=20)) ):\n",
        "  print(\"Weird\")\n",
        "if(n%2 ==0 and ((2<=n<=5) or n>20)):\n",
        "  print(\"Not weird\")\n",
        "\n",
        "\n",
        "\n",
        "\n",
        "\n",
        "\n",
        "\n",
        "\n",
        "\n"
      ]
    },
    {
      "cell_type": "markdown",
      "metadata": {
        "id": "M6XGdnrnpwFC"
      },
      "source": [
        "#### Q2 Arithmetic Operators\n",
        "\n",
        "link - https://www.hackerrank.com/challenges/python-arithmetic-operators/problem"
      ]
    },
    {
      "cell_type": "code",
      "execution_count": null,
      "metadata": {
        "colab": {
          "base_uri": "https://localhost:8080/"
        },
        "id": "YPKB6qzOpwFC",
        "outputId": "885eb17b-bf33-48d0-9f99-d90a05f4b159"
      },
      "outputs": [
        {
          "output_type": "stream",
          "name": "stdout",
          "text": [
            "3\n",
            "2\n",
            "5\n",
            "1\n",
            "6\n"
          ]
        }
      ],
      "source": [
        "if __name__ == '__main__':\n",
        "    a = int(input())\n",
        "    b = int(input())\n",
        "    \n",
        "print(a+b)\n",
        "print(a-b)\n",
        "print(a*b)\n",
        "\n",
        "\n",
        "\n",
        "\n",
        "\n",
        "\n",
        "\n",
        "\n",
        "\n"
      ]
    },
    {
      "cell_type": "markdown",
      "metadata": {
        "id": "bx-2m2dlpwFD"
      },
      "source": [
        "#### Q3 Print Function\n",
        "\n",
        "link - https://www.hackerrank.com/challenges/python-print/problem"
      ]
    },
    {
      "cell_type": "code",
      "execution_count": null,
      "metadata": {
        "colab": {
          "base_uri": "https://localhost:8080/"
        },
        "id": "tQ3E74m9pwFD",
        "outputId": "762e5738-76ce-48d7-92a9-bf74407e5f93"
      },
      "outputs": [
        {
          "output_type": "stream",
          "name": "stdout",
          "text": [
            "3\n",
            "123"
          ]
        }
      ],
      "source": [
        "if __name__ == '__main__':\n",
        "    n = int(input())\n",
        "\n",
        "i = 1\n",
        "while(i<=n):\n",
        "    print(i, end='')\n",
        "    i += 1;    \n",
        "\n",
        "\n",
        "\n",
        "\n",
        "\n",
        "\n",
        "\n",
        "\n",
        "\n",
        "\n"
      ]
    },
    {
      "cell_type": "markdown",
      "metadata": {
        "id": "lNc4rD04pwFE"
      },
      "source": [
        "#### Q4 Write a function\n",
        "\n",
        "link - https://www.hackerrank.com/challenges/write-a-function/problem"
      ]
    },
    {
      "cell_type": "code",
      "execution_count": null,
      "metadata": {
        "colab": {
          "base_uri": "https://localhost:8080/"
        },
        "id": "9_gDAN1EpwFE",
        "outputId": "1ab8972c-0f4e-43b7-e7dd-a54cc4cca191"
      },
      "outputs": [
        {
          "output_type": "stream",
          "name": "stdout",
          "text": [
            "1990\n",
            "False\n"
          ]
        }
      ],
      "source": [
        "\n",
        "def is_leap(year):\n",
        "    if(year < 100000 and year >= 1900):\n",
        "        leap = False\n",
        "        if(year % 4 == 0) and ((year % 100 != 0) or (year % 400 == 0)):\n",
        "            leap = True\n",
        "    \n",
        "    # Write your logic here\n",
        "    \n",
        "    return leap\n",
        "\n",
        "year = int(input())\n",
        "print(is_leap(year))\n",
        "\n",
        "\n",
        "\n",
        "\n",
        "\n",
        "\n",
        "\n",
        "\n",
        "\n"
      ]
    },
    {
      "cell_type": "markdown",
      "metadata": {
        "id": "jv0mTfsYpwFF"
      },
      "source": [
        "#### Q5 List Comprehensions\n",
        "\n",
        "link - https://www.hackerrank.com/challenges/list-comprehensions/problem"
      ]
    },
    {
      "cell_type": "code",
      "execution_count": null,
      "metadata": {
        "colab": {
          "base_uri": "https://localhost:8080/"
        },
        "id": "ZgtX0XlupwFF",
        "outputId": "7f49df35-d8c9-4c2a-a2e2-2b474ec6ccf8"
      },
      "outputs": [
        {
          "output_type": "stream",
          "name": "stdout",
          "text": [
            "1\n",
            "1\n",
            "1\n",
            "2\n",
            "[[0, 0, 0], [0, 0, 1], [0, 1, 0], [1, 0, 0], [1, 1, 1]]\n"
          ]
        }
      ],
      "source": [
        "\n",
        "if __name__ == '__main__':\n",
        "    x = int(input())\n",
        "    y = int(input())\n",
        "    z = int(input())\n",
        "    n = int(input())\n",
        "\n",
        "print([[a,b,c] for a in range(0,x+1) for b in range (0,y+1) for c in range (0,z+1) if a+b+c != n])\n",
        "\n",
        "\n",
        "\n",
        "\n",
        "\n",
        "\n",
        "\n",
        "\n",
        "\n",
        "\n"
      ]
    },
    {
      "cell_type": "markdown",
      "metadata": {
        "id": "8dQQpB8XpwFG"
      },
      "source": [
        "#### Q6 Find the Runner-Up Score!\n",
        "\n",
        "link - https://www.hackerrank.com/challenges/find-second-maximum-number-in-a-list/problem"
      ]
    },
    {
      "cell_type": "code",
      "execution_count": null,
      "metadata": {
        "colab": {
          "base_uri": "https://localhost:8080/"
        },
        "id": "l4M8C9jHpwFG",
        "outputId": "60526c99-b2ba-417f-9d16-9601cc4f06fe"
      },
      "outputs": [
        {
          "output_type": "stream",
          "name": "stdout",
          "text": [
            "5\n",
            "2 3 6 6 5\n",
            "5\n"
          ]
        }
      ],
      "source": [
        "\n",
        "if __name__ == '__main__':\n",
        "    n = int(input())\n",
        "    arr = map(int, input().split())\n",
        "    print(sorted(list(set(arr)))[-2])\n",
        "\n",
        "\n",
        "\n",
        "\n",
        "\n",
        "\n",
        "\n",
        "\n",
        "\n"
      ]
    },
    {
      "cell_type": "markdown",
      "metadata": {
        "id": "pYVkvsEKpwFH"
      },
      "source": [
        "#### Q7 Nested Lists\n",
        "\n",
        "link - https://www.hackerrank.com/challenges/nested-list/problem"
      ]
    },
    {
      "cell_type": "code",
      "execution_count": null,
      "metadata": {
        "colab": {
          "base_uri": "https://localhost:8080/"
        },
        "id": "0UXK_bgepwFH",
        "outputId": "0e2fe99a-4c02-4751-a83d-1244fa5695d1"
      },
      "outputs": [
        {
          "output_type": "stream",
          "name": "stdout",
          "text": [
            "5\n",
            "Harry\n",
            "37.21\n",
            "Barry\n",
            "37.21\n",
            "Tina\n",
            "37.2\n",
            "Akrati\n",
            "41\n",
            "Harsh\n",
            "39\n",
            "Barry\n",
            "Harry\n"
          ]
        }
      ],
      "source": [
        "\n",
        "if __name__ == '__main__':\n",
        "    list_ = []\n",
        "    for _ in range(int(input())):\n",
        "        name = input()\n",
        "        score = float(input())\n",
        "        list_.append([name,score])\n",
        "second_highest = sorted(list(set([marks for name, marks in list_])))[1]\n",
        "print('\\n'.join ([name for name, marks in sorted(list_) if marks == second_highest]))\n",
        "\n",
        "\n",
        "\n",
        "\n",
        "\n",
        "\n",
        "\n",
        "\n",
        "\n",
        "\n",
        "\n"
      ]
    },
    {
      "cell_type": "markdown",
      "metadata": {
        "id": "6MPlCrKqpwFH"
      },
      "source": [
        "#### Q8 Finding the percentage\n",
        "\n",
        "link - https://www.hackerrank.com/challenges/finding-the-percentage/problem"
      ]
    },
    {
      "cell_type": "code",
      "execution_count": null,
      "metadata": {
        "colab": {
          "base_uri": "https://localhost:8080/"
        },
        "id": "Qwli7SaDpwFI",
        "outputId": "22036849-87d5-4a61-8541-099e901fdfca"
      },
      "outputs": [
        {
          "output_type": "stream",
          "name": "stdout",
          "text": [
            "3\n",
            "Krishna 67 68 69\n",
            "Arjun 70 63 98\n",
            "Malika 52 56 60\n",
            "Malika\n",
            "56.00\n"
          ]
        }
      ],
      "source": [
        "\n",
        "if __name__ == '__main__':\n",
        "    n = int(input())\n",
        "    student_marks = {}\n",
        "    for _ in range(n):\n",
        "        name, *line = input().split()\n",
        "        scores = list(map(float, line))\n",
        "        student_marks[name] = scores\n",
        "    query_name = input()\n",
        "    query_scores = sum(student_marks[query_name])/len(student_marks[query_name])\n",
        "    print(\"{0:.2f}\".format(query_scores))\n",
        "\n",
        "\n",
        "\n",
        "\n",
        "\n",
        "\n",
        "\n",
        "\n",
        "\n",
        "\n",
        "\n",
        "\n",
        "\n",
        "\n"
      ]
    },
    {
      "cell_type": "markdown",
      "metadata": {
        "id": "oHCZk-ZfpwFJ"
      },
      "source": [
        "#### Q9 Lists\n",
        "\n",
        "link - https://www.hackerrank.com/challenges/python-lists/problem"
      ]
    },
    {
      "cell_type": "code",
      "execution_count": null,
      "metadata": {
        "id": "Ec1ITa_LpwFJ"
      },
      "outputs": [],
      "source": [
        "\n",
        "\n",
        "\n",
        "\n",
        "\n",
        "\n",
        "\n",
        "\n",
        "\n",
        "\n",
        "\n",
        "\n"
      ]
    },
    {
      "cell_type": "markdown",
      "metadata": {
        "id": "iqDU8CpqpwFK"
      },
      "source": [
        "#### Q10 Tuples\n",
        "\n",
        "\n",
        "link - https://www.hackerrank.com/challenges/python-tuples/problem"
      ]
    },
    {
      "cell_type": "code",
      "execution_count": null,
      "metadata": {
        "id": "UdXG2gxzpwFK"
      },
      "outputs": [],
      "source": [
        "\n",
        "\n",
        "\n",
        "\n",
        "\n",
        "\n",
        "\n",
        "\n",
        "\n",
        "\n"
      ]
    },
    {
      "cell_type": "markdown",
      "metadata": {
        "id": "WjdqrFI8pwFL"
      },
      "source": [
        "#### Q11 The Minion Game\n",
        "\n",
        "link - https://www.hackerrank.com/challenges/the-minion-game/problem"
      ]
    },
    {
      "cell_type": "code",
      "execution_count": null,
      "metadata": {
        "id": "xorFaIYypwFL"
      },
      "outputs": [],
      "source": [
        "\n",
        "\n",
        "\n",
        "\n",
        "\n",
        "\n",
        "\n",
        "\n",
        "\n",
        "\n",
        "\n",
        "\n"
      ]
    },
    {
      "cell_type": "markdown",
      "metadata": {
        "id": "5edPzIuWpwFM"
      },
      "source": [
        "#### Q12 Designer door mat\n",
        "\n",
        "link - https://www.hackerrank.com/challenges/designer-door-mat/problem"
      ]
    },
    {
      "cell_type": "code",
      "execution_count": null,
      "metadata": {
        "id": "U5D1AK5fpwFM"
      },
      "outputs": [],
      "source": [
        "\n",
        "\n",
        "\n",
        "\n",
        "\n",
        "\n",
        "\n",
        "\n",
        "\n",
        "\n"
      ]
    },
    {
      "cell_type": "markdown",
      "metadata": {
        "id": "YjVhLqgPpwFM"
      },
      "source": [
        "#### Q13 Merge the tools\n",
        "\n",
        "link - https://www.hackerrank.com/challenges/merge-the-tools/problem"
      ]
    },
    {
      "cell_type": "code",
      "execution_count": null,
      "metadata": {
        "id": "s3ls0MbfpwFN"
      },
      "outputs": [],
      "source": [
        "\n",
        "\n",
        "\n",
        "\n",
        "\n",
        "\n",
        "\n",
        "\n",
        "\n",
        "\n",
        "\n"
      ]
    },
    {
      "cell_type": "markdown",
      "metadata": {
        "id": "3iY4YZwApwFN"
      },
      "source": [
        "#### Q14 find a string\n",
        "\n",
        "link - https://www.hackerrank.com/challenges/find-a-string/problem"
      ]
    },
    {
      "cell_type": "code",
      "execution_count": null,
      "metadata": {
        "id": "j43y59dvpwFN"
      },
      "outputs": [],
      "source": [
        "\n",
        "\n",
        "\n",
        "\n",
        "\n",
        "\n",
        "\n",
        "\n",
        "\n",
        "\n"
      ]
    },
    {
      "cell_type": "markdown",
      "metadata": {
        "id": "YRpcxsSapwFO"
      },
      "source": [
        "#### Q15 no idea\n",
        "\n",
        "link - https://www.hackerrank.com/challenges/no-idea/problem"
      ]
    },
    {
      "cell_type": "code",
      "execution_count": null,
      "metadata": {
        "id": "q4BJysiHpwFO"
      },
      "outputs": [],
      "source": [
        "\n",
        "\n",
        "\n",
        "\n",
        "\n",
        "\n",
        "\n",
        "\n"
      ]
    },
    {
      "cell_type": "markdown",
      "metadata": {
        "id": "iwXMmC25pwFO"
      },
      "source": [
        "#### Q16 Symmetric difference set\n",
        "\n",
        "link - https://www.hackerrank.com/challenges/py-set-symmetric-difference-operation/problem\n"
      ]
    },
    {
      "cell_type": "code",
      "execution_count": null,
      "metadata": {
        "id": "8-JTWpEBpwFO"
      },
      "outputs": [],
      "source": [
        "\n",
        "\n",
        "\n",
        "\n",
        "\n",
        "\n",
        "\n",
        "\n",
        "\n",
        "\n"
      ]
    },
    {
      "cell_type": "markdown",
      "metadata": {
        "id": "uZ9b3s8opwFP"
      },
      "source": [
        "#### Q17 lambda map expression\n",
        "\n",
        "link - https://www.hackerrank.com/challenges/map-and-lambda-expression/problem"
      ]
    },
    {
      "cell_type": "code",
      "execution_count": null,
      "metadata": {
        "id": "SLbxxTIwpwFP"
      },
      "outputs": [],
      "source": [
        "\n",
        "\n",
        "\n",
        "\n",
        "\n",
        "\n",
        "\n",
        "\n"
      ]
    },
    {
      "cell_type": "markdown",
      "metadata": {
        "id": "vpNsJiLTpwFP"
      },
      "source": [
        "#### Q18. validate list of email address\n",
        "\n",
        "link - https://www.hackerrank.com/challenges/validate-list-of-email-address-with-filter/problem\n"
      ]
    },
    {
      "cell_type": "code",
      "execution_count": null,
      "metadata": {
        "id": "QXmUWx1opwFQ"
      },
      "outputs": [],
      "source": [
        "\n",
        "\n",
        "\n",
        "\n",
        "\n",
        "\n",
        "\n",
        "\n",
        "\n",
        "\n"
      ]
    },
    {
      "cell_type": "markdown",
      "metadata": {
        "id": "8ezvnkw5pwFQ"
      },
      "source": [
        "#### Q19 reduce function problem\n",
        "\n",
        "link - https://www.hackerrank.com/challenges/reduce-function/problem\n"
      ]
    },
    {
      "cell_type": "code",
      "execution_count": null,
      "metadata": {
        "id": "c-6MwJkmpwFQ"
      },
      "outputs": [],
      "source": [
        "\n",
        "\n",
        "\n",
        "\n",
        "\n",
        "\n",
        "\n",
        "\n",
        "\n"
      ]
    },
    {
      "cell_type": "markdown",
      "metadata": {
        "id": "osb-yZ0FpwFR"
      },
      "source": [
        "#### Q20 collection counter problem\n",
        "\n",
        "link - https://www.hackerrank.com/challenges/collections-counter/problem\n"
      ]
    },
    {
      "cell_type": "code",
      "execution_count": null,
      "metadata": {
        "id": "VKFVJzJJpwFR"
      },
      "outputs": [],
      "source": [
        "\n",
        "\n",
        "\n",
        "\n",
        "\n",
        "\n",
        "\n",
        "\n",
        "\n",
        "\n"
      ]
    },
    {
      "cell_type": "markdown",
      "metadata": {
        "id": "4zk7nZQGpwFR"
      },
      "source": [
        "#### Q21 collections namedtuple\n",
        "\n",
        "link - https://www.hackerrank.com/challenges/py-collections-namedtuple/problem\n"
      ]
    },
    {
      "cell_type": "code",
      "execution_count": null,
      "metadata": {
        "id": "zm2iyOmCpwFS"
      },
      "outputs": [],
      "source": [
        "\n",
        "\n",
        "\n",
        "\n",
        "\n",
        "\n",
        "\n"
      ]
    },
    {
      "cell_type": "markdown",
      "metadata": {
        "id": "KtDI4ubdpwFS"
      },
      "source": [
        "#### Q22 default dict \n",
        "\n",
        "link - \n",
        "https://www.hackerrank.com/challenges/defaultdict-tutorial/problem\n"
      ]
    },
    {
      "cell_type": "code",
      "execution_count": null,
      "metadata": {
        "id": "KsUW-nZmpwFS"
      },
      "outputs": [],
      "source": [
        "\n",
        "\n",
        "\n",
        "\n",
        "\n",
        "\n",
        "\n",
        "\n"
      ]
    },
    {
      "cell_type": "markdown",
      "metadata": {
        "id": "EPcWiBxSpwFT"
      },
      "source": [
        "#### Q23 Ordered dict\n",
        "\n",
        "link - https://www.hackerrank.com/challenges/py-collections-ordereddict/problem\n"
      ]
    },
    {
      "cell_type": "code",
      "execution_count": null,
      "metadata": {
        "id": "G59LracipwFT"
      },
      "outputs": [],
      "source": [
        "\n",
        "\n",
        "\n",
        "\n",
        "\n",
        "\n",
        "\n",
        "\n"
      ]
    },
    {
      "cell_type": "markdown",
      "metadata": {
        "id": "He66o9QdpwFT"
      },
      "source": [
        "#### Q24 word order\n",
        "\n",
        "link - https://www.hackerrank.com/challenges/word-order/problem\n"
      ]
    },
    {
      "cell_type": "code",
      "execution_count": null,
      "metadata": {
        "id": "L0V_kGt-pwFU"
      },
      "outputs": [],
      "source": [
        "\n",
        "\n",
        "\n",
        "\n",
        "\n",
        "\n",
        "\n",
        "\n"
      ]
    },
    {
      "cell_type": "markdown",
      "metadata": {
        "id": "defBPbyjpwFU"
      },
      "source": [
        "#### Q25 Company logo\n",
        "\n",
        "link - https://www.hackerrank.com/challenges/most-commons/problem\n"
      ]
    },
    {
      "cell_type": "code",
      "execution_count": null,
      "metadata": {
        "id": "DfKXtDg8pwFU"
      },
      "outputs": [],
      "source": [
        "\n",
        "\n",
        "\n",
        "\n",
        "\n",
        "\n",
        "\n",
        "\n"
      ]
    },
    {
      "cell_type": "markdown",
      "metadata": {
        "id": "OL6XaVKspwFV"
      },
      "source": [
        "#### Q26 itertools product\n",
        "\n",
        "link - https://www.hackerrank.com/challenges/itertools-product/problem\n",
        " "
      ]
    },
    {
      "cell_type": "code",
      "execution_count": null,
      "metadata": {
        "id": "gULsbu0kpwFV"
      },
      "outputs": [],
      "source": [
        "\n",
        "\n",
        "\n",
        "\n",
        "\n"
      ]
    },
    {
      "cell_type": "markdown",
      "metadata": {
        "id": "df5UOeZdpwFV"
      },
      "source": [
        "#### Q27 itertools permutation\n",
        "\n",
        "link - https://www.hackerrank.com/challenges/itertools-permutations/problem\n"
      ]
    },
    {
      "cell_type": "code",
      "execution_count": null,
      "metadata": {
        "id": "bZ4ldLUFpwFV"
      },
      "outputs": [],
      "source": [
        "\n",
        "\n",
        "\n",
        "\n",
        "\n"
      ]
    },
    {
      "cell_type": "markdown",
      "metadata": {
        "id": "yjinTbQspwFW"
      },
      "source": [
        "#### Q28 itertools combination\n",
        "\n",
        "link - https://www.hackerrank.com/challenges/itertools-combinations/problem\n"
      ]
    },
    {
      "cell_type": "code",
      "execution_count": null,
      "metadata": {
        "id": "AeMAZYs0pwFW"
      },
      "outputs": [],
      "source": [
        "\n",
        "\n",
        "\n",
        "\n",
        "\n",
        "\n",
        "\n"
      ]
    },
    {
      "cell_type": "markdown",
      "metadata": {
        "id": "J1d7h8ihpwFW"
      },
      "source": [
        "#### Q29 itertools combination\n",
        "\n",
        "link - https://www.hackerrank.com/challenges/itertools-combinations-with-replacement/problem\n"
      ]
    },
    {
      "cell_type": "code",
      "execution_count": null,
      "metadata": {
        "id": "gUoyLv7fpwFX"
      },
      "outputs": [],
      "source": [
        "\n",
        "\n",
        "\n",
        "\n",
        "\n",
        "\n",
        "\n",
        "\n",
        "\n"
      ]
    },
    {
      "cell_type": "markdown",
      "metadata": {
        "id": "IEMPYPuTpwFX"
      },
      "source": [
        "#### Q30 compress the string\n",
        "\n",
        "link - https://www.hackerrank.com/challenges/compress-the-string/problem\n"
      ]
    },
    {
      "cell_type": "code",
      "execution_count": null,
      "metadata": {
        "id": "VMVEuObPpwFX"
      },
      "outputs": [],
      "source": [
        "\n",
        "\n",
        "\n",
        "\n"
      ]
    },
    {
      "cell_type": "markdown",
      "metadata": {
        "id": "3xDIJ0cspwFY"
      },
      "source": [
        "#### Q31 iterables and iterators\n",
        "\n",
        "link - https://www.hackerrank.com/challenges/iterables-and-iterators/problem\n"
      ]
    },
    {
      "cell_type": "code",
      "execution_count": null,
      "metadata": {
        "id": "YqiGJ7dgpwFY"
      },
      "outputs": [],
      "source": [
        "\n",
        "\n",
        "\n",
        "\n",
        "\n",
        "\n"
      ]
    },
    {
      "cell_type": "markdown",
      "metadata": {
        "id": "plJKFhLypwFY"
      },
      "source": [
        "#### Q32 Maximize it\n",
        "\n",
        "link - https://www.hackerrank.com/challenges/maximize-it/problem\n"
      ]
    },
    {
      "cell_type": "code",
      "execution_count": null,
      "metadata": {
        "id": "CQzPZ3LZpwFY"
      },
      "outputs": [],
      "source": [
        "\n",
        "\n",
        "\n",
        "\n",
        "\n",
        "\n"
      ]
    },
    {
      "cell_type": "markdown",
      "metadata": {
        "id": "vsvVnqcUpwFZ"
      },
      "source": [
        "---------------------------------\n",
        "\n",
        "# \"Cheers\":) Congratulations! you have completed the Python Intermediate challenge. \n",
        "\n",
        "--------------------------------\n",
        "\n",
        "# FeedBack\n",
        "We hope you’ve enjoyed this course so far. We’re committed to help you use \"AI for All\" course to its full potential, so that you have a great learning experience. And that’s why we need your help in form of a feedback here.\n",
        "\n",
        "Please fill this feedback form  https://zfrmz.in/MtRG5oWXBdesm6rmSM7N"
      ]
    }
  ],
  "metadata": {
    "kernelspec": {
      "display_name": "Python 3",
      "language": "python",
      "name": "python3"
    },
    "language_info": {
      "codemirror_mode": {
        "name": "ipython",
        "version": 3
      },
      "file_extension": ".py",
      "mimetype": "text/x-python",
      "name": "python",
      "nbconvert_exporter": "python",
      "pygments_lexer": "ipython3",
      "version": "3.8.5"
    },
    "colab": {
      "provenance": []
    }
  },
  "nbformat": 4,
  "nbformat_minor": 0
}