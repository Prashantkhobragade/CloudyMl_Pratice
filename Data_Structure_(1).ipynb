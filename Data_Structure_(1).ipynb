{
  "nbformat": 4,
  "nbformat_minor": 5,
  "metadata": {
    "kernelspec": {
      "display_name": "Python 3",
      "language": "python",
      "name": "python3"
    },
    "language_info": {
      "codemirror_mode": {
        "name": "ipython",
        "version": 3
      },
      "file_extension": ".py",
      "mimetype": "text/x-python",
      "name": "python",
      "nbconvert_exporter": "python",
      "pygments_lexer": "ipython3",
      "version": "3.7.6"
    },
    "colab": {
      "name": "Data_Structure (1).ipynb",
      "provenance": []
    }
  },
  "cells": [
    {
      "cell_type": "markdown",
      "metadata": {
        "id": "f8pItHtgkpbz"
      },
      "source": [
        "# <center> <u>Data Structures <u> </center>"
      ],
      "id": "f8pItHtgkpbz"
    },
    {
      "cell_type": "markdown",
      "metadata": {
        "id": "MWx_0nS8kpb4"
      },
      "source": [
        "## 1. Lists\n",
        "\n",
        "Reference:- https://www.youtube.com/watch?v=b3O9qI5dcHE&list=PLsR_0x6BuM-GCc3iD6OQuEZHCAtYPmZfx&index=10\n",
        "\n"
      ],
      "id": "MWx_0nS8kpb4"
    },
    {
      "cell_type": "markdown",
      "metadata": {
        "id": "UtGdnSPmkpb5"
      },
      "source": [
        "<p style='text-align: right;'> 1+1+1 = 3 points</p>\n"
      ],
      "id": "UtGdnSPmkpb5"
    },
    {
      "cell_type": "markdown",
      "metadata": {
        "id": "WAhL2Oo-kpb6"
      },
      "source": [
        "#### 1.1 Create an empty list with the name ‘a’, print the value of a and type(a).\n"
      ],
      "id": "WAhL2Oo-kpb6"
    },
    {
      "cell_type": "code",
      "metadata": {
        "id": "urx8RrG0kpb6"
      },
      "source": [
        "# create empty list, name it 'a'\n",
        "\n",
        "a = []"
      ],
      "id": "urx8RrG0kpb6",
      "execution_count": 1,
      "outputs": []
    },
    {
      "cell_type": "code",
      "metadata": {
        "id": "kfqiZLuKkpb8",
        "outputId": "c76e8473-28be-46d2-a3b0-a81da702c2ad",
        "colab": {
          "base_uri": "https://localhost:8080/"
        }
      },
      "source": [
        "# print the value of a\n",
        "\n",
        "print(a)"
      ],
      "id": "kfqiZLuKkpb8",
      "execution_count": 2,
      "outputs": [
        {
          "output_type": "stream",
          "name": "stdout",
          "text": [
            "[]\n"
          ]
        }
      ]
    },
    {
      "cell_type": "code",
      "metadata": {
        "id": "eWwP4exrkpb9",
        "outputId": "d96515c0-6b96-42d6-c6b2-c660dcc27cb3",
        "colab": {
          "base_uri": "https://localhost:8080/"
        }
      },
      "source": [
        "# print the type of a\n",
        "type(a)\n"
      ],
      "id": "eWwP4exrkpb9",
      "execution_count": 3,
      "outputs": [
        {
          "output_type": "execute_result",
          "data": {
            "text/plain": [
              "list"
            ]
          },
          "metadata": {},
          "execution_count": 3
        }
      ]
    },
    {
      "cell_type": "markdown",
      "metadata": {
        "id": "32ysMWS-kpb-"
      },
      "source": [
        "#### 1.2.Create a list , languages = ['R','Python', 'SAS', 'Scala', 42], "
      ],
      "id": "32ysMWS-kpb-"
    },
    {
      "cell_type": "markdown",
      "metadata": {
        "id": "c0kXpcXjkpb-"
      },
      "source": [
        "<p style='text-align: right;'> 1+1+1+1+1+1+1+1 = 7 points</p>\n"
      ],
      "id": "c0kXpcXjkpb-"
    },
    {
      "cell_type": "code",
      "metadata": {
        "id": "g-AO-p4Dkpb_"
      },
      "source": [
        "#code here\n",
        "languages = ['R','Python', 'SAS', 'Scala', 42]"
      ],
      "id": "g-AO-p4Dkpb_",
      "execution_count": 10,
      "outputs": []
    },
    {
      "cell_type": "markdown",
      "metadata": {
        "id": "8PF67_8SkpcA"
      },
      "source": [
        "Print the number of elements in the list"
      ],
      "id": "8PF67_8SkpcA"
    },
    {
      "cell_type": "code",
      "metadata": {
        "id": "iQGAQq9VkpcA",
        "outputId": "48194695-23f2-4a3b-9a4b-6cdc0e854346",
        "colab": {
          "base_uri": "https://localhost:8080/"
        }
      },
      "source": [
        "#code here\n",
        "print(len(languages))"
      ],
      "id": "iQGAQq9VkpcA",
      "execution_count": 11,
      "outputs": [
        {
          "output_type": "stream",
          "name": "stdout",
          "text": [
            "5\n"
          ]
        }
      ]
    },
    {
      "cell_type": "markdown",
      "metadata": {
        "id": "_9sgh2mmkpcA"
      },
      "source": [
        "Using for loop iterate and print all the elements in the list"
      ],
      "id": "_9sgh2mmkpcA"
    },
    {
      "cell_type": "code",
      "metadata": {
        "id": "-LcM7OzqkpcB",
        "outputId": "ae0653d9-f791-4d7d-d142-922c868c9778",
        "colab": {
          "base_uri": "https://localhost:8080/"
        }
      },
      "source": [
        "#code here\n",
        "for x in languages:\n",
        "  print(x)\n"
      ],
      "id": "-LcM7OzqkpcB",
      "execution_count": 15,
      "outputs": [
        {
          "output_type": "stream",
          "name": "stdout",
          "text": [
            "R\n",
            "Python\n",
            "SAS\n",
            "Scala\n",
            "42\n"
          ]
        }
      ]
    },
    {
      "cell_type": "markdown",
      "metadata": {
        "id": "jpjlH5l3kpcB"
      },
      "source": [
        "Select the second item, 'Python' and store it in a new variable named 'temp'"
      ],
      "id": "jpjlH5l3kpcB"
    },
    {
      "cell_type": "code",
      "metadata": {
        "id": "IQit1VGkkpcC",
        "colab": {
          "base_uri": "https://localhost:8080/"
        },
        "outputId": "9a298566-0a94-45a8-af75-d9619fd32d04"
      },
      "source": [
        "#code here\n",
        "temp = languages[1]\n",
        "print(temp)"
      ],
      "id": "IQit1VGkkpcC",
      "execution_count": 16,
      "outputs": [
        {
          "output_type": "stream",
          "name": "stdout",
          "text": [
            "Python\n"
          ]
        }
      ]
    },
    {
      "cell_type": "markdown",
      "metadata": {
        "id": "Ps13-taZkpcC"
      },
      "source": [
        "Print the value of temp and type(temp)"
      ],
      "id": "Ps13-taZkpcC"
    },
    {
      "cell_type": "code",
      "metadata": {
        "id": "897kqIj0kpcC",
        "outputId": "cd918703-f136-4c08-d585-b13fe24de618",
        "colab": {
          "base_uri": "https://localhost:8080/"
        }
      },
      "source": [
        "#code here\n",
        "print(temp)\n",
        "print(type(temp))\n"
      ],
      "id": "897kqIj0kpcC",
      "execution_count": 17,
      "outputs": [
        {
          "output_type": "stream",
          "name": "stdout",
          "text": [
            "Python\n",
            "<class 'str'>\n"
          ]
        }
      ]
    },
    {
      "cell_type": "markdown",
      "metadata": {
        "id": "V9f0P9zTkpcC"
      },
      "source": [
        "Using list comprehension, print the last two elemets of list"
      ],
      "id": "V9f0P9zTkpcC"
    },
    {
      "cell_type": "code",
      "metadata": {
        "id": "rZzWEtGakpcD",
        "outputId": "59854d89-0aee-476b-dbb2-e95eb8b20fcd",
        "colab": {
          "base_uri": "https://localhost:8080/"
        }
      },
      "source": [
        "# code here\n",
        "languages[-2:]"
      ],
      "id": "rZzWEtGakpcD",
      "execution_count": 21,
      "outputs": [
        {
          "output_type": "execute_result",
          "data": {
            "text/plain": [
              "['Scala', 42]"
            ]
          },
          "metadata": {},
          "execution_count": 21
        }
      ]
    },
    {
      "cell_type": "markdown",
      "metadata": {
        "id": "wWY8wHfjkpcD"
      },
      "source": [
        "Append the element 'Java' in the list"
      ],
      "id": "wWY8wHfjkpcD"
    },
    {
      "cell_type": "code",
      "metadata": {
        "id": "ig5OP9J3kpcD"
      },
      "source": [
        "#code here\n",
        "#languages.append('Java')\n",
        "#print(languages)"
      ],
      "id": "ig5OP9J3kpcD",
      "execution_count": 30,
      "outputs": []
    },
    {
      "cell_type": "code",
      "source": [
        "languages = ['R','Python', 'SAS', 'Scala', 42]"
      ],
      "metadata": {
        "id": "UyqOKZaVn2cR"
      },
      "id": "UyqOKZaVn2cR",
      "execution_count": 28,
      "outputs": []
    },
    {
      "cell_type": "code",
      "source": [
        "languages.append('Java')\n",
        "print(languages)"
      ],
      "metadata": {
        "colab": {
          "base_uri": "https://localhost:8080/"
        },
        "id": "Ql73Pd7yn7fp",
        "outputId": "1f076f85-b4e4-4b00-9e1e-4fdaaf28bb1c"
      },
      "id": "Ql73Pd7yn7fp",
      "execution_count": 29,
      "outputs": [
        {
          "output_type": "stream",
          "name": "stdout",
          "text": [
            "['R', 'Python', 'SAS', 'Scala', 42, 'Java']\n"
          ]
        }
      ]
    },
    {
      "cell_type": "markdown",
      "metadata": {
        "id": "JZF8zdS9kpcE"
      },
      "source": [
        "Remove the element 42 from the list and print the list"
      ],
      "id": "JZF8zdS9kpcE"
    },
    {
      "cell_type": "code",
      "metadata": {
        "id": "eNtarY6pkpcE"
      },
      "source": [
        "#code here\n",
        "#languages.remove(42)"
      ],
      "id": "eNtarY6pkpcE",
      "execution_count": 31,
      "outputs": []
    },
    {
      "cell_type": "code",
      "source": [
        "#code here\n",
        "languages.remove(42)\n",
        "print(languages)\n"
      ],
      "metadata": {
        "colab": {
          "base_uri": "https://localhost:8080/"
        },
        "id": "5yWvA7u0oJN1",
        "outputId": "f91f6c1e-ad80-4759-fa18-49eb7e9af6be"
      },
      "id": "5yWvA7u0oJN1",
      "execution_count": 32,
      "outputs": [
        {
          "output_type": "stream",
          "name": "stdout",
          "text": [
            "['R', 'Python', 'SAS', 'Scala', 'Java']\n"
          ]
        }
      ]
    },
    {
      "cell_type": "markdown",
      "metadata": {
        "id": "BtIptPlokpcF"
      },
      "source": [
        "#### 1.3. Create a list, colors = [‘Red’, ‘Blue’, ‘White’]"
      ],
      "id": "BtIptPlokpcF"
    },
    {
      "cell_type": "markdown",
      "metadata": {
        "id": "_zlfG-a3kpcF"
      },
      "source": [
        "<p style='text-align: right;'> 1+1+1+1+1+1+1 = 6 points</p>\n"
      ],
      "id": "_zlfG-a3kpcF"
    },
    {
      "cell_type": "code",
      "metadata": {
        "id": "SgKuIBIGkpcF"
      },
      "source": [
        "#code here\n",
        "colors = ['Red','Blue','White']"
      ],
      "id": "SgKuIBIGkpcF",
      "execution_count": 41,
      "outputs": []
    },
    {
      "cell_type": "markdown",
      "metadata": {
        "id": "MF0M4NlqkpcF"
      },
      "source": [
        "Append the element 'Black' to colors"
      ],
      "id": "MF0M4NlqkpcF"
    },
    {
      "cell_type": "code",
      "metadata": {
        "id": "rqwFPHBOkpcF",
        "colab": {
          "base_uri": "https://localhost:8080/"
        },
        "outputId": "bcd76a37-4d72-47a9-9909-e9f290cce057"
      },
      "source": [
        "#code here\n",
        "colors.append('Black')\n",
        "print(colors)"
      ],
      "id": "rqwFPHBOkpcF",
      "execution_count": 42,
      "outputs": [
        {
          "output_type": "stream",
          "name": "stdout",
          "text": [
            "['Red', 'Blue', 'White', 'Black']\n"
          ]
        }
      ]
    },
    {
      "cell_type": "markdown",
      "metadata": {
        "id": "fyBKDowJkpcG"
      },
      "source": [
        "Append the color 'Orange' to second position (index=1) and print the list"
      ],
      "id": "fyBKDowJkpcG"
    },
    {
      "cell_type": "code",
      "metadata": {
        "id": "Uu-VWRHLkpcG",
        "colab": {
          "base_uri": "https://localhost:8080/"
        },
        "outputId": "5afc6cb1-2f24-4e58-b793-386dc9fd91b6"
      },
      "source": [
        "# code here\n",
        "colors.insert(1,'Orange')\n",
        "print(colors)"
      ],
      "id": "Uu-VWRHLkpcG",
      "execution_count": 43,
      "outputs": [
        {
          "output_type": "stream",
          "name": "stdout",
          "text": [
            "['Red', 'Orange', 'Blue', 'White', 'Black']\n"
          ]
        }
      ]
    },
    {
      "cell_type": "markdown",
      "metadata": {
        "id": "uwSMx8qGkpcG"
      },
      "source": [
        "Print the list\n"
      ],
      "id": "uwSMx8qGkpcG"
    },
    {
      "cell_type": "code",
      "metadata": {
        "id": "Pgi-1ValkpcG",
        "outputId": "c6dcaa1d-64d7-47cb-99ed-86ce0abd54ff",
        "colab": {
          "base_uri": "https://localhost:8080/"
        }
      },
      "source": [
        "# code here\n",
        "print(colors)"
      ],
      "id": "Pgi-1ValkpcG",
      "execution_count": 44,
      "outputs": [
        {
          "output_type": "stream",
          "name": "stdout",
          "text": [
            "['Red', 'Orange', 'Blue', 'White', 'Black']\n"
          ]
        }
      ]
    },
    {
      "cell_type": "markdown",
      "metadata": {
        "id": "hpe93njnkpcG"
      },
      "source": [
        "Create another list, colors2 = [‘Grey’, ‘Sky Blue’]"
      ],
      "id": "hpe93njnkpcG"
    },
    {
      "cell_type": "code",
      "metadata": {
        "id": "9oSBcKnOkpcG"
      },
      "source": [
        "# code here\n",
        "colors2 = ['Grey','Sky Blue']"
      ],
      "id": "9oSBcKnOkpcG",
      "execution_count": 45,
      "outputs": []
    },
    {
      "cell_type": "markdown",
      "metadata": {
        "id": "DS86K9h5kpcH"
      },
      "source": [
        "Add the elements of colors2 to colors using extend function in the list"
      ],
      "id": "DS86K9h5kpcH"
    },
    {
      "cell_type": "code",
      "metadata": {
        "id": "YHcLi8sXkpcH",
        "colab": {
          "base_uri": "https://localhost:8080/"
        },
        "outputId": "9003e67c-7a03-4a5a-cb72-b5bdc342418e"
      },
      "source": [
        "#code here\n",
        "colors.extend(colors2)\n",
        "print(colors)"
      ],
      "id": "YHcLi8sXkpcH",
      "execution_count": 46,
      "outputs": [
        {
          "output_type": "stream",
          "name": "stdout",
          "text": [
            "['Red', 'Orange', 'Blue', 'White', 'Black', 'Grey', 'Sky Blue']\n"
          ]
        }
      ]
    },
    {
      "cell_type": "markdown",
      "metadata": {
        "id": "9b4UNCk2kpcH"
      },
      "source": [
        "Print len of colors and its elements"
      ],
      "id": "9b4UNCk2kpcH"
    },
    {
      "cell_type": "code",
      "metadata": {
        "id": "9CpE1EdkkpcH",
        "outputId": "fd55f347-9060-4372-c91a-c3bfb76bc095",
        "colab": {
          "base_uri": "https://localhost:8080/"
        }
      },
      "source": [
        "# code here\n",
        "print(len(colors))\n"
      ],
      "id": "9CpE1EdkkpcH",
      "execution_count": 47,
      "outputs": [
        {
          "output_type": "stream",
          "name": "stdout",
          "text": [
            "7\n"
          ]
        }
      ]
    },
    {
      "cell_type": "markdown",
      "metadata": {
        "id": "JyoPvYVDkpcI"
      },
      "source": [
        "Sort the list and print it."
      ],
      "id": "JyoPvYVDkpcI"
    },
    {
      "cell_type": "code",
      "source": [
        "# code here\n",
        "colors.sort()"
      ],
      "metadata": {
        "id": "ojX3hul4qwKU"
      },
      "id": "ojX3hul4qwKU",
      "execution_count": 49,
      "outputs": []
    },
    {
      "cell_type": "code",
      "source": [
        "print(colors)"
      ],
      "metadata": {
        "colab": {
          "base_uri": "https://localhost:8080/"
        },
        "id": "MxYxkH8Dq493",
        "outputId": "d9183d78-ffaf-4c07-a312-4937135ccfd8"
      },
      "id": "MxYxkH8Dq493",
      "execution_count": 50,
      "outputs": [
        {
          "output_type": "stream",
          "name": "stdout",
          "text": [
            "['Black', 'Blue', 'Grey', 'Orange', 'Red', 'Sky Blue', 'White']\n"
          ]
        }
      ]
    },
    {
      "cell_type": "markdown",
      "metadata": {
        "id": "KisfdajdkpcI"
      },
      "source": [
        "#### 1.4. Create a string, sent = ‘Coronavirus Caused Lockdowns Around The World.”"
      ],
      "id": "KisfdajdkpcI"
    },
    {
      "cell_type": "markdown",
      "metadata": {
        "id": "CJkrVqh8kpcI"
      },
      "source": [
        "<p style='text-align: right;'> 7 points</p>\n"
      ],
      "id": "CJkrVqh8kpcI"
    },
    {
      "cell_type": "code",
      "metadata": {
        "id": "brkLITSLkpcI",
        "colab": {
          "base_uri": "https://localhost:8080/"
        },
        "outputId": "44a91f71-ff7f-4d23-9fe8-269a993a6b1f"
      },
      "source": [
        "# code here\n",
        "sent = \"Coronavirus Caused Lockdowns Around The World.\"\n",
        "print(sent)"
      ],
      "id": "brkLITSLkpcI",
      "execution_count": 60,
      "outputs": [
        {
          "output_type": "stream",
          "name": "stdout",
          "text": [
            "Coronavirus Caused Lockdowns Around The World.\n"
          ]
        }
      ]
    },
    {
      "cell_type": "markdown",
      "metadata": {
        "id": "th_r4MyCkpcJ"
      },
      "source": [
        "Use split function to convert the string into a list of words and save it in variable words and print the same"
      ],
      "id": "th_r4MyCkpcJ"
    },
    {
      "cell_type": "code",
      "metadata": {
        "id": "DiLl93wrkpcJ",
        "outputId": "bb919b9e-0792-45fe-d3f9-e20651f0ca75",
        "colab": {
          "base_uri": "https://localhost:8080/"
        }
      },
      "source": [
        "# code here\n",
        "words = sent.split()\n",
        "print(words)"
      ],
      "id": "DiLl93wrkpcJ",
      "execution_count": 61,
      "outputs": [
        {
          "output_type": "stream",
          "name": "stdout",
          "text": [
            "['Coronavirus', 'Caused', 'Lockdowns', 'Around', 'The', 'World.']\n"
          ]
        }
      ]
    },
    {
      "cell_type": "markdown",
      "metadata": {
        "id": "c-EXQ-3YkpcJ"
      },
      "source": [
        "Using list comprehensions, convert each word in the list to lower case and store it in variable words_lower. \n",
        "Print words_lower"
      ],
      "id": "c-EXQ-3YkpcJ"
    },
    {
      "cell_type": "code",
      "metadata": {
        "id": "qu9Wy0ORkpcJ",
        "outputId": "fea3d655-be14-4b4f-a31d-04ba035741e8",
        "colab": {
          "base_uri": "https://localhost:8080/"
        }
      },
      "source": [
        "# code here\n",
        "words_lower = [w.lower() for w in words]\n",
        "print(words_lower)"
      ],
      "id": "qu9Wy0ORkpcJ",
      "execution_count": 62,
      "outputs": [
        {
          "output_type": "stream",
          "name": "stdout",
          "text": [
            "['coronavirus', 'caused', 'lockdowns', 'around', 'the', 'world.']\n"
          ]
        }
      ]
    },
    {
      "cell_type": "markdown",
      "metadata": {
        "id": "6QbDnP8-kpcJ"
      },
      "source": [
        "Check whether ‘country’ is in the list"
      ],
      "id": "6QbDnP8-kpcJ"
    },
    {
      "cell_type": "code",
      "metadata": {
        "id": "pbj4S06jkpcJ",
        "outputId": "01731fd9-f359-4d99-d14b-d5fff5ddc93d",
        "colab": {
          "base_uri": "https://localhost:8080/"
        }
      },
      "source": [
        "# code here\n",
        "if ('country' in words_lower):\n",
        "  print(\"True\")\n",
        "else:\n",
        "  print(\"False\")"
      ],
      "id": "pbj4S06jkpcJ",
      "execution_count": 64,
      "outputs": [
        {
          "output_type": "stream",
          "name": "stdout",
          "text": [
            "False\n"
          ]
        }
      ]
    },
    {
      "cell_type": "markdown",
      "metadata": {
        "id": "-5bXQCY-kpcK"
      },
      "source": [
        "Remove the element ‘the’ from the list and print the list."
      ],
      "id": "-5bXQCY-kpcK"
    },
    {
      "cell_type": "code",
      "metadata": {
        "id": "TZ3w3rTNkpcK",
        "outputId": "4e413f05-f1af-48af-dad9-75ffbf342794",
        "colab": {
          "base_uri": "https://localhost:8080/"
        }
      },
      "source": [
        "# code here\n",
        "words_lower.remove('the')\n",
        "print(words_lower)"
      ],
      "id": "TZ3w3rTNkpcK",
      "execution_count": 65,
      "outputs": [
        {
          "output_type": "stream",
          "name": "stdout",
          "text": [
            "['coronavirus', 'caused', 'lockdowns', 'around', 'world.']\n"
          ]
        }
      ]
    },
    {
      "cell_type": "markdown",
      "metadata": {
        "id": "K2urIMaHkpcK"
      },
      "source": [
        "Select the first 4 words from the list words_lower using slicing and store them in a new variable x4"
      ],
      "id": "K2urIMaHkpcK"
    },
    {
      "cell_type": "code",
      "metadata": {
        "id": "hl9uTlnHkpcK"
      },
      "source": [
        "#code here\n",
        "x4 = words_lower[:4]\n"
      ],
      "id": "hl9uTlnHkpcK",
      "execution_count": 66,
      "outputs": []
    },
    {
      "cell_type": "code",
      "metadata": {
        "id": "ATxw84QokpcK",
        "outputId": "d91df7e6-ebcb-4f17-b230-e53b9edd4fe7",
        "colab": {
          "base_uri": "https://localhost:8080/"
        }
      },
      "source": [
        "# print x4\n",
        "print(x4)"
      ],
      "id": "ATxw84QokpcK",
      "execution_count": 67,
      "outputs": [
        {
          "output_type": "stream",
          "name": "stdout",
          "text": [
            "['coronavirus', 'caused', 'lockdowns', 'around']\n"
          ]
        }
      ]
    },
    {
      "cell_type": "markdown",
      "metadata": {
        "id": "40lbSur2kpcL"
      },
      "source": [
        "Convert the list of elements to single string using join function and print it"
      ],
      "id": "40lbSur2kpcL"
    },
    {
      "cell_type": "code",
      "metadata": {
        "id": "oeN_Eyb1kpcL",
        "outputId": "8473fc21-483b-4dc5-b1da-e4de9e3fcb52",
        "colab": {
          "base_uri": "https://localhost:8080/"
        }
      },
      "source": [
        "#code here\n",
        "print(''.join(x4))"
      ],
      "id": "oeN_Eyb1kpcL",
      "execution_count": 68,
      "outputs": [
        {
          "output_type": "stream",
          "name": "stdout",
          "text": [
            "coronaviruscausedlockdownsaround\n"
          ]
        }
      ]
    },
    {
      "cell_type": "markdown",
      "metadata": {
        "id": "XlViORgBkpcL"
      },
      "source": [
        "## 2. Sets\n",
        "\n",
        "Reference:-https://www.youtube.com/watch?v=B7dPo44o5jA&list=PLsR_0x6BuM-GCc3iD6OQuEZHCAtYPmZfx&index=12\n"
      ],
      "id": "XlViORgBkpcL"
    },
    {
      "cell_type": "markdown",
      "metadata": {
        "id": "cGgxZPVhkpcL"
      },
      "source": [
        "#### 2.1. Create stud_grades = ['A','A','B','C','C','F']"
      ],
      "id": "cGgxZPVhkpcL"
    },
    {
      "cell_type": "markdown",
      "metadata": {
        "id": "vSfGcxrCkpcL"
      },
      "source": [
        "<p style='text-align: right;'> 7 points</p>\n"
      ],
      "id": "vSfGcxrCkpcL"
    },
    {
      "cell_type": "code",
      "metadata": {
        "id": "AszrelvIkpcL"
      },
      "source": [
        "#code here\n",
        "stud_grades = ['A','A','B','C','C','F']\n"
      ],
      "id": "AszrelvIkpcL",
      "execution_count": 69,
      "outputs": []
    },
    {
      "cell_type": "markdown",
      "metadata": {
        "id": "JbdWSm2EkpcM"
      },
      "source": [
        "Print the len of stud_grades"
      ],
      "id": "JbdWSm2EkpcM"
    },
    {
      "cell_type": "code",
      "metadata": {
        "id": "FJwWPNlckpcM",
        "outputId": "ad34cc89-1869-44b5-bd9b-b4f8ae774e65",
        "colab": {
          "base_uri": "https://localhost:8080/"
        }
      },
      "source": [
        "#code here\n",
        "print(len(stud_grades))"
      ],
      "id": "FJwWPNlckpcM",
      "execution_count": 70,
      "outputs": [
        {
          "output_type": "stream",
          "name": "stdout",
          "text": [
            "6\n"
          ]
        }
      ]
    },
    {
      "cell_type": "markdown",
      "metadata": {
        "id": "syIycmhykpcM"
      },
      "source": [
        "Create a new variable, stud_grades_set = set(stud_grades)"
      ],
      "id": "syIycmhykpcM"
    },
    {
      "cell_type": "code",
      "metadata": {
        "id": "h49VnI1MkpcM"
      },
      "source": [
        "#code here\n",
        "stud_grades_set = set(stud_grades)"
      ],
      "id": "h49VnI1MkpcM",
      "execution_count": 71,
      "outputs": []
    },
    {
      "cell_type": "markdown",
      "metadata": {
        "id": "AHG7h5i3kpcM"
      },
      "source": [
        "Print stud_grades_set. "
      ],
      "id": "AHG7h5i3kpcM"
    },
    {
      "cell_type": "code",
      "metadata": {
        "id": "qDZaqBhKkpcN",
        "outputId": "4af38d11-c7d5-4d34-e1fd-978610ac0d62",
        "colab": {
          "base_uri": "https://localhost:8080/"
        }
      },
      "source": [
        "#code here\n",
        "print(stud_grades_set)\n"
      ],
      "id": "qDZaqBhKkpcN",
      "execution_count": 72,
      "outputs": [
        {
          "output_type": "stream",
          "name": "stdout",
          "text": [
            "{'A', 'B', 'C', 'F'}\n"
          ]
        }
      ]
    },
    {
      "cell_type": "markdown",
      "metadata": {
        "id": "Sniw3TCxkpcN"
      },
      "source": [
        "print the type of stud_grades and stud_grades_set and print their corresponding elements. Try to understand the difference between them."
      ],
      "id": "Sniw3TCxkpcN"
    },
    {
      "cell_type": "code",
      "metadata": {
        "id": "Ur2RvyqykpcN",
        "outputId": "beba5674-ed74-4a93-f8e8-dc1936ea3c2f",
        "colab": {
          "base_uri": "https://localhost:8080/"
        }
      },
      "source": [
        "#code here\n",
        "print(type(stud_grades))\n",
        "print(stud_grades)\n",
        "print(type(stud_grades_set))\n",
        "print(stud_grades_set)\n"
      ],
      "id": "Ur2RvyqykpcN",
      "execution_count": 73,
      "outputs": [
        {
          "output_type": "stream",
          "name": "stdout",
          "text": [
            "<class 'list'>\n",
            "['A', 'A', 'B', 'C', 'C', 'F']\n",
            "<class 'set'>\n",
            "{'A', 'B', 'C', 'F'}\n"
          ]
        }
      ]
    },
    {
      "cell_type": "markdown",
      "metadata": {
        "id": "Ppd3J-N1kpcN"
      },
      "source": [
        "Add a new element ‘G’ to stud_grades_set"
      ],
      "id": "Ppd3J-N1kpcN"
    },
    {
      "cell_type": "code",
      "metadata": {
        "id": "8hGYh9PEkpcN"
      },
      "source": [
        "#code here\n",
        "stud_grades_set.add('G')\n"
      ],
      "id": "8hGYh9PEkpcN",
      "execution_count": 74,
      "outputs": []
    },
    {
      "cell_type": "markdown",
      "metadata": {
        "id": "1Osvv21ekpcO"
      },
      "source": [
        "Add element 'F' to stud_grades_set. and print it."
      ],
      "id": "1Osvv21ekpcO"
    },
    {
      "cell_type": "code",
      "metadata": {
        "id": "Dd3eD4AgkpcO",
        "outputId": "396508f2-dc3d-4900-e71f-549eed350c97",
        "colab": {
          "base_uri": "https://localhost:8080/"
        }
      },
      "source": [
        "#code here\n",
        "\n",
        "stud_grades_set.add('F')\n",
        "print(stud_grades_set)"
      ],
      "id": "Dd3eD4AgkpcO",
      "execution_count": 75,
      "outputs": [
        {
          "output_type": "stream",
          "name": "stdout",
          "text": [
            "{'A', 'B', 'C', 'F', 'G'}\n"
          ]
        }
      ]
    },
    {
      "cell_type": "markdown",
      "metadata": {
        "id": "XClNoELikpcO"
      },
      "source": [
        "!!Did you notice? set doesn't add an element if it's already present in it, unlike lists."
      ],
      "id": "XClNoELikpcO"
    },
    {
      "cell_type": "markdown",
      "metadata": {
        "id": "A_9hFH6mkpcO"
      },
      "source": [
        "Remove ‘F’ from stud_grades_set"
      ],
      "id": "A_9hFH6mkpcO"
    },
    {
      "cell_type": "code",
      "metadata": {
        "id": "34ybEoh0kpcO"
      },
      "source": [
        "#code here\n",
        "stud_grades_set.remove('F')\n"
      ],
      "id": "34ybEoh0kpcO",
      "execution_count": 76,
      "outputs": []
    },
    {
      "cell_type": "markdown",
      "metadata": {
        "id": "FhW3HjejkpcO"
      },
      "source": [
        "Print the elements and the length of stud_grades_set"
      ],
      "id": "FhW3HjejkpcO"
    },
    {
      "cell_type": "code",
      "metadata": {
        "id": "PXFnKWdQkpcO",
        "outputId": "a24518e7-00c6-4b13-fa6f-4dcc2bd72a24",
        "colab": {
          "base_uri": "https://localhost:8080/"
        }
      },
      "source": [
        "#code here\n",
        "print(stud_grades_set)\n",
        "print(len(stud_grades_set))\n"
      ],
      "id": "PXFnKWdQkpcO",
      "execution_count": 77,
      "outputs": [
        {
          "output_type": "stream",
          "name": "stdout",
          "text": [
            "{'A', 'B', 'C', 'G'}\n",
            "4\n"
          ]
        }
      ]
    },
    {
      "cell_type": "markdown",
      "metadata": {
        "id": "N2f4etZWkpcP"
      },
      "source": [
        "#### 2.2. Create colors = [‘red’,’blue’,’orange’], and fruits = [‘orange’,’grapes’,’apples’] "
      ],
      "id": "N2f4etZWkpcP"
    },
    {
      "cell_type": "markdown",
      "metadata": {
        "id": "mtF1BdJ8kpcP"
      },
      "source": [
        "<p style='text-align: right;'> 6 points</p>\n"
      ],
      "id": "mtF1BdJ8kpcP"
    },
    {
      "cell_type": "code",
      "metadata": {
        "id": "58z0CT--kpcP"
      },
      "source": [
        "#code here\n",
        "colors = ['red','blue','orange']\n",
        "fruits = ['orange','grapes','apples']\n"
      ],
      "id": "58z0CT--kpcP",
      "execution_count": 78,
      "outputs": []
    },
    {
      "cell_type": "markdown",
      "metadata": {
        "id": "3uQeGFjOkpcP"
      },
      "source": [
        "Print color and fruits"
      ],
      "id": "3uQeGFjOkpcP"
    },
    {
      "cell_type": "code",
      "metadata": {
        "id": "IasMF-J8kpcP",
        "outputId": "2df1d774-c0c1-4aaa-9b90-082c21d252cb",
        "colab": {
          "base_uri": "https://localhost:8080/"
        }
      },
      "source": [
        "#code here\n",
        "print(colors)\n",
        "print(fruits)"
      ],
      "id": "IasMF-J8kpcP",
      "execution_count": 79,
      "outputs": [
        {
          "output_type": "stream",
          "name": "stdout",
          "text": [
            "['red', 'blue', 'orange']\n",
            "['orange', 'grapes', 'apples']\n"
          ]
        }
      ]
    },
    {
      "cell_type": "markdown",
      "metadata": {
        "id": "MmbSJxhnkpcP"
      },
      "source": [
        "Create colors_set, and fruits_set. (using set() ) and print them"
      ],
      "id": "MmbSJxhnkpcP"
    },
    {
      "cell_type": "code",
      "metadata": {
        "id": "T46Fv-zGkpcP",
        "outputId": "7399fb0a-39d3-4707-b3fd-416264d7befe",
        "colab": {
          "base_uri": "https://localhost:8080/"
        }
      },
      "source": [
        "#code here\n",
        "colors_set = set(colors)\n",
        "fruits_set = set(fruits)\n",
        "print(colors_set)\n",
        "print(fruits_set)"
      ],
      "id": "T46Fv-zGkpcP",
      "execution_count": 80,
      "outputs": [
        {
          "output_type": "stream",
          "name": "stdout",
          "text": [
            "{'blue', 'red', 'orange'}\n",
            "{'apples', 'grapes', 'orange'}\n"
          ]
        }
      ]
    },
    {
      "cell_type": "markdown",
      "metadata": {
        "id": "I6A0suaSkpcQ"
      },
      "source": [
        "Find the union of both the sets."
      ],
      "id": "I6A0suaSkpcQ"
    },
    {
      "cell_type": "code",
      "metadata": {
        "id": "JDt7qEwTkpcQ",
        "outputId": "0cfa516f-1b43-47d4-83a5-3efbc5c0b94a",
        "colab": {
          "base_uri": "https://localhost:8080/"
        }
      },
      "source": [
        "#code here\n",
        "print(colors_set.union(fruits_set))\n"
      ],
      "id": "JDt7qEwTkpcQ",
      "execution_count": 81,
      "outputs": [
        {
          "output_type": "stream",
          "name": "stdout",
          "text": [
            "{'red', 'grapes', 'apples', 'blue', 'orange'}\n"
          ]
        }
      ]
    },
    {
      "cell_type": "markdown",
      "metadata": {
        "id": "bZZhTj5PkpcQ"
      },
      "source": [
        "Find the intersection of both the sets "
      ],
      "id": "bZZhTj5PkpcQ"
    },
    {
      "cell_type": "code",
      "metadata": {
        "id": "rfZTJlvKkpcQ",
        "outputId": "9c5b3cd8-d32e-4c0e-dbb2-7a591bb15ece",
        "colab": {
          "base_uri": "https://localhost:8080/"
        }
      },
      "source": [
        "#code here\n",
        "print(colors_set.intersection(fruits_set))\n"
      ],
      "id": "rfZTJlvKkpcQ",
      "execution_count": 82,
      "outputs": [
        {
          "output_type": "stream",
          "name": "stdout",
          "text": [
            "{'orange'}\n"
          ]
        }
      ]
    },
    {
      "cell_type": "markdown",
      "metadata": {
        "id": "vmFkc4sXkpcR"
      },
      "source": [
        "Find the elements which are Fruits but not colors (using set.difference() )"
      ],
      "id": "vmFkc4sXkpcR"
    },
    {
      "cell_type": "code",
      "metadata": {
        "id": "UAE5Flv_kpcR",
        "outputId": "abc4b57e-7f86-478d-d8a0-c3bb3d79a041",
        "colab": {
          "base_uri": "https://localhost:8080/"
        }
      },
      "source": [
        "#code here\n",
        "print(fruits_set.difference(colors_set))\n"
      ],
      "id": "UAE5Flv_kpcR",
      "execution_count": 83,
      "outputs": [
        {
          "output_type": "stream",
          "name": "stdout",
          "text": [
            "{'apples', 'grapes'}\n"
          ]
        }
      ]
    },
    {
      "cell_type": "markdown",
      "metadata": {
        "id": "DivF-svekpcR"
      },
      "source": [
        "## 3. TUPLES\n",
        "\n",
        "Reference:-https://www.youtube.com/watch?v=aMGPLCzTvmE&list=PLsR_0x6BuM-GCc3iD6OQuEZHCAtYPmZfx&index=11\n"
      ],
      "id": "DivF-svekpcR"
    },
    {
      "cell_type": "markdown",
      "metadata": {
        "id": "1Amd7ICHkpcR"
      },
      "source": [
        "#### 3.1 . Create temp = [17, ’Virat’, 50.0]"
      ],
      "id": "1Amd7ICHkpcR"
    },
    {
      "cell_type": "markdown",
      "metadata": {
        "id": "dgG43IiWkpcR"
      },
      "source": [
        "<p style='text-align: right;'> 7 points</p>\n"
      ],
      "id": "dgG43IiWkpcR"
    },
    {
      "cell_type": "code",
      "metadata": {
        "id": "pCj4RYxPkpcR"
      },
      "source": [
        "#code here\n",
        "temp = [17, 'Virat', 50.0]\n",
        "\n"
      ],
      "id": "pCj4RYxPkpcR",
      "execution_count": 84,
      "outputs": []
    },
    {
      "cell_type": "markdown",
      "metadata": {
        "id": "vYVDWU0mkpcS"
      },
      "source": [
        "Iterate through temp and print all the items in temp"
      ],
      "id": "vYVDWU0mkpcS"
    },
    {
      "cell_type": "code",
      "metadata": {
        "id": "Abcx7FsQkpcS",
        "outputId": "47d8ecaf-7142-42f3-ed80-932bb8df0e60",
        "colab": {
          "base_uri": "https://localhost:8080/"
        }
      },
      "source": [
        "#code here\n",
        "for i in temp:\n",
        "  print(i)\n",
        "\n"
      ],
      "id": "Abcx7FsQkpcS",
      "execution_count": 85,
      "outputs": [
        {
          "output_type": "stream",
          "name": "stdout",
          "text": [
            "17\n",
            "Virat\n",
            "50.0\n"
          ]
        }
      ]
    },
    {
      "cell_type": "markdown",
      "metadata": {
        "id": "H8IYduIMkpcS"
      },
      "source": [
        "replace first element with 11 in temp"
      ],
      "id": "H8IYduIMkpcS"
    },
    {
      "cell_type": "code",
      "source": [
        "temp = [17, 'Virat', 50.0]\n",
        "temp[0] = 11\n",
        "print(temp)\n"
      ],
      "metadata": {
        "colab": {
          "base_uri": "https://localhost:8080/"
        },
        "id": "lswnr85S50Z1",
        "outputId": "b049c037-67d4-4801-d26e-67ad0e74add2"
      },
      "id": "lswnr85S50Z1",
      "execution_count": 89,
      "outputs": [
        {
          "output_type": "stream",
          "name": "stdout",
          "text": [
            "[11, 'Virat', 50.0]\n"
          ]
        }
      ]
    },
    {
      "cell_type": "markdown",
      "metadata": {
        "id": "L65Zu5JOkpcS"
      },
      "source": [
        "Set temp1 = tuple(temp)"
      ],
      "id": "L65Zu5JOkpcS"
    },
    {
      "cell_type": "code",
      "metadata": {
        "id": "Lf_crs_FkpcS"
      },
      "source": [
        "#code here\n",
        "temp1 = tuple(temp)\n"
      ],
      "id": "Lf_crs_FkpcS",
      "execution_count": 90,
      "outputs": []
    },
    {
      "cell_type": "markdown",
      "metadata": {
        "id": "W0_KvKjIkpcT"
      },
      "source": [
        "Iterate through temp1 and print all the items in temp1. "
      ],
      "id": "W0_KvKjIkpcT"
    },
    {
      "cell_type": "code",
      "metadata": {
        "id": "6GEPWeoAkpcT",
        "outputId": "af0bcab9-e917-457d-ce19-51f4bd6cd250",
        "colab": {
          "base_uri": "https://localhost:8080/"
        }
      },
      "source": [
        "#code here\n",
        "for i in temp1:\n",
        "  print(i)\n"
      ],
      "id": "6GEPWeoAkpcT",
      "execution_count": 91,
      "outputs": [
        {
          "output_type": "stream",
          "name": "stdout",
          "text": [
            "11\n",
            "Virat\n",
            "50.0\n"
          ]
        }
      ]
    },
    {
      "cell_type": "markdown",
      "metadata": {
        "id": "f9d9LXh8kpcU"
      },
      "source": [
        "replace first element with 17 in temp1"
      ],
      "id": "f9d9LXh8kpcU"
    },
    {
      "cell_type": "code",
      "metadata": {
        "id": "1IkxeChfkpcU",
        "outputId": "636842bc-51a9-4fc1-b019-47285e8999bc",
        "colab": {
          "base_uri": "https://localhost:8080/",
          "height": 200
        }
      },
      "source": [
        "#code here\n",
        "temp1[0] = 17\n",
        "print(temp1)"
      ],
      "id": "1IkxeChfkpcU",
      "execution_count": 92,
      "outputs": [
        {
          "output_type": "error",
          "ename": "TypeError",
          "evalue": "ignored",
          "traceback": [
            "\u001b[0;31m---------------------------------------------------------------------------\u001b[0m",
            "\u001b[0;31mTypeError\u001b[0m                                 Traceback (most recent call last)",
            "\u001b[0;32m<ipython-input-92-3da8f4f644c5>\u001b[0m in \u001b[0;36m<module>\u001b[0;34m\u001b[0m\n\u001b[1;32m      1\u001b[0m \u001b[0;31m#code here\u001b[0m\u001b[0;34m\u001b[0m\u001b[0;34m\u001b[0m\u001b[0;34m\u001b[0m\u001b[0m\n\u001b[0;32m----> 2\u001b[0;31m \u001b[0mtemp1\u001b[0m\u001b[0;34m[\u001b[0m\u001b[0;36m0\u001b[0m\u001b[0;34m]\u001b[0m \u001b[0;34m=\u001b[0m \u001b[0;36m17\u001b[0m\u001b[0;34m\u001b[0m\u001b[0;34m\u001b[0m\u001b[0m\n\u001b[0m\u001b[1;32m      3\u001b[0m \u001b[0mprint\u001b[0m\u001b[0;34m(\u001b[0m\u001b[0mtemp1\u001b[0m\u001b[0;34m)\u001b[0m\u001b[0;34m\u001b[0m\u001b[0;34m\u001b[0m\u001b[0m\n",
            "\u001b[0;31mTypeError\u001b[0m: 'tuple' object does not support item assignment"
          ]
        }
      ]
    },
    {
      "cell_type": "markdown",
      "metadata": {
        "id": "YEFosZa1kpcV"
      },
      "source": [
        "<b>Oops!! You got an error. Hey Don't worry! Its because Once a tuple is created, you cannot change its values unlike list.</b>"
      ],
      "id": "YEFosZa1kpcV"
    },
    {
      "cell_type": "markdown",
      "metadata": {
        "id": "ykhpKlS8kpcV"
      },
      "source": [
        "#### 3.2 . Create city = (\"Bangalore\", 28.9949521, 72)"
      ],
      "id": "ykhpKlS8kpcV"
    },
    {
      "cell_type": "markdown",
      "metadata": {
        "id": "ODAigBgXkpcV"
      },
      "source": [
        "<p style='text-align: right;'> 6 points</p>\n"
      ],
      "id": "ODAigBgXkpcV"
    },
    {
      "cell_type": "code",
      "metadata": {
        "id": "WgGXPbe1kpcW"
      },
      "source": [
        "#code here\n",
        "city = (\"Bangalore\", 28.9949521, 72)\n"
      ],
      "id": "WgGXPbe1kpcW",
      "execution_count": 93,
      "outputs": []
    },
    {
      "cell_type": "markdown",
      "metadata": {
        "id": "DWPnWxz5kpcW"
      },
      "source": [
        "Print first element of city"
      ],
      "id": "DWPnWxz5kpcW"
    },
    {
      "cell_type": "code",
      "metadata": {
        "id": "dA6KeViMkpcW",
        "outputId": "8969034b-fea3-4ce9-8534-9c07560cb3e0",
        "colab": {
          "base_uri": "https://localhost:8080/",
          "height": 36
        }
      },
      "source": [
        "#code here\n",
        "city[0]\n"
      ],
      "id": "dA6KeViMkpcW",
      "execution_count": 94,
      "outputs": [
        {
          "output_type": "execute_result",
          "data": {
            "text/plain": [
              "'Bangalore'"
            ],
            "application/vnd.google.colaboratory.intrinsic+json": {
              "type": "string"
            }
          },
          "metadata": {},
          "execution_count": 94
        }
      ]
    },
    {
      "cell_type": "markdown",
      "metadata": {
        "id": "pbsNXIF8kpcW"
      },
      "source": [
        "Create city2 = (‘Chennai’, 30.01, 74)"
      ],
      "id": "pbsNXIF8kpcW"
    },
    {
      "cell_type": "code",
      "metadata": {
        "id": "WUTjcdxJkpcW"
      },
      "source": [
        "#code here\n",
        "city2 = ('Chennai', 30.01, 74)\n"
      ],
      "id": "WUTjcdxJkpcW",
      "execution_count": 96,
      "outputs": []
    },
    {
      "cell_type": "markdown",
      "metadata": {
        "id": "3Dj0etmhkpcX"
      },
      "source": [
        "Create cities which consist of city and city2"
      ],
      "id": "3Dj0etmhkpcX"
    },
    {
      "cell_type": "code",
      "metadata": {
        "id": "fRwK84MzkpcX"
      },
      "source": [
        "#code here\n",
        "\n",
        "cities = ((city) + (city2))"
      ],
      "id": "fRwK84MzkpcX",
      "execution_count": 99,
      "outputs": []
    },
    {
      "cell_type": "markdown",
      "metadata": {
        "id": "zS4zixR5kpcX"
      },
      "source": [
        "Print cities"
      ],
      "id": "zS4zixR5kpcX"
    },
    {
      "cell_type": "code",
      "metadata": {
        "id": "i7VaAI5SkpcX",
        "outputId": "5829d219-746c-4567-e7c9-d908168c2c33",
        "colab": {
          "base_uri": "https://localhost:8080/"
        }
      },
      "source": [
        "#code here\n",
        "print(cities)\n"
      ],
      "id": "i7VaAI5SkpcX",
      "execution_count": 100,
      "outputs": [
        {
          "output_type": "stream",
          "name": "stdout",
          "text": [
            "('Bangalore', 28.9949521, 72, 'Chennai', 30.01, 74)\n"
          ]
        }
      ]
    },
    {
      "cell_type": "markdown",
      "metadata": {
        "id": "oXs492EmkpcX"
      },
      "source": [
        "Print type of first element in cities"
      ],
      "id": "oXs492EmkpcX"
    },
    {
      "cell_type": "code",
      "metadata": {
        "id": "09lrtqAvkpcX",
        "outputId": "9b835ab4-af2e-481e-8821-d3baa1ec1b21",
        "colab": {
          "base_uri": "https://localhost:8080/"
        }
      },
      "source": [
        "#code here\n",
        "\n",
        "print(type(cities[0]))"
      ],
      "id": "09lrtqAvkpcX",
      "execution_count": 101,
      "outputs": [
        {
          "output_type": "stream",
          "name": "stdout",
          "text": [
            "<class 'str'>\n"
          ]
        }
      ]
    },
    {
      "cell_type": "markdown",
      "metadata": {
        "id": "na1P70SGkpcY"
      },
      "source": [
        "print the type of cities\n"
      ],
      "id": "na1P70SGkpcY"
    },
    {
      "cell_type": "code",
      "metadata": {
        "id": "3l0lToaXkpcY",
        "outputId": "cc0be731-82dd-4f72-8ebc-448bdc8c89cc",
        "colab": {
          "base_uri": "https://localhost:8080/"
        }
      },
      "source": [
        "#code here\n",
        "print(type(cities))\n"
      ],
      "id": "3l0lToaXkpcY",
      "execution_count": 102,
      "outputs": [
        {
          "output_type": "stream",
          "name": "stdout",
          "text": [
            "<class 'tuple'>\n"
          ]
        }
      ]
    },
    {
      "cell_type": "markdown",
      "metadata": {
        "id": "66u3kIwvkpcY"
      },
      "source": [
        "Hey that implies you made a nested tuples!!"
      ],
      "id": "66u3kIwvkpcY"
    },
    {
      "cell_type": "markdown",
      "metadata": {
        "id": "9IPo71RPkpcY"
      },
      "source": [
        "## 4. DICT\n",
        "\n",
        "Reference:-https://www.youtube.com/watch?v=U3e-L1WSSzQ&list=PLsR_0x6BuM-GCc3iD6OQuEZHCAtYPmZfx&index=13\n"
      ],
      "id": "9IPo71RPkpcY"
    },
    {
      "cell_type": "markdown",
      "metadata": {
        "id": "nOnQGy06kpcY"
      },
      "source": [
        "<p style='text-align: right;'> 11 points</p>\n"
      ],
      "id": "nOnQGy06kpcY"
    },
    {
      "cell_type": "markdown",
      "metadata": {
        "id": "_D3WHJsMkpcZ"
      },
      "source": [
        "#### 4.1 Create a dictionary d = {\"actor\":\"amir\",\"animal\":\"cat\",\"earth\":2,\"list\":[23,32,12]}"
      ],
      "id": "_D3WHJsMkpcZ"
    },
    {
      "cell_type": "code",
      "metadata": {
        "id": "nQV3F4cTkpcZ"
      },
      "source": [
        "#code here\n",
        "d = {\"actor\":\"amir\",\"animal\":\"cat\",\"earth\":2,\"list\":[23,32,12]}\n"
      ],
      "id": "nQV3F4cTkpcZ",
      "execution_count": 104,
      "outputs": []
    },
    {
      "cell_type": "markdown",
      "metadata": {
        "id": "9XZ9f0amkpcZ"
      },
      "source": [
        "Print the value of d[0]"
      ],
      "id": "9XZ9f0amkpcZ"
    },
    {
      "cell_type": "code",
      "metadata": {
        "id": "VdZOj0bVkpcZ",
        "outputId": "89cddb37-a897-40b0-8b01-fa1dcb83b6ee",
        "colab": {
          "base_uri": "https://localhost:8080/",
          "height": 182
        }
      },
      "source": [
        "#code here\n",
        "print(d[0])\n"
      ],
      "id": "VdZOj0bVkpcZ",
      "execution_count": 105,
      "outputs": [
        {
          "output_type": "error",
          "ename": "KeyError",
          "evalue": "ignored",
          "traceback": [
            "\u001b[0;31m---------------------------------------------------------------------------\u001b[0m",
            "\u001b[0;31mKeyError\u001b[0m                                  Traceback (most recent call last)",
            "\u001b[0;32m<ipython-input-105-ca7d9023e2b8>\u001b[0m in \u001b[0;36m<module>\u001b[0;34m\u001b[0m\n\u001b[1;32m      1\u001b[0m \u001b[0;31m#code here\u001b[0m\u001b[0;34m\u001b[0m\u001b[0;34m\u001b[0m\u001b[0;34m\u001b[0m\u001b[0m\n\u001b[0;32m----> 2\u001b[0;31m \u001b[0mprint\u001b[0m\u001b[0;34m(\u001b[0m\u001b[0md\u001b[0m\u001b[0;34m[\u001b[0m\u001b[0;36m0\u001b[0m\u001b[0;34m]\u001b[0m\u001b[0;34m)\u001b[0m\u001b[0;34m\u001b[0m\u001b[0;34m\u001b[0m\u001b[0m\n\u001b[0m",
            "\u001b[0;31mKeyError\u001b[0m: 0"
          ]
        }
      ]
    },
    {
      "cell_type": "markdown",
      "metadata": {
        "id": "YnzshYWfkpcZ"
      },
      "source": [
        "<b>Oops!! again an error. again a fun fact. Dictionary return the value for key if key is in the dictionary, else throws KeyError\n",
        "and we don't have key 0 here :( </b>"
      ],
      "id": "YnzshYWfkpcZ"
    },
    {
      "cell_type": "markdown",
      "metadata": {
        "id": "seqtJ3HOkpca"
      },
      "source": [
        "Store the value of d[‘actor’] to a new variable actor."
      ],
      "id": "seqtJ3HOkpca"
    },
    {
      "cell_type": "code",
      "metadata": {
        "id": "Iy-ibjR-kpca",
        "colab": {
          "base_uri": "https://localhost:8080/"
        },
        "outputId": "d0131d1d-0d6e-4c34-fdd3-32a063765651"
      },
      "source": [
        "#code here\n",
        "\n",
        "print(d['actor'])"
      ],
      "id": "Iy-ibjR-kpca",
      "execution_count": 106,
      "outputs": [
        {
          "output_type": "stream",
          "name": "stdout",
          "text": [
            "amir\n"
          ]
        }
      ]
    },
    {
      "cell_type": "markdown",
      "metadata": {
        "id": "3XspSdnykpca"
      },
      "source": [
        "Print the type of actor"
      ],
      "id": "3XspSdnykpca"
    },
    {
      "cell_type": "code",
      "metadata": {
        "id": "PeRcMuYHkpca",
        "outputId": "6cf45f6d-6b52-4e74-bd37-3795f31dad7c",
        "colab": {
          "base_uri": "https://localhost:8080/"
        }
      },
      "source": [
        "#code here\n",
        "print(type(d['actor']))\n"
      ],
      "id": "PeRcMuYHkpca",
      "execution_count": 107,
      "outputs": [
        {
          "output_type": "stream",
          "name": "stdout",
          "text": [
            "<class 'str'>\n"
          ]
        }
      ]
    },
    {
      "cell_type": "markdown",
      "metadata": {
        "id": "MeAKu0Y1kpca"
      },
      "source": [
        "Store the value of d[‘list’] in new variable l. "
      ],
      "id": "MeAKu0Y1kpca"
    },
    {
      "cell_type": "code",
      "metadata": {
        "id": "Z1PS0784kpca"
      },
      "source": [
        "#code here\n",
        "\n",
        "l = d['list']"
      ],
      "id": "Z1PS0784kpca",
      "execution_count": 108,
      "outputs": []
    },
    {
      "cell_type": "markdown",
      "metadata": {
        "id": "2-TgaLwtkpca"
      },
      "source": [
        "Print the type of l. "
      ],
      "id": "2-TgaLwtkpca"
    },
    {
      "cell_type": "code",
      "metadata": {
        "id": "D1LQcCj-kpcb",
        "outputId": "59eff5fe-e1f9-46e1-b737-3b94c55d07b3",
        "colab": {
          "base_uri": "https://localhost:8080/"
        }
      },
      "source": [
        "#code here\n",
        "\n",
        "print(type(l))"
      ],
      "id": "D1LQcCj-kpcb",
      "execution_count": 109,
      "outputs": [
        {
          "output_type": "stream",
          "name": "stdout",
          "text": [
            "<class 'list'>\n"
          ]
        }
      ]
    },
    {
      "cell_type": "markdown",
      "metadata": {
        "id": "YxRwuHH6kpcb"
      },
      "source": [
        "Create d1 = { ‘singer’ : ‘Kr$na’ , ‘album’: ‘Still here’, ‘genre’ : ‘hip-hop’}"
      ],
      "id": "YxRwuHH6kpcb"
    },
    {
      "cell_type": "code",
      "metadata": {
        "id": "VZBmqqDvkpcb"
      },
      "source": [
        "#code here\n",
        "d1 = { 'singer': 'Kr$na' , 'album': 'Still here', 'genre' : 'hip-hop'}\n"
      ],
      "id": "VZBmqqDvkpcb",
      "execution_count": 110,
      "outputs": []
    },
    {
      "cell_type": "markdown",
      "metadata": {
        "id": "tZ2jSPPRkpcb"
      },
      "source": [
        "Merge d1 into d."
      ],
      "id": "tZ2jSPPRkpcb"
    },
    {
      "cell_type": "code",
      "metadata": {
        "id": "ydfvA3s4kpcb"
      },
      "source": [
        "#code here\n",
        "\n",
        "d = {**d,**d1}"
      ],
      "id": "ydfvA3s4kpcb",
      "execution_count": 111,
      "outputs": []
    },
    {
      "cell_type": "markdown",
      "metadata": {
        "id": "GNNBXz-Pkpcb"
      },
      "source": [
        "print d"
      ],
      "id": "GNNBXz-Pkpcb"
    },
    {
      "cell_type": "code",
      "metadata": {
        "id": "fZ_SizwPkpcc",
        "outputId": "4011cdf7-d18a-48b1-fbcc-2f3d9854480d",
        "colab": {
          "base_uri": "https://localhost:8080/"
        }
      },
      "source": [
        "#code here\n",
        "print(d)\n"
      ],
      "id": "fZ_SizwPkpcc",
      "execution_count": 112,
      "outputs": [
        {
          "output_type": "stream",
          "name": "stdout",
          "text": [
            "{'actor': 'amir', 'animal': 'cat', 'earth': 2, 'list': [23, 32, 12], 'singer': 'Kr$na', 'album': 'Still here', 'genre': 'hip-hop'}\n"
          ]
        }
      ]
    },
    {
      "cell_type": "markdown",
      "metadata": {
        "id": "bkjF0mNckpcc"
      },
      "source": [
        "Print all the keys in d"
      ],
      "id": "bkjF0mNckpcc"
    },
    {
      "cell_type": "code",
      "metadata": {
        "id": "RgTiM-1Gkpcc",
        "outputId": "3dc7914b-dda8-46eb-8a86-24c45d7284f4",
        "colab": {
          "base_uri": "https://localhost:8080/"
        }
      },
      "source": [
        "#code here\n",
        "\n",
        "for i in d:\n",
        "  print(i)"
      ],
      "id": "RgTiM-1Gkpcc",
      "execution_count": 113,
      "outputs": [
        {
          "output_type": "stream",
          "name": "stdout",
          "text": [
            "actor\n",
            "animal\n",
            "earth\n",
            "list\n",
            "singer\n",
            "album\n",
            "genre\n"
          ]
        }
      ]
    },
    {
      "cell_type": "markdown",
      "metadata": {
        "id": "HeqJs6sfkpcc"
      },
      "source": [
        "Print all the values in d"
      ],
      "id": "HeqJs6sfkpcc"
    },
    {
      "cell_type": "code",
      "metadata": {
        "id": "lS9DRpPZkpcc",
        "outputId": "224ac9bf-8a8c-4a7c-ed2b-af6cc92d42bc",
        "colab": {
          "base_uri": "https://localhost:8080/"
        }
      },
      "source": [
        "#code here\n",
        "print(d.values())\n"
      ],
      "id": "lS9DRpPZkpcc",
      "execution_count": 115,
      "outputs": [
        {
          "output_type": "stream",
          "name": "stdout",
          "text": [
            "dict_values(['amir', 'cat', 2, [23, 32, 12], 'Kr$na', 'Still here', 'hip-hop'])\n"
          ]
        }
      ]
    },
    {
      "cell_type": "markdown",
      "metadata": {
        "id": "AvMDYUh2kpcc"
      },
      "source": [
        "Iterate over d, and print each key, value pair as given in output"
      ],
      "id": "AvMDYUh2kpcc"
    },
    {
      "cell_type": "code",
      "metadata": {
        "id": "UIGPHLApkpcd",
        "outputId": "b75a867f-95d0-4003-850b-bd7c8bfa6231",
        "colab": {
          "base_uri": "https://localhost:8080/"
        }
      },
      "source": [
        "#code here\n",
        "for i in d.items():\n",
        "  print(i)\n"
      ],
      "id": "UIGPHLApkpcd",
      "execution_count": 116,
      "outputs": [
        {
          "output_type": "stream",
          "name": "stdout",
          "text": [
            "('actor', 'amir')\n",
            "('animal', 'cat')\n",
            "('earth', 2)\n",
            "('list', [23, 32, 12])\n",
            "('singer', 'Kr$na')\n",
            "('album', 'Still here')\n",
            "('genre', 'hip-hop')\n"
          ]
        }
      ]
    },
    {
      "cell_type": "markdown",
      "metadata": {
        "id": "sHcM8rF0kpcd"
      },
      "source": [
        "\n",
        "Create a string, sent = ‘Coronavirus Caused Lockdowns Around The World.”\n",
        "\n",
        "Count the number of occurences of charachters in string named \"sent\" using dictionary and print the same.\n"
      ],
      "id": "sHcM8rF0kpcd"
    },
    {
      "cell_type": "code",
      "metadata": {
        "id": "DmpLDa2vkpcd",
        "outputId": "bb95b8b4-536e-4385-dcfb-e51b49e7db02",
        "colab": {
          "base_uri": "https://localhost:8080/",
          "height": 235
        }
      },
      "source": [
        "#code here\n",
        "sent = 'Coronavirus Caused Lockdowns Around The World.'\n",
        "f = dict()\n",
        "for c in sent():\n",
        "  f[c] = f.get(c,0) + 1\n",
        "print(f)\n",
        "\n",
        "\n"
      ],
      "id": "DmpLDa2vkpcd",
      "execution_count": 117,
      "outputs": [
        {
          "output_type": "error",
          "ename": "TypeError",
          "evalue": "ignored",
          "traceback": [
            "\u001b[0;31m---------------------------------------------------------------------------\u001b[0m",
            "\u001b[0;31mTypeError\u001b[0m                                 Traceback (most recent call last)",
            "\u001b[0;32m<ipython-input-117-08a3bf0bae83>\u001b[0m in \u001b[0;36m<module>\u001b[0;34m\u001b[0m\n\u001b[1;32m      2\u001b[0m \u001b[0msent\u001b[0m \u001b[0;34m=\u001b[0m \u001b[0;34m'Coronavirus Caused Lockdowns Around The World.'\u001b[0m\u001b[0;34m\u001b[0m\u001b[0;34m\u001b[0m\u001b[0m\n\u001b[1;32m      3\u001b[0m \u001b[0mf\u001b[0m \u001b[0;34m=\u001b[0m \u001b[0mdict\u001b[0m\u001b[0;34m(\u001b[0m\u001b[0;34m)\u001b[0m\u001b[0;34m\u001b[0m\u001b[0;34m\u001b[0m\u001b[0m\n\u001b[0;32m----> 4\u001b[0;31m \u001b[0;32mfor\u001b[0m \u001b[0mc\u001b[0m \u001b[0;32min\u001b[0m \u001b[0msent\u001b[0m\u001b[0;34m(\u001b[0m\u001b[0;34m)\u001b[0m\u001b[0;34m:\u001b[0m\u001b[0;34m\u001b[0m\u001b[0;34m\u001b[0m\u001b[0m\n\u001b[0m\u001b[1;32m      5\u001b[0m   \u001b[0mf\u001b[0m\u001b[0;34m[\u001b[0m\u001b[0mc\u001b[0m\u001b[0;34m]\u001b[0m \u001b[0;34m=\u001b[0m \u001b[0mf\u001b[0m\u001b[0;34m.\u001b[0m\u001b[0mget\u001b[0m\u001b[0;34m(\u001b[0m\u001b[0mc\u001b[0m\u001b[0;34m,\u001b[0m\u001b[0;36m0\u001b[0m\u001b[0;34m)\u001b[0m \u001b[0;34m+\u001b[0m \u001b[0;36m1\u001b[0m\u001b[0;34m\u001b[0m\u001b[0;34m\u001b[0m\u001b[0m\n\u001b[1;32m      6\u001b[0m \u001b[0mprint\u001b[0m\u001b[0;34m(\u001b[0m\u001b[0mf\u001b[0m\u001b[0;34m)\u001b[0m\u001b[0;34m\u001b[0m\u001b[0;34m\u001b[0m\u001b[0m\n",
            "\u001b[0;31mTypeError\u001b[0m: 'str' object is not callable"
          ]
        }
      ]
    },
    {
      "cell_type": "markdown",
      "metadata": {
        "id": "b-ESQmrKkpcd"
      },
      "source": [
        "# --------------------------------------------------------------------"
      ],
      "id": "b-ESQmrKkpcd"
    },
    {
      "cell_type": "markdown",
      "metadata": {
        "id": "dxIz_yvZkpcd"
      },
      "source": [
        "# Hurray!! Second milestone completed. The next challenge is waiting for you :)\n",
        "\n",
        "# --------------------------------------------------------------------\n",
        "\n",
        "-----------------\n",
        "# FeedBack\n",
        "We hope you’ve enjoyed this course so far. We’re committed to help you use \"AI for All\" course to its full potential, so that you have a great learning experience. And that’s why we need your help in form of a feedback here.\n",
        "\n",
        "Please fill this feedback form  https://zfrmz.in/MtRG5oWXBdesm6rmSM7N"
      ],
      "id": "dxIz_yvZkpcd"
    }
  ]
}